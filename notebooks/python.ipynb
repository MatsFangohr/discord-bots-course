{
 "cells": [
  {
   "cell_type": "markdown",
   "metadata": {},
   "source": [
    "# Discord-Bots mit Python - Python\n",
    "\n",
    "Ein interaktives Inhaltsverzeichnis kann auf Binder ganz links in der Leiste ausgewählt werden. Andere Jupyter-Viewer sollten auch eine solche Funktion haben."
   ]
  },
  {
   "cell_type": "markdown",
   "metadata": {},
   "source": [
    "---\n",
    "## Anfänge\n",
    "\n",
    "### print()\n",
    "\n",
    "Mit dem Befehl `print()` können wir uns Vieles \"ausdrucken\" lassen. Wir müssen nur das in die Klammern setzen, was ausgedruckt werden soll. Außerdem brauchen wir doppelte Anführungszeichen.\n",
    "\n",
    "Um den Code unter diesem Satz auszuführen, musst du nur ihr mit der Maus auswählen und SHIFT + ENTER gleichzeitig drücken."
   ]
  },
  {
   "cell_type": "code",
   "execution_count": null,
   "metadata": {},
   "outputs": [],
   "source": [
    "print(\"Hallo!\")\n",
    "print(\"123\")\n",
    "print(\"test test\")"
   ]
  },
  {
   "cell_type": "markdown",
   "metadata": {},
   "source": [
    "---\n",
    "\n",
    "### Das jupyter-Notebook\n",
    "\n",
    "Diese Datei ist ein sogenanntes jupyter-Notebook.\n",
    "\n",
    "Es hat den Vorteil, dass man formattieren Text, wie hier, direkt neben Code haben kann. Den Code kann man leicht ausführen und sogar verändern! \n",
    "\n",
    "Hier ist nochmal das `print`-Beispiel von eben - versuche mal, den Text in den Anführungsstrichen zu verändern und dann auszuführen (SHIFT + ENTER). "
   ]
  },
  {
   "cell_type": "code",
   "execution_count": null,
   "metadata": {},
   "outputs": [],
   "source": [
    "print(\"Hallo!\")\n",
    "print(\"123\")\n",
    "print(\"test test\")"
   ]
  },
  {
   "cell_type": "markdown",
   "metadata": {},
   "source": [
    "---\n",
    "---\n",
    "\n",
    "## Datentypen\n",
    "\n",
    "### Strings\n",
    "\n",
    "\n",
    "Ein String (str) ist eine Buchstaben- und Zeichenfolge. Er wird mit Anführungzeichen (' oder \") angegeben. \n",
    "\n",
    "Es ist egal, ob man ' oder \" benutzt. Ich finde \" schöner, aber Python unterscheidet in den meisten Fällen nicht zwischen den beiden Möglichkeiten.\n",
    "\n",
    "Beispiele:"
   ]
  },
  {
   "cell_type": "code",
   "execution_count": null,
   "metadata": {},
   "outputs": [],
   "source": [
    "\"Ich bin ein String.\"\n",
    "\"Ich bin eine Reihe aus Buchstaben.\""
   ]
  },
  {
   "cell_type": "markdown",
   "metadata": {},
   "source": [
    "Strings kann man auch Namen geben. Sie heißen dann Variablen:"
   ]
  },
  {
   "cell_type": "code",
   "execution_count": null,
   "metadata": {},
   "outputs": [],
   "source": [
    "schule = \"Johann-Rist-Gymnasium\"\n",
    "print(schule)"
   ]
  },
  {
   "cell_type": "markdown",
   "metadata": {},
   "source": [
    "Man kann sie sogar zusammenaddieren:"
   ]
  },
  {
   "cell_type": "code",
   "execution_count": null,
   "metadata": {},
   "outputs": [],
   "source": [
    "schule = \"Johann-Rist-Gymnasium\" + \"Wedel\"\n",
    "print(schule)"
   ]
  },
  {
   "cell_type": "markdown",
   "metadata": {},
   "source": [
    "oder auch gleich mit Namen:"
   ]
  },
  {
   "cell_type": "code",
   "execution_count": null,
   "metadata": {},
   "outputs": [],
   "source": [
    "schule = \"Johann-Rist-Gymnasium\"\n",
    "ort = \"Wedel\"\n",
    "schule_mit_ort = schule + ort\n",
    "print(schule_mit_ort)"
   ]
  },
  {
   "cell_type": "markdown",
   "metadata": {},
   "source": [
    "Das hat zwar funktioniert, aber am schönsten wird es, wenn man die beiden Ansätze kombiniert:"
   ]
  },
  {
   "cell_type": "code",
   "execution_count": null,
   "metadata": {},
   "outputs": [],
   "source": [
    "schule = \"Johann-Rist-Gymnasium\"\n",
    "ort = \"Wedel\"\n",
    "schule_mit_ort = schule + \",\" + ort\n",
    "print(schule_mit_ort)"
   ]
  },
  {
   "cell_type": "markdown",
   "metadata": {},
   "source": [
    "Jetzt haben wir kein Leerzeichen nach dem Komma. Kannst du den Code so verändern, dass da eins ist?"
   ]
  },
  {
   "cell_type": "code",
   "execution_count": null,
   "metadata": {},
   "outputs": [],
   "source": [
    "schule = \"Johann-Rist-Gymnasium\"\n",
    "ort = \"Wedel\"\n",
    "schule_mit_ort = schule + \",\" + ort\n",
    "print(schule_mit_ort)"
   ]
  },
  {
   "cell_type": "markdown",
   "metadata": {},
   "source": [
    "Sehr schön. Wie könnte man das Programm oben so bearbeiten, dass ein Leerziechen zwischen `Gymnasium` und `Wedel` entsteht?\n",
    "\n",
    "---\n",
    "#### `len`\n",
    "Mit dem Befehl `len` können wir die Länge eines Strings (in Buchstaben) bestimmen. Das geht so:"
   ]
  },
  {
   "cell_type": "code",
   "execution_count": null,
   "metadata": {},
   "outputs": [],
   "source": [
    "schule = \"Johann-Rist-Gymnasium\"\n",
    "länge_der_variable = len(schule)\n",
    "print(länge_der_variable)"
   ]
  },
  {
   "cell_type": "markdown",
   "metadata": {},
   "source": [
    "Wir können diesen Code vereinfachen, indem wir die Variable `länge_der_variable` auslassen. Dazu setzen wir den `len`-Befehl gleich in den `print`-Befehl.\n",
    "\n",
    "Das sieht dann so aus:"
   ]
  },
  {
   "cell_type": "code",
   "execution_count": null,
   "metadata": {},
   "outputs": [],
   "source": [
    "schule = \"Johann-Rist-Gymnasium\"\n",
    "print(len(schule))"
   ]
  },
  {
   "cell_type": "markdown",
   "metadata": {},
   "source": [
    "`\"Johann-Rist-Gymnasium\"` hat also 21 Buchstaben.\n",
    "\n",
    "---\n",
    "\n",
    "### Integer\n",
    "\n",
    "Es gibt aber nicht nur Buchstaben, sondern auch Zahlen. Dafür sind die Integer da. Sie können zwar nur ganze Zahlen sein, reichen jedoch für uns erstmal aus.\n",
    "\n",
    "Viel von dem, was für Strings gilt, gilt auch für Integer:"
   ]
  },
  {
   "cell_type": "code",
   "execution_count": null,
   "metadata": {},
   "outputs": [],
   "source": [
    "zahl = 7\n",
    "print(zahl)"
   ]
  },
  {
   "cell_type": "code",
   "execution_count": null,
   "metadata": {},
   "outputs": [],
   "source": [
    "a = 4\n",
    "b = 8\n",
    "zahl = a + b\n",
    "print(zahl)"
   ]
  },
  {
   "cell_type": "markdown",
   "metadata": {},
   "source": [
    "Bei Zahlen kann man aber auch andere Rechenoperationen durchführen:\n",
    "\n",
    "\n",
    "plus (+)  \n",
    "minus (-)  \n",
    "mal (*)  \n",
    "geteilt (/)  \n",
    "hoch (**)  \n",
    "\n",
    "Versuche mal, diese sogenannten Operatoren hier anzuwenden:"
   ]
  },
  {
   "cell_type": "code",
   "execution_count": null,
   "metadata": {},
   "outputs": [],
   "source": [
    "a = 8\n",
    "b = 2\n",
    "print()  # versuche hier selber, zahl1 und zahl2 zusammenzuaddieren\n",
    "print()  # kannst du sie auch voneinander abziehen?\n",
    "print()  # oder miteinander multiplizieren?\n",
    "print()  # oder vielleicht doch durcheinander dividieren?\n",
    "print()  # oder eventuell a hoch b nehmen?\n"
   ]
  },
  {
   "cell_type": "markdown",
   "metadata": {},
   "source": [
    "Und, kamen die erwarteten Ergebnisse heraus? \n",
    "\n",
    "Es gibt auch noch den Modulo-Operator `%`. Mit ihm kann man den Rest bestimmen. Das sieht man am Besten an Beispielen:"
   ]
  },
  {
   "cell_type": "code",
   "execution_count": null,
   "metadata": {},
   "outputs": [],
   "source": [
    "print(2 % 2)  # Rest von 2 / 2\n",
    "\n",
    "print(5 % 2)  # Rest von 5 / 2\n",
    "\n",
    "print(10 % 3)  # Rest von 10 / 3"
   ]
  },
  {
   "cell_type": "markdown",
   "metadata": {},
   "source": [
    "Sehr gut, dann funktionieren Zahlen auch schonmal. Doch was ist, wenn wir beide zusammen haben wollen?\n",
    "\n",
    "---\n",
    "\n",
    "### Umwandlungen\n",
    "\n",
    "Probieren wir mal, einen String und einen Integer zusammen auszudrucken:"
   ]
  },
  {
   "cell_type": "code",
   "execution_count": null,
   "metadata": {},
   "outputs": [],
   "source": [
    "alter = 16\n",
    "print(\"Ich bin \" + alter + \" Jahre alt\")"
   ]
  },
  {
   "cell_type": "markdown",
   "metadata": {},
   "source": [
    "Aha! Unsere erste Fehlermeldung. Oben wird angezeigt, wo der Fehler aufgetreten ist, in der Mitte links zeigt der Pfeil an, in welcher Zeile der Fehler eingetreten ist und ganz unten ist eine kurze Beschreibung: `can only concatenate str (not \"int\") to str`.\n",
    "\n",
    "Wenn wir wissen, dass `concatenate` das `+` beschreibt, dann steht da auf Deutsch: \"kann nur Strings (nicht Integer) zu Strings kombinieren\".\n",
    "\n",
    "Unser Integer (alter) muss also noch zu einem String werden, damit wir ihn ausdrucken können. Das geht so:"
   ]
  },
  {
   "cell_type": "code",
   "execution_count": null,
   "metadata": {},
   "outputs": [],
   "source": [
    "alter = 7\n",
    "print(\"Ich bin \" + str(alter) + \" Jahre alt\")"
   ]
  },
  {
   "cell_type": "markdown",
   "metadata": {},
   "source": [
    "Um Strings zu Integern zu machen, können wir dasselbe mit `int()` machen. Hier ist kaputter Code; versuche mal, ihn zu reparieren, ohne die erste Zeile zu verändern."
   ]
  },
  {
   "cell_type": "code",
   "execution_count": null,
   "metadata": {},
   "outputs": [],
   "source": [
    "alter = \"15\"\n",
    "alter_in_vier_jahren = alter + 4\n",
    "print(alter_in_vier_jahren)"
   ]
  },
  {
   "cell_type": "markdown",
   "metadata": {},
   "source": [
    "---\n",
    "### Booleans\n",
    "\n",
    "Manchmal braucht man einen Wert für Wahr oder einen für Falsch. Da könnte man 0 oder 1 benuzten, aber das ist irgendwie undeutlich. Deshalb hat Python die Werte `True` und `False`. Diese sind besonders, sie brauchen auch keine Anführungszeichen."
   ]
  },
  {
   "cell_type": "code",
   "execution_count": null,
   "metadata": {},
   "outputs": [],
   "source": [
    "unser_boolean = False\n",
    "\n",
    "print(unser_boolean)"
   ]
  },
  {
   "cell_type": "markdown",
   "metadata": {},
   "source": [
    "Python kann mit dem `bool`-Befehl andere Datentypen zu String umwandeln. Bei Integern ist `0` `False` und alles andere `True`. Bei Strings sind leere Strings (`\"\"`) `False` und alles andere `True`."
   ]
  },
  {
   "cell_type": "code",
   "execution_count": null,
   "metadata": {},
   "outputs": [],
   "source": [
    "print(bool(0))\n",
    "print(bool(1))\n",
    "print(bool(23453847573948573498573))"
   ]
  },
  {
   "cell_type": "code",
   "execution_count": null,
   "metadata": {},
   "outputs": [],
   "source": [
    "print(bool(\"\"))\n",
    "print(bool(\"test test\"))\n",
    "print(bool(\" \"))\n",
    "print(\n",
    "    bool(\"False\")\n",
    ")  # beachte: Python sieht \"False\" nicht als False, sondern als String!"
   ]
  },
  {
   "cell_type": "markdown",
   "metadata": {},
   "source": [
    "---\n",
    "### f-Strings\n",
    "\n",
    "Es gibt auch einen anderen Weg, Daten in Strings einzufügen. Dazu schreiben wir ein `f` vor das erste Anführungszeichen und fügen die Werte mit `{wert}` ein. Beispiel:"
   ]
  },
  {
   "cell_type": "code",
   "execution_count": null,
   "metadata": {},
   "outputs": [],
   "source": [
    "vorname = \"Mats\"\n",
    "nachname = \"Fangohr\"\n",
    "alter = 16\n",
    "print(f\"Hallo {vorname} {nachname}, du bist {alter} Jahre alt.\")"
   ]
  },
  {
   "cell_type": "markdown",
   "metadata": {},
   "source": [
    "Probiere es auch mal selber:"
   ]
  },
  {
   "cell_type": "code",
   "execution_count": null,
   "metadata": {},
   "outputs": [],
   "source": [
    "schule = \"\"\n",
    "klasse = \"\"\n",
    "print() # erwartetes Ergebis: \"Ich gehe am Johann-Rist-Gymnasium in die Klasse 5a.\""
   ]
  },
  {
   "cell_type": "markdown",
   "metadata": {},
   "source": [
    "---\n",
    "\n",
    "### `type`\n",
    "\n",
    "Mit dem Befehl `type` kann man den Typ eines Objektes bestimmen. Bei einem Integer kommt dann `int`, bei einem String `str`."
   ]
  },
  {
   "cell_type": "code",
   "execution_count": null,
   "metadata": {},
   "outputs": [],
   "source": [
    "print(type(\"Ich bin ein String.\"))\n",
    "print(type(1234567890))\n",
    "print(type(True))\n",
    "print(type(\"True\"))"
   ]
  },
  {
   "cell_type": "markdown",
   "metadata": {},
   "source": [
    "---\n",
    "---\n",
    "\n",
    "## Weiteres\n",
    "\n",
    "### Kommentare\n",
    "\n",
    "Im Code habt ihr vielleicht schon grünen Text oder ein # gesehen. Dies ist ein sogenannter Kommentar. Sobald in einer Zeile ein Hashtag vorkommt, ignoriert Python den Rest der Zeile.  \n",
    "So konnte ich in einigen Code-Blöcken den Text mit dem erwarteten Ergebnis einfügen.\n",
    "\n",
    "Man benutzt sie häufig, um mehr Informationen in den Code einzufügen, sodass man ihn besser lesen kann oder sodass man besser Sachen erklären kann.\n",
    "\n",
    "Man kann Kommentare auch dazu benutzen, Code, den man gerade nicht benutzen will, zu deaktivieren ohne ihn zu löschen. \n",
    "\n",
    "Im Codeblock unten wird eine Variable zwei Mal ausgedruckt. Kommentiere Teile des Codes aus ohne ihn zu löschen, sodass die Variable nur ein Mal ausgedruckt wird."
   ]
  },
  {
   "cell_type": "code",
   "execution_count": null,
   "metadata": {},
   "outputs": [],
   "source": [
    "name = \"Rasmus\"\n",
    "print(name)\n",
    "print(name)"
   ]
  },
  {
   "cell_type": "markdown",
   "metadata": {},
   "source": [
    "---\n",
    "\n",
    "### `None`\n",
    "\n",
    "In Python gibt es wie bei `True` und `False` ein besonderes Objekt, was man benutzen kann, wenn etwas keinen Wert haben soll: `None`.\n",
    "\n",
    "In diesem Kurs benutze ich es meistens dann, wenn man zur Übung dort was anderes einfüllen kann.\n",
    "\n",
    "Hier ein Beispiel:"
   ]
  },
  {
   "cell_type": "code",
   "execution_count": null,
   "metadata": {},
   "outputs": [],
   "source": [
    "ganz_tolle_variable = None\n",
    "print(ganz_tolle_variable)"
   ]
  },
  {
   "cell_type": "markdown",
   "metadata": {},
   "source": [
    "Bemerke, dass man `None` auch nur ohne Anführungszeichen benutzen sollte.\n",
    "\n",
    "Wenn `None` alleine steht, ist es ein sogenanntes `NoneType`. Mit Anführungszeichen wird `\"None\"` aber zu einem `String`. Dies können wir mit der `type`-Funktion überprüfen:"
   ]
  },
  {
   "cell_type": "code",
   "execution_count": null,
   "metadata": {},
   "outputs": [],
   "source": [
    "print(type(None))"
   ]
  },
  {
   "cell_type": "code",
   "execution_count": null,
   "metadata": {},
   "outputs": [],
   "source": [
    "print(type(\"None\"))"
   ]
  },
  {
   "cell_type": "markdown",
   "metadata": {},
   "source": [
    "Dies liegt daran, dass `\"None\"` für Python gar nicht besonders ist - es ist einfach nur ein String. `None` alleine ist jedoch ganz bedeutend."
   ]
  },
  {
   "cell_type": "markdown",
   "metadata": {},
   "source": [
    "---\n",
    "### `pass`\n",
    "\n",
    "`pass` ist ein Begriff in Python, den man benutzen kann, wenn nichts passieren soll. Ihr werdet ihn meistens in Beispielaufgaben sehen, wenn irgendwas irgendwo stehen soll, aber nichts passieren soll. Das wird dann schon klar, was damit gemeint ist. Wisst einfach, dass man es ohne Sorge entfernen kann, solange man stattdessen irgendwas anderes dahinschreibt."
   ]
  },
  {
   "cell_type": "code",
   "execution_count": null,
   "metadata": {},
   "outputs": [],
   "source": [
    "pass # macht gar nichts!"
   ]
  },
  {
   "cell_type": "markdown",
   "metadata": {},
   "source": [
    "---\n",
    "---\n",
    "## `if`-Statements\n",
    "\n",
    "Manchmal müssen verschiedene Sachen je nach Bedingung passieren. Dazu benuzten wir die sogenannten `if`-Statements. Ein Beispiel sähe vielleicht so aus:"
   ]
  },
  {
   "cell_type": "code",
   "execution_count": null,
   "metadata": {},
   "outputs": [],
   "source": [
    "zahl1 = 3\n",
    "zahl2 = 7\n",
    "\n",
    "if zahl1 > zahl2:\n",
    "    print(\"zahl1 ist größer!\")\n",
    "\n",
    "if zahl2 > zahl1:\n",
    "    print(\"zahl2 ist größer!\")"
   ]
  },
  {
   "cell_type": "markdown",
   "metadata": {},
   "source": [
    "Dabei ist es sehr wichtig, dass der Doppelpunkt am Ende der `if`-Zeile nicht vergessen wird.  \n",
    "Außerdem muss alles, was geschehen soll, wenn die Bedingung stimmt, eingerückt werden.\n",
    "\n",
    "Der Programmiersprache Python ist es relativ egal, wie genau man das einrückt, solange es einheitlich ist. Mann kann Tabs (\t) oder Leerzeichen (    ) benutzen und die Menge darf man auch entscheiden. Typischerweise nimmt man aber einen Tab oder 4 Leerzeichen. Das gilt auch für andere Situationen, in denen wir Code einrücken möchten.\n",
    "\n",
    "\n",
    "\n",
    "Wir haben verschiedene Möglichkeiten, Bedingungen aufzustellen:\n",
    "\n",
    "`a > b` (a größer als b)  \n",
    "`a < b` (a kleiner als b)  \n",
    "`a == b` (a ist gleich b; es müssen zwei Gleichheitszeichen sein!)  \n",
    "`a >= b` (a größer oder gleich b)  \n",
    "`a <= b` (a kleiner oder gleich b)  "
   ]
  },
  {
   "cell_type": "markdown",
   "metadata": {},
   "source": [
    "Hier nochmal das Beispiel von oben. Kannst du ein weiteres `if` ergänzen, sodass wenn `zahl1` und `zahl2` beide gleich sind, auch eine Nachricht ausgedruckt wird?"
   ]
  },
  {
   "cell_type": "code",
   "execution_count": null,
   "metadata": {},
   "outputs": [],
   "source": [
    "zahl1 = 5\n",
    "zahl2 = 5\n",
    "\n",
    "if zahl1 > zahl2:\n",
    "    print(\"zahl1 ist größer!\")\n",
    "\n",
    "if zahl2 > zahl1:\n",
    "    print(\"zahl2 ist größer!\")"
   ]
  },
  {
   "cell_type": "markdown",
   "metadata": {},
   "source": [
    "Wenn man zwei Bedingungen hat, die beide wahr sein sollen, könnte man zwei `if`s ineinnander schreiben:"
   ]
  },
  {
   "cell_type": "code",
   "execution_count": null,
   "metadata": {},
   "outputs": [],
   "source": [
    "zahl1 = 5\n",
    "zahl2 = 3\n",
    "\n",
    "if zahl1 > zahl2:\n",
    "    if zahl1 > 4:\n",
    "        print(\"zahl1 ist toll\")"
   ]
  },
  {
   "cell_type": "markdown",
   "metadata": {},
   "source": [
    "Doch Python hat auch andere Wege, das zu machen. Wir sagen einfach `and`."
   ]
  },
  {
   "cell_type": "code",
   "execution_count": null,
   "metadata": {},
   "outputs": [],
   "source": [
    "zahl1 = 5\n",
    "zahl2 = 3\n",
    "\n",
    "if zahl1 > zahl2 and zahl1 > 4:\n",
    "    print(\"zahl1 ist toll\")"
   ]
  },
  {
   "cell_type": "markdown",
   "metadata": {},
   "source": [
    "Wenn wir zwei Bedingungen haben, von denen mindestens eine wahr sein soll, können wir `or` sagen:"
   ]
  },
  {
   "cell_type": "code",
   "execution_count": null,
   "metadata": {},
   "outputs": [],
   "source": [
    "zahl1 = 3\n",
    "zahl2 = 1\n",
    "\n",
    "if zahl1 > zahl2 or zahl1 > 4:\n",
    "    print(\"zahl1 ist nur ein bisschen toll\")"
   ]
  },
  {
   "cell_type": "markdown",
   "metadata": {},
   "source": [
    "Wir müssen aber auch ein bisschen vorsichtig sein. Beide Bedingungen müssen auch alleine stehen können. Sonst funktionert es nicht:"
   ]
  },
  {
   "cell_type": "code",
   "execution_count": 31,
   "metadata": {},
   "outputs": [],
   "source": [
    "zahl = 0\n",
    "\n",
    "if zahl == 1 or 0:\n",
    "    print(\"zahl ist 1 oder 0\")"
   ]
  },
  {
   "cell_type": "markdown",
   "metadata": {},
   "source": [
    "Das liegt daran, dass Python versucht, die beiden Seiten getrennt voneinander zu bestimmen. Python sieht also:\n",
    "`(zahl == 1) oder (0)`. Da 0 alleine keine Bedingung ist, versucht Python daraus eine zu erstellen und endet mit Falsch. Stattdessen müsste man das hier machen:"
   ]
  },
  {
   "cell_type": "code",
   "execution_count": null,
   "metadata": {},
   "outputs": [],
   "source": [
    "zahl = 0\n",
    "\n",
    "if zahl == 1 or zahl == 0:\n",
    "    print(\"zahl ist 1 oder 0\")"
   ]
  },
  {
   "cell_type": "markdown",
   "metadata": {},
   "source": [
    "---\n",
    "### else\n",
    "\n",
    "Jetzt können wir Bedingungen aufstellen. Doch was ist, wenn wir eine andere Aktion durchführen wollen, wenn sie nicht erfüllt wird?"
   ]
  },
  {
   "cell_type": "code",
   "execution_count": null,
   "metadata": {},
   "outputs": [],
   "source": [
    "eingabe = 1234\n",
    "richtiger_pin_code = 2468\n",
    "\n",
    "if eingabe == richtiger_pin_code:\n",
    "    print(\"Der PIN ist richtig!\")\n",
    "else:\n",
    "    print(\"Der PIN ist falsch.\")"
   ]
  },
  {
   "cell_type": "markdown",
   "metadata": {},
   "source": [
    "Auch hier sind der Doppelpunkt und die 4 Leerzeichen zum Einrücken wichtig."
   ]
  },
  {
   "cell_type": "markdown",
   "metadata": {},
   "source": [
    "---\n",
    "### elif\n",
    "\n",
    "Manchmal kommt es vor, dass man einige `if`-`else`-Statements hintereinander hat. In solchen Fällen könnte man so schreiben:"
   ]
  },
  {
   "cell_type": "code",
   "execution_count": null,
   "metadata": {},
   "outputs": [],
   "source": [
    "dein_alter = 1\n",
    "\n",
    "if dein_alter == 1:\n",
    "    print(\"Du bist 1 Jahre alt!\")\n",
    "else:\n",
    "    if dein_alter == 2:\n",
    "        print(\"Du bist 2 Jahre alt!\")\n",
    "    else:\n",
    "        if dein_alter == 3:\n",
    "            print(\"Du bist 3 Jahre alt!\")\n",
    "        else:\n",
    "            if dein_alter == 4:\n",
    "                print(\"Du bist 4 Jahre alt!\")\n",
    "            # usw..."
   ]
  },
  {
   "cell_type": "markdown",
   "metadata": {},
   "source": [
    "Mal abgesehen von der Tatsache, dass solcher Code ziemlich ineffizient ist, gibt es auch eine kompaktere Lösung. Wenn man `else` und `if` kombinieren möchte, kann man auch `elif` benutzen."
   ]
  },
  {
   "cell_type": "code",
   "execution_count": null,
   "metadata": {},
   "outputs": [],
   "source": [
    "dein_alter = 1\n",
    "\n",
    "if dein_alter == 1:\n",
    "    print(\"Du bist 1 Jahre alt!\")\n",
    "elif dein_alter == 2:\n",
    "    print(\"Du bist 2 Jahre alt!\")\n",
    "elif dein_alter == 3:\n",
    "    print(\"Du bist 3 Jahre alt!\")\n",
    "elif dein_alter == 4:\n",
    "    print(\"Du bist 4 Jahre alt!\")\n",
    "# usw..."
   ]
  },
  {
   "cell_type": "markdown",
   "metadata": {},
   "source": [
    "Weißt du, warum der obige Code ineffizient ist? Wie könnte man das Alter besser ausdrucken?\n",
    "\n",
    "<details>\n",
    "<summary>Tipp:</summary>\n",
    "Vielleicht kann man die `f`-Strings gebrauchen?\n",
    "</details>\n"
   ]
  },
  {
   "cell_type": "code",
   "execution_count": null,
   "metadata": {},
   "outputs": [],
   "source": [
    "dein_alter = 10\n",
    "\n",
    "print()"
   ]
  },
  {
   "cell_type": "markdown",
   "metadata": {},
   "source": [
    "---\n",
    "\n",
    "### Übung\n",
    "\n",
    "Kannst du das Programm unten so verändern, dass es mit `print` herausgibt, ob eine Person mit dem angegebenen Alter bei der Landtagswahl in SH abstimmen darf? Dafür muss man 16 sein."
   ]
  },
  {
   "cell_type": "code",
   "execution_count": null,
   "metadata": {},
   "outputs": [],
   "source": [
    "alter = 15\n",
    "\n",
    "# dein Code hier\n",
    "\n"
   ]
  },
  {
   "cell_type": "markdown",
   "metadata": {},
   "source": [
    "In dem Programm unten sind die Länge und Breite von einem Rechteck angegeben. Kannst du ein Programm schreiben, dass prüft, ob das Rechteck ein Quadrat ist?"
   ]
  },
  {
   "cell_type": "code",
   "execution_count": null,
   "metadata": {},
   "outputs": [],
   "source": [
    "laenge = 3\n",
    "breite = 4\n",
    "\n",
    "# dein Code hier\n",
    "\n"
   ]
  },
  {
   "cell_type": "markdown",
   "metadata": {},
   "source": [
    "---\n",
    "---\n",
    "## Listen\n",
    "\n",
    "### Allgemein\n",
    "\n",
    "Manchmal kommt es vor, dass wir viele Sachen speichern möchten. Beispiel: Die Teilnehmernamen bei einem Lauf.\n",
    "\n",
    "Das kann man so machen:"
   ]
  },
  {
   "cell_type": "code",
   "execution_count": null,
   "metadata": {},
   "outputs": [],
   "source": [
    "teilnehmer1 = \"Jonas\"\n",
    "teilnehmer2 = \"Jannis\"\n",
    "teilnehmer3 = \"Marc\"\n",
    "teilnehmer4 = \"Katarina\"\n",
    "teilnehmer5 = \"Yahya\"\n",
    "# usw."
   ]
  },
  {
   "cell_type": "markdown",
   "metadata": {},
   "source": [
    "Das ist aber zum Einen viel zu tippen, und zum Anderen lässt es sich schlecht erweitern. Außerdem müsst man es so schreiben, wenn man es ausdrucken wollen würde:"
   ]
  },
  {
   "cell_type": "code",
   "execution_count": null,
   "metadata": {},
   "outputs": [],
   "source": [
    "print(f\"{teilnehmer1} {teilnehmer2} {teilnehmer3} {teilnehmer4} {teilnehmer5}\") # usw."
   ]
  },
  {
   "cell_type": "markdown",
   "metadata": {},
   "source": [
    "Bei 5 Teilnehmern ist diese Lösung noch überschaubar, aber was ist mit 25? Oder 100? Oder 1000?\n",
    "\n",
    "Dafür gibt es in fast allen Programmiersprachen sogennante **Listen** (**Arrays**).\n",
    "\n",
    "Listen sind eine **geordnete** Reihenfolge aus **beliebig vielen** anderen Objekten. Sie werden mit eckigen Klammern definiert:"
   ]
  },
  {
   "cell_type": "code",
   "execution_count": null,
   "metadata": {},
   "outputs": [],
   "source": [
    "teilnehmer = [\"Jonas\", \"Jannis\", \"Marc\", \"Katarina\", \"Yahya\"]\n",
    "print(type(teilnehmer))"
   ]
  },
  {
   "cell_type": "markdown",
   "metadata": {},
   "source": [
    "Sie funktionieren auch mit print:"
   ]
  },
  {
   "cell_type": "code",
   "execution_count": null,
   "metadata": {},
   "outputs": [],
   "source": [
    "print(teilnehmer)"
   ]
  },
  {
   "cell_type": "markdown",
   "metadata": {},
   "source": [
    "Es kann vorkommen, dass man ein listenähnliches Objekt zu einer Liste machen möchte. Erstmal können wir das nur bei Strings verwenden, die man auch als 'Liste' aus Buchstaben sehen kann, aber bald werden schon andere Verwendungen auftauchen."
   ]
  },
  {
   "cell_type": "code",
   "execution_count": null,
   "metadata": {},
   "outputs": [],
   "source": [
    "name = \"Jonas\"\n",
    "\n",
    "name_als_liste = list(name)\n",
    "\n",
    "print(name_als_liste)"
   ]
  },
  {
   "cell_type": "markdown",
   "metadata": {},
   "source": [
    "Mit dem `len` Befehl, den wir schon von den Strings kennen, können wir auch die Länge der Liste bestimmen:"
   ]
  },
  {
   "cell_type": "code",
   "execution_count": null,
   "metadata": {},
   "outputs": [],
   "source": [
    "print(len(teilnehmer))"
   ]
  },
  {
   "cell_type": "markdown",
   "metadata": {},
   "source": [
    "In Python können Listen fast alle Datentypen enthalten. Sogar andere Listen!"
   ]
  },
  {
   "cell_type": "code",
   "execution_count": null,
   "metadata": {},
   "outputs": [],
   "source": [
    "beispiel_liste = [1, 2, 3, \"hallo\", \"tschüss\", [10, 11, 12]]\n",
    "print(beispiel_liste)"
   ]
  },
  {
   "cell_type": "markdown",
   "metadata": {},
   "source": [
    "Listen erstellen können ist schön und gut, aber es wäre doch schön, auch neue Sachen hinzufügen zu können. Dafür gibt es `.append()`."
   ]
  },
  {
   "cell_type": "code",
   "execution_count": null,
   "metadata": {},
   "outputs": [],
   "source": [
    "teilnehmer = [\"Jonas\", \"Jannis\", \"Marc\", \"Katarina\", \"Yahya\"]\n",
    "print(teilnehmer)\n",
    "\n",
    "teilnehmer.append(\"Anton\")\n",
    "print(teilnehmer)"
   ]
  },
  {
   "cell_type": "markdown",
   "metadata": {},
   "source": [
    "Das heißt, wir können mit `listenamen.append(neue_sache)` Objekte hinten an die Liste 'anhängen'."
   ]
  },
  {
   "cell_type": "markdown",
   "metadata": {},
   "source": [
    "---\n",
    "### Indexes / Indicies\n",
    "\n",
    "In einer Liste erhält jedes Objekt eine Zuordnung. Diese kann man als 'Namen' (index) dieses Objektes in der Liste ansehen. Bei Listen ist dieser 'Name' einfach die Stelle in der Liste, wo sich das Objekt befindet.\n",
    "\n",
    "Dabei ist es wichtig zu wissen, dass man beim Programmieren generell von 0 an zählt, statt von 1.\n",
    "\n",
    "Das heißt, dass das erste Objekt in der Liste den 'Namen' (index) 0 hat.  \n",
    "Das zweite Objekt dann 1, das dritte 2, usw.  \n",
    "Das kann zuerst verwirrend sein, aber man gewöhnt sich daran. \n",
    "\n",
    "Ich habe bei unserem Beispiel mit den Teilnehmern die Indexes als Kommentar dadrunter geschrieben:"
   ]
  },
  {
   "cell_type": "code",
   "execution_count": null,
   "metadata": {},
   "outputs": [],
   "source": [
    "teilnehmer = [\"Jonas\", \"Jannis\", \"Marc\", \"Katarina\", \"Yahya\"]\n",
    "#              0        1         2       3           4"
   ]
  },
  {
   "cell_type": "markdown",
   "metadata": {},
   "source": [
    "Diese Indexes können wir jetzt benutzen, um einzelne Elemente der Liste anzurufen. \n",
    "\n",
    "Als Beispiel können wir mal den ersten Teilnehmer nehmen, `\"Jonas\"`.  \n",
    "Dazu müssen wir Python nach dem Objekt in der Liste `teilnehmer` mit dem Index `0` fragen.  \n",
    "Das sieht so aus:"
   ]
  },
  {
   "cell_type": "code",
   "execution_count": null,
   "metadata": {},
   "outputs": [],
   "source": [
    "print(teilnehmer[0])"
   ]
  },
  {
   "cell_type": "markdown",
   "metadata": {},
   "source": [
    "Verändere den Code oben mal so, dass stattdessen `Marc` ausgedruckt wird.\n",
    "\n",
    "Jetzt können wir einzelne Elemente abrufen.\n",
    "\n",
    "Doch was ist, wenn wir das letzte Objekt in unsere Liste haben wollen?  \n",
    "Da das erste Objekt in der Liste den Index 0 hat, das zweite 1 und so weiter, wird das letzte Objekt in der Liste den Index (Länge der Liste - 1). Gucken wir uns ein Beispiel an:"
   ]
  },
  {
   "cell_type": "code",
   "execution_count": null,
   "metadata": {},
   "outputs": [],
   "source": [
    "teilnehmer = [\"Jonas\", \"Jannis\", \"Marc\", \"Katarina\", \"Yahya\"]\n",
    "#              0        1         2       3           4"
   ]
  },
  {
   "cell_type": "markdown",
   "metadata": {},
   "source": [
    "Das letzte Objekt in der Liste (\"Yahya\") hat den Index 4. 4 bekommen wir auch, indem wir 1 von der Länge der Liste abziehen: 5 - 1 = 4. Im Code können wir dazu die bekannte `len` Funktion benutzen:"
   ]
  },
  {
   "cell_type": "code",
   "execution_count": null,
   "metadata": {},
   "outputs": [],
   "source": [
    "teilnehmer = [\"Jonas\", \"Jannis\", \"Marc\", \"Katarina\", \"Yahya\"]\n",
    "print(len(teilnehmer) - 1)"
   ]
  },
  {
   "cell_type": "markdown",
   "metadata": {},
   "source": [
    "Jetzt müssen wir nur noch nach dem Objekt in der Liste fragen, dass diesen Index hat. \n",
    "\n",
    "\n",
    "Verändere `None` in dem Programm unten so, dass das letzte Objekt in der Liste ausgedruckt wird. Probiere auch mal, ein neues Objekt hinten in der Liste hinzuzufügen. Funktionert dein Programm immer noch?"
   ]
  },
  {
   "cell_type": "code",
   "execution_count": null,
   "metadata": {},
   "outputs": [],
   "source": [
    "teilnehmer = [\"Jonas\", \"Jannis\", \"Marc\", \"Katarina\", \"Yahya\"]\n",
    "index = None\n",
    "print(None)"
   ]
  },
  {
   "cell_type": "markdown",
   "metadata": {},
   "source": [
    "Das ist zwar schön, aber kann man schlecht lesen. Deshalb hat jedes Objekt in einer Python-Liste zwei Indexes: Eins, dass von vorne zählt, und ein anderes, das von hinten zählt. Die Indexes von hinten werden mit Minus geschrieben und fangen bei `-1` an.\n",
    "\n",
    "Das kann man sich so vorstellen:"
   ]
  },
  {
   "cell_type": "code",
   "execution_count": null,
   "metadata": {},
   "outputs": [],
   "source": [
    "teilnehmer = [\"Jonas\", \"Jannis\", \"Marc\", \"Katarina\", \"Yahya\"]\n",
    "# von vorne   0        1         2       3           4\n",
    "# von hinten  -5       -4        -3      -2          -1"
   ]
  },
  {
   "cell_type": "markdown",
   "metadata": {},
   "source": [
    "Das heißt, wir können einfach nach `teilnehmer[-1]` fragen, um das letzte Element zu erhalten:"
   ]
  },
  {
   "cell_type": "code",
   "execution_count": null,
   "metadata": {},
   "outputs": [],
   "source": [
    "print(teilnehmer[-1])"
   ]
  },
  {
   "cell_type": "markdown",
   "metadata": {},
   "source": [
    "---\n",
    "### Slicing\n",
    "\n",
    "In Python können wir das sogenannte 'Slicing' verwenden, um bestimmte Elemente einer Liste abzurufen und aus ihnen eine neue Liste zu erstellen. Dazu brauchen wieder unsere eckigen Klammern, nur das wir dieses Mal einen Doppelpunkt dareinsetzen:"
   ]
  },
  {
   "cell_type": "code",
   "execution_count": null,
   "metadata": {},
   "outputs": [],
   "source": [
    "zahlen = [0, 1, 2, 3, 4, 5, 6, 7, 8, 9, 10, 11, 12, 13, 14, 15]\n",
    "\n",
    "print(zahlen[:])"
   ]
  },
  {
   "cell_type": "markdown",
   "metadata": {},
   "source": [
    "Hmm, Python hat uns die gleiche Liste ganz ausgedruckt.\n",
    "\n",
    "Wir können Teile der Liste von hinten abtrennen, indem etwas hinter den Doppelpunkt setzen. Wir müssen den Index (nicht den Wert, auch wenn die in diesem Beispiel gleich sind) des Elementes, dass nicht mehr Teil der neuen Liste sein soll, hinter den Doppelpunkt setzen.\n",
    "\n",
    "Probiere das kurz aus:"
   ]
  },
  {
   "cell_type": "code",
   "execution_count": null,
   "metadata": {},
   "outputs": [],
   "source": [
    "zahlen = [0, 1, 2, 3, 4, 5, 6, 7, 8, 9, 10, 11, 12, 13, 14, 15]\n",
    "\n",
    "x = 5\n",
    "print(zahlen[:x])"
   ]
  },
  {
   "cell_type": "markdown",
   "metadata": {},
   "source": [
    "Bemerke, dass obwohl wir `x` hinter den Doppelpunkt gesetzt haben, `x - 1` immer noch das letzte Element ist. Wir können auch die negatives Indexes hier benutzen. Überlege dir, was dieses Programm machen könnte, bevor du es ausführst:"
   ]
  },
  {
   "cell_type": "code",
   "execution_count": null,
   "metadata": {},
   "outputs": [],
   "source": [
    "zahlen = [0, 1, 2, 3, 4, 5, 6, 7, 8, 9, 10, 11, 12, 13, 14, 15]\n",
    "\n",
    "print(zahlen[:-1])"
   ]
  },
  {
   "cell_type": "markdown",
   "metadata": {},
   "source": [
    "Es druckt uns die Liste bis auf das letzte Element aus.\n",
    "\n",
    "Wir können die Liste jedoch auch vom Anfang aus begrenzen: Dazu setzen wir den Index (!= Wert) des ersten Elementes der neuen Liste vor den Doppelpunkt.\n",
    "\n",
    "Probiere mal, Zahlen um den Doppelpunkt einzufügen, sodass die Liste `[6, 7, 8, 9, 10]` ausgedruckt wird."
   ]
  },
  {
   "cell_type": "code",
   "execution_count": null,
   "metadata": {},
   "outputs": [],
   "source": [
    "zahlen = [0, 1, 2, 3, 4, 5, 6, 7, 8, 9, 10, 11, 12, 13, 14, 15]\n",
    "\n",
    "print(zahlen[:])"
   ]
  },
  {
   "cell_type": "markdown",
   "metadata": {},
   "source": [
    "<details>\n",
    "<summary>Lösung:</summary>\n",
    "\n",
    "```python\n",
    "print(zahlen[6:11])\n",
    "```\n",
    "\n",
    "</details>\n"
   ]
  },
  {
   "cell_type": "markdown",
   "metadata": {},
   "source": [
    "Dieses Slicing kann aber noch mehr: Der sogenannte 'step'. Er gibt an, in welcher Schrittgröße die neue Liste Werte aus der alten Liste nimmt. Er hat den Normalwert 1 und wird nach einem zweiten Doppelpunkt angegeben. \n",
    "\n",
    "Dieser Code sollte eine einfache Kopie von `zahlen` ausdrucken:"
   ]
  },
  {
   "cell_type": "code",
   "execution_count": null,
   "metadata": {},
   "outputs": [],
   "source": [
    "zahlen = [0, 1, 2, 3, 4, 5, 6, 7, 8, 9, 10, 11, 12, 13, 14, 15]\n",
    "\n",
    "print(zahlen[1::2])"
   ]
  },
  {
   "cell_type": "markdown",
   "metadata": {},
   "source": [
    "Sehr schön. Doch natürlich gehen auch andere Werte als 1. Probiere doch ein paar aus.\n",
    "\n",
    "Zu einigen Themen gibt es im `aufgaben/` Ordner mehr Aufgaben mit Lösungen, die man sich angucken kann, wenn man mehr ausprobieren möchte. Slicing ist eins dieser Themen."
   ]
  },
  {
   "cell_type": "markdown",
   "metadata": {},
   "source": [
    "---\n",
    "\n",
    "### `range`\n",
    "\n",
    "Python hat einen eingebauten Befehl, mit dem man Listen mit aufeinanderfolgenden Zahlen erstellen kann. Warum das nützlich ist, wird man bald sehen.\n",
    "\n",
    "Der Befehl heißt `range`. Er kann Listen erstellen, die von 0 an bis zu einer bestimmten Zahl zählen. "
   ]
  },
  {
   "cell_type": "code",
   "execution_count": null,
   "metadata": {},
   "outputs": [],
   "source": [
    "print(range(10))"
   ]
  },
  {
   "cell_type": "markdown",
   "metadata": {},
   "source": [
    "Huch, das ist nicht ganz das, was wir wollten.\n",
    "\n",
    "Das liegt daran, dass `range` keine echte Liste erstellt. Was genau diese 'unechte Liste' ist, ist für uns erstmal unwichtig. Es reicht zu wissen, dass Python so besser mit großen Zahlen umgehen kann.\n",
    "\n",
    "Deshalb müssen wir den `range`-Befehl in einen `list`-Befehl setzen, um eine Liste zu erhalten. Das sieht dann so aus:"
   ]
  },
  {
   "cell_type": "code",
   "execution_count": null,
   "metadata": {},
   "outputs": [],
   "source": [
    "print(list(range(10)))"
   ]
  },
  {
   "cell_type": "markdown",
   "metadata": {},
   "source": [
    "Das sieht doch schonmal besser aus, obwohl die Zahl `10` gar nicht dabei ist. Dazu gleich mehr.\n",
    "\n",
    "Mithilfe von dieser 'unechten Liste' hat dieser Befehl auch fast keine Grenzen was Zahlen angeht. Versuche mal, im Codeblock oben die Zahl zu vergrößern."
   ]
  },
  {
   "cell_type": "markdown",
   "metadata": {},
   "source": [
    "Dieser `range`-Befehl ist eine Art von 'Funktion'. Funktionen werden mit Klammern dahinter angegeben und können sogenannte Argumente annehmen. Das heißt, dass auch `print` und `list` Funktionen sind, aber dazu später mehr. In dem Beispiel von oben (`range(10)`) geben wir das Argument `10` in die Funktion.\n",
    "\n",
    "Das Argument, dass wir als `10` angegeben hatten, heißt `stop`. Das ist die Zahl, bis zu der `range` zählt (exclusiv).\n",
    "\n",
    "Der `range`-Befehl kann jedoch auch weitere Argumente annehmen. Diese kann man dann mit Kommas in den beiden Klammern angeben.\n",
    "\n",
    "Das erste weitere Argument heißt `start`. Es bestimmt, bei welcher Zahl die Funktion anfängt zu zählen (inklusiv). Wenn man `start` nicht angibt, erhält `start` den Normalwert `0`.\n",
    "\n",
    "`start` gibt man vor `stop` an.\n",
    "\n",
    "Hier ein Beispiel:"
   ]
  },
  {
   "cell_type": "code",
   "execution_count": null,
   "metadata": {},
   "outputs": [],
   "source": [
    "print(list(range(5, 10)))"
   ]
  },
  {
   "cell_type": "markdown",
   "metadata": {},
   "source": [
    "Man sieht, dass die Funktion bei 5 angefangen und bei 10 aufgehört hat, nur, dass 10 nicht mitgezählt wurde.\n",
    "\n",
    "Was glaubst du, würde uns `range(0, 5)` geben?\n",
    "\n",
    "Wenn du dir eine Antwort überlegt hast, führe den Code unten aus."
   ]
  },
  {
   "cell_type": "code",
   "execution_count": null,
   "metadata": {},
   "outputs": [],
   "source": [
    "print(list(range(0, 5)))"
   ]
  },
  {
   "cell_type": "markdown",
   "metadata": {},
   "source": [
    "Genau! `range(0, 5)` gibt uns genau das gleiche wie `range(5)`, da das `start`-Argument standardmäßig den Wert `0` annimmt.\n",
    "\n",
    "`range` kann aber noch ein drittes Argument nehmen: `step`. `step` gibt die Schrittgröße zwischen den Werten in der Liste an und hat den Standardwert 1.\n",
    "\n",
    "Das sieht man an einem Beispiel besonders gut:"
   ]
  },
  {
   "cell_type": "code",
   "execution_count": null,
   "metadata": {},
   "outputs": [],
   "source": [
    "print(list(range(0, 10)))  # ohne step\n",
    "\n",
    "print(list(range(0, 10, 1)))  # mit step=1\n",
    "\n",
    "print(list(range(0, 10, 2)))  # mit step=2"
   ]
  },
  {
   "cell_type": "markdown",
   "metadata": {},
   "source": [
    "Versuche mit dem `step`-Argument ein Programm zu schreiben, dass die Zahlen 0, 10, 20, usw. bis 100 ausdruckt."
   ]
  },
  {
   "cell_type": "code",
   "execution_count": null,
   "metadata": {},
   "outputs": [],
   "source": [
    "# dein code hier"
   ]
  },
  {
   "cell_type": "markdown",
   "metadata": {},
   "source": [
    "Wenn das funktioniert, kannst du das Programm so verändern, dass 100 aus mitausgedruckt wird."
   ]
  },
  {
   "cell_type": "markdown",
   "metadata": {},
   "source": [
    "---\n",
    "---\n",
    "## Schleifen\n",
    "\n",
    "Wenn wir im Moment versuchen würden, etwas 10 Mal auszudrucken, sähe das vielleicht so aus:"
   ]
  },
  {
   "cell_type": "code",
   "execution_count": null,
   "metadata": {},
   "outputs": [],
   "source": [
    "print(\"Hallo!\")\n",
    "print(\"Hallo!\")\n",
    "print(\"Hallo!\")\n",
    "print(\"Hallo!\")\n",
    "print(\"Hallo!\")\n",
    "print(\"Hallo!\")\n",
    "print(\"Hallo!\")\n",
    "print(\"Hallo!\")\n",
    "print(\"Hallo!\")\n",
    "print(\"Hallo!\")"
   ]
  },
  {
   "cell_type": "markdown",
   "metadata": {},
   "source": [
    "Hier fällt uns ein ähnliches Problem wie bei den Listen auf: Diese Lösung funktioniert zwar, aber ist nicht platzsparend, sieht nicht schön aus und kann man schlecht erweitern. Was wäre, wenn wir eine Variable haben wollen, und \"Hallo!\" so oft ausdrucken wollten?\n",
    "\n",
    "Dafür gibt es die sog. Schleifen:"
   ]
  },
  {
   "cell_type": "code",
   "execution_count": null,
   "metadata": {},
   "outputs": [],
   "source": [
    "wiederholungen = 5\n",
    "\n",
    "for i in range(wiederholungen):\n",
    "    print(\"Hallo!\")"
   ]
  },
  {
   "cell_type": "markdown",
   "metadata": {},
   "source": [
    "Das ist schön und gut, aber was genau passiert da?\n",
    "\n",
    "Die Syntax scheint `for i in range(zahl):` zu sein. Da wir den `range` Befehl schon kennen, wissen wir, dass `range(5)` uns `[0, 1, 2, 3, 4]` gibt.\n",
    "\n",
    "Das heißt, dass wir den Codeblock oben auch so schreiben können:"
   ]
  },
  {
   "cell_type": "code",
   "execution_count": null,
   "metadata": {},
   "outputs": [],
   "source": [
    "# wiederholungen = 5\n",
    "\n",
    "for i in [0, 1, 2, 3, 4]:\n",
    "    print(\"Hallo!\")"
   ]
  },
  {
   "cell_type": "markdown",
   "metadata": {},
   "source": [
    "Jetzt können wir sehen, dass der eingerückte Code sooft wiederholt wird, wie Objekte in der Liste sind. Versuche gerne mal, im Codeblock oben die Liste zu erweitern, sodass mehr Wiederholungen stattfinden.\n",
    "\n",
    "Dabei hast du vielleicht gemerkt, dass es egal ist, was du der Liste hinzufügst. Man kann `[0, 1, 2, 3, 4, 5]` genauso gut machen wie `[0, 7, 4, 5, \"ich bin ein String\", 2]`.\n",
    "\n",
    "Vielleicht können wir besser sehen was passiert, wenn wir die Variable `i` aus `for i in ...` untersuchen:"
   ]
  },
  {
   "cell_type": "code",
   "execution_count": null,
   "metadata": {},
   "outputs": [],
   "source": [
    "for i in range(5):\n",
    "    print(i)"
   ]
  },
  {
   "cell_type": "code",
   "execution_count": null,
   "metadata": {},
   "outputs": [],
   "source": [
    "for i in [0, 1, 2, 3, 4]:\n",
    "    print(i)"
   ]
  },
  {
   "cell_type": "code",
   "execution_count": null,
   "metadata": {},
   "outputs": [],
   "source": [
    "for i in [0, 7, 4, 5, \"ich bin ein String\"]:\n",
    "    print(i)"
   ]
  },
  {
   "cell_type": "markdown",
   "metadata": {},
   "source": [
    "Es scheint also, dass bei jeder Wiederholung `i` den Wert vom nächsten Objekt in der Liste annimmt.\n",
    "\n",
    "Bei der ersten Wiederholung hat `i` den ersten Wert in der Liste, bei der Zweiten den Zweiten und so weiter."
   ]
  },
  {
   "cell_type": "code",
   "execution_count": null,
   "metadata": {},
   "outputs": [],
   "source": [
    "print(\"wenn das stimmt,\")\n",
    "\n",
    "for i in [\"dann müsste das hier als erstes ausgedruckt werden\", \"dann das hier\", \"und das hier als letztes\"]:\n",
    "    print(i)"
   ]
  },
  {
   "cell_type": "markdown",
   "metadata": {},
   "source": [
    "Wir müssen aber auch nicht unbedingt einfach nur `print(i)` einrücken - alles, was wir sonst machen können, sollten wir auch hier machen können.\n",
    "\n",
    "Das heißt, wenn ich mir eine Liste aus Zahlen vornehme, also vielleicht von `range()`, dann müsste ich damit auch rechnen können."
   ]
  },
  {
   "cell_type": "code",
   "execution_count": null,
   "metadata": {},
   "outputs": [],
   "source": [
    "for i in range(10):\n",
    "    print(i + 100)"
   ]
  },
  {
   "cell_type": "markdown",
   "metadata": {},
   "source": [
    "Jetzt wo wir das wissen, sollten wir ein Programm schreiben können, dass uns Quadratzahlen von 1 bis 10 (nicht von 0 bis 10) ausdrucken kann. Vielleicht können wir dafür mehr als ein Argument der `range`-Funktion benutzen. Versuche es doch mal:"
   ]
  },
  {
   "cell_type": "code",
   "execution_count": null,
   "metadata": {},
   "outputs": [],
   "source": [
    "# dein code hier"
   ]
  },
  {
   "cell_type": "markdown",
   "metadata": {},
   "source": [
    "---\n",
    "### Schleifen in Schleifen\n",
    "\n",
    "Wir können in Schleifen auch weitere Schleifen verwenden (geschachtelte Schleifen). Dabei müssen wir den Inhalt der zweiten Schleife nochmal um genauso viele Leerzeichen oder Tabs einrücken wie die erste."
   ]
  },
  {
   "cell_type": "code",
   "execution_count": null,
   "metadata": {},
   "outputs": [],
   "source": [
    "adjektive = [\"rote\", \"orange\", \"gelbe\"]\n",
    "sachen = [\"autos\", \"paprikas\", \"farbe\"]\n",
    "\n",
    "for adj in adjektive:\n",
    "    for sache in sachen:\n",
    "        print(adj + \" \" + sache)"
   ]
  },
  {
   "cell_type": "markdown",
   "metadata": {},
   "source": [
    "Wir können sehen, dass die innere Schleife ganz ansgeführt wird, bis die Innere weitermacht: Zuerst wird das Adjektiv ausgewählt, dann jeweils die drei verschiedenen Sachen durchgegangen."
   ]
  },
  {
   "cell_type": "markdown",
   "metadata": {},
   "source": [
    "---\n",
    "---\n",
    "## Funktionen\n",
    "\n",
    "So einiges von dem, was wir schon benutzt haben, braucht runde Klammern.\n",
    "```python\n",
    "range()\n",
    "len()\n",
    "print()\n",
    "int()\n",
    "str()\n",
    "list()\n",
    "type()\n",
    "```\n",
    "Das sind sogenannte Funktionen - nicht alle sind 'echte' Funktionen, aber wir können uns sie erstmal so vorstellen.\n",
    "\n",
    "Diese Funktionen nehmen teilweise Argumente - bei `range` ein paar Zahlen, bei `len` vielleicht ein String oder eine Liste. Danach geben sie uns eine Art Ausgabe: bei `len` eine Zahl, bei `int` ein Integer.\n",
    "\n",
    "Solche Funktionen können wir auch selber schreiben."
   ]
  },
  {
   "cell_type": "code",
   "execution_count": null,
   "metadata": {},
   "outputs": [],
   "source": [
    "def sag_hallo():\n",
    "    print(\"Hallo!\")"
   ]
  },
  {
   "cell_type": "markdown",
   "metadata": {},
   "source": [
    "Es ist relativ genau festgelegt, wie genau man so was macht. Man fängt mit `def` (kurz für engl. (to) define) an, dann der Name der Funktion, dann die beiden Klammern und ein Doppelpunkt. Alles, was sonst Teil der Funktion sein soll, muss dann eingerückt werden -  typischerweise um 4 Leerzeichen.\n",
    "\n",
    "Die `sag_hallo` Funktion ist relativ einfach - sie druckt einfach nur `Hallo!`. Doch wenn wir den Codeblock oben ausführen, passiert doch gar nichts.\n",
    "\n",
    "Das liegt daran, dass die Funktionsdefinition alleine nichts macht. Sie gibt uns nur die Möglichkeit die Funktion aufzurufen, so wie wir das bei `range` oder `len` vielleicht auch machen würden. \n",
    "\n",
    "Im Gegensatz zu den beiden kann diese Funktion jedoch keine Argumente annehmen - das kommt gleich. Trotzdem muss man runde Klammern benutzen - genau diese geben an, dass wir die Funktion ausführen möchten."
   ]
  },
  {
   "cell_type": "code",
   "execution_count": null,
   "metadata": {},
   "outputs": [],
   "source": [
    "sag_hallo()"
   ]
  },
  {
   "cell_type": "markdown",
   "metadata": {},
   "source": [
    "Wenn du beide Codeblöcke ausgeführt hast, solltest du sehen können, dass `Hallo!` ausgedruckt wurde. Man kann sich das so vorstellen, dass wenn Python sieht, dass wir eine Funktion aufrufen (z.B. mit `sag_hallo()`), springt Python zu dem Ort, wo die Funktion definiert wurde, und an ihrem Ende wieder zurück.\n",
    "\n",
    "In dem Beispiel unten 'liest' Python zuerst die Funktionsdefinition - dann weiß es, was `sag_hallo` überhaupt bedeuten soll. In Zeile 4 rufen wir die Funktion dann auf. Python erkennt `sag_hallo` als definierte Funktion und führt den eingerückten Code unter der Funktionsdefinition (Zeile 2) aus - in diesem Fall `print(\"Hallo!\")`."
   ]
  },
  {
   "cell_type": "code",
   "execution_count": null,
   "metadata": {},
   "outputs": [],
   "source": [
    "def sag_hallo():\n",
    "    print(\"Hallo!\")\n",
    "\n",
    "sag_hallo()"
   ]
  },
  {
   "cell_type": "markdown",
   "metadata": {},
   "source": [
    "Wir können die Funktion auch mehrmals aufrufen, um sie mehrmals ausführen zu lassen."
   ]
  },
  {
   "cell_type": "code",
   "execution_count": null,
   "metadata": {},
   "outputs": [],
   "source": [
    "sag_hallo()\n",
    "sag_hallo()\n",
    "sag_hallo()\n",
    "sag_hallo()\n",
    "sag_hallo()"
   ]
  },
  {
   "cell_type": "markdown",
   "metadata": {},
   "source": [
    "Schreibe zur Übung eine `for`-Schleife, die den Code oben vereinfacht."
   ]
  },
  {
   "cell_type": "code",
   "execution_count": null,
   "metadata": {},
   "outputs": [],
   "source": [
    "# dein Code hier"
   ]
  },
  {
   "cell_type": "markdown",
   "metadata": {},
   "source": [
    "Funktionen können ja auch Werte wieder als Ausgabe herausgeben - wie bei `len` die Zahl. Dafür benutzen wir `return`. `return` kann man nur innerhalb von Funktionsdefinitionen benutzen, sonst wirft Python eine relativ deutliche Fehlermeldung:"
   ]
  },
  {
   "cell_type": "code",
   "execution_count": null,
   "metadata": {},
   "outputs": [],
   "source": [
    "# return \"test\" # entferne das erste Hashtag, um den Code ausführen zu können"
   ]
  },
  {
   "cell_type": "markdown",
   "metadata": {},
   "source": [
    "Bei unserer `sag_hallo` Funktion gibt es keinen offensichtlichen Grund, einen Wert herausgeben zu müssen. Weil ich ein Beispiel brauche, machen wir es aber trotzdem."
   ]
  },
  {
   "cell_type": "code",
   "execution_count": null,
   "metadata": {},
   "outputs": [],
   "source": [
    "def sag_hallo():\n",
    "    return \"Hallo!\""
   ]
  },
  {
   "cell_type": "markdown",
   "metadata": {},
   "source": [
    "Jetzt druckt die Funktion selber nichts mehr aus, sondern gibt uns nur den String `\"Hallo!\"`."
   ]
  },
  {
   "cell_type": "code",
   "execution_count": null,
   "metadata": {},
   "outputs": [],
   "source": [
    "print(sag_hallo())"
   ]
  },
  {
   "cell_type": "markdown",
   "metadata": {},
   "source": [
    "Jetzt ist die Zeit gekommen - die Argumente sind dran. Auch `return` wird schon gleich viel nützlicher.\n",
    "\n",
    "Bei unserer Funktionsdefinition hatten wir leere runde Klammern - genau hier können wir Argumente (oder genauer, Parameter) bestimmen. Hier eine kleine Beispielfunktion, die zwei Zahlen zusammenaddieren kann:"
   ]
  },
  {
   "cell_type": "code",
   "execution_count": null,
   "metadata": {},
   "outputs": [],
   "source": [
    "def add(zahl_a, zahl_b):\n",
    "    return zahl_a + zahl_b\n",
    "\n",
    "print(add(5, 7))"
   ]
  },
  {
   "cell_type": "markdown",
   "metadata": {},
   "source": [
    "In dem Klammern steht nun `zahl_a, zahl_b`. Das sind zwei Parameter, man trennt sie mit Kommas. Diese Parameter können wir in der Funktion wie Variablen benutzen, aber nach der Funktion vergisst Python sie wieder. \n",
    "\n",
    "Die Werte von diesen Parametern bestimmen wir, wenn wir die Funktion aufrufen. Dazu können wir entweder Werte in der richtigen Reihenfolge in die Klammern schreiben - zuerst `zahl_a`, dann `zahl_b` - oder wir können explizit die Namen der Parameter angeben:"
   ]
  },
  {
   "cell_type": "code",
   "execution_count": null,
   "metadata": {},
   "outputs": [],
   "source": [
    "def add(zahl_a, zahl_b):\n",
    "    return zahl_a + zahl_b\n",
    "\n",
    "print(add(zahl_a=5, zahl_b=7))\n",
    "print(add(zahl_b=2, zahl_a=9))"
   ]
  },
  {
   "cell_type": "markdown",
   "metadata": {},
   "source": [
    "Wenn wir die Namen explizit angeben ist der Code häufig leichter zu lesen, und dann ist die Reihenfolge meistens auch egal. Es dauert aber auch länger, das auszuschreiben. Meistens macht man es nur, wenn man viele Argumente hat.\n",
    "\n",
    "--- \n",
    "### Aufgaben\n",
    "\n",
    "Im `aufgaben/` Ordner findet ihr einige.\n",
    "\n",
    "---\n",
    "### Rekursion\n",
    "\n",
    "Bei der fibonacci-Aufgabe wird der Begriff 'rekursiv' verwendet.\n",
    "\n",
    "Rekursive Funktionen sind besonders, da sie sich selbst aufrufen. Bevor du den Codeblock unten ausführst, versuche dir zu überlegen, was er macht."
   ]
  },
  {
   "cell_type": "code",
   "execution_count": null,
   "metadata": {},
   "outputs": [],
   "source": [
    "def druck_zahl(zahl):\n",
    "    print(zahl)\n",
    "    druck_zahl(zahl + 1)\n",
    "\n",
    "druck_zahl(0)"
   ]
  },
  {
   "cell_type": "markdown",
   "metadata": {},
   "source": [
    "`RecursionError: maximum recursion depth exceeded while calling a Python object`\n",
    "\n",
    "Wenn man diese Funktion aufruft, entsteht eine Endlosschleife. Python kann diese meistens erkennen und wirft dann eine solche Fehlermeldung.\n",
    "\n",
    "Aus Mathe kennt ihr vielleicht die Fakultät.\n",
    "\n",
    "1! = 1  \n",
    "2! = 1 * 2  \n",
    "3! = 1 * 2 * 3  \n",
    "4! = 1 * 2 * 3 * 4  \n",
    "usw.  \n",
    "\n",
    "Wenn wir eine Funktion schreiben wollten, die die Fakultät von einer Zahl `zahl` berechnet, könnte man das mit einer Schleife machen. Das sähe dann vielleicht so aus:"
   ]
  },
  {
   "cell_type": "code",
   "execution_count": null,
   "metadata": {},
   "outputs": [],
   "source": [
    "def fakultaet(zahl):\n",
    "    ergebnis = 1\n",
    "    for i in range(1, zahl + 1):\n",
    "        ergebnis = ergebnis * i\n",
    "    return ergebnis\n",
    "\n",
    "print(fakultaet(5))"
   ]
  },
  {
   "cell_type": "markdown",
   "metadata": {},
   "source": [
    "Lass uns mal angucken, was genau hier passiert.\n",
    "\n",
    "| Wiederholung | `i` | `ergebnis` | `ergebnis * i` | neues `ergebnis`\n",
    "| --- | --- | --- | --- | --- |\n",
    "| 1 | 1 | 1 | 1 * 1 | 1 |\n",
    "| 2 | 2 | 1 | 1 * 2 | 2 |\n",
    "| 3 | 3 | 2 | 2 * 3 | 6 |\n",
    "| 4 | 4 | 6 | 6 * 4 | 24 |\n",
    "| 5 | 5 | 24 | 24 * 5 | 120 |\n",
    "\n",
    "Wir sehen, die Funktion funktionert wie erwartet.\n",
    "\n",
    "Das mit der Fakultät kann man auch so sehen:\n",
    "\n",
    "1! = 1  \n",
    "2! = 1! * 2  \n",
    "3! = 2! * 3  \n",
    "4! = 3! * 4  \n",
    "usw.  \n",
    "\n",
    "Diesen Ansatz kann man sehr gut rekursiv implementieren:"
   ]
  },
  {
   "cell_type": "code",
   "execution_count": null,
   "metadata": {},
   "outputs": [],
   "source": [
    "def fakultaet(zahl):\n",
    "    if zahl == 1:\n",
    "        return 1\n",
    "    else:\n",
    "        return zahl * fakultaet(zahl - 1)\n",
    "\n",
    "fakultaet(5)"
   ]
  },
  {
   "cell_type": "markdown",
   "metadata": {},
   "source": [
    "Was man aber im Kopf haben sollte, ist dass viele rekursive Ansätze sogar langsamer als die nicht-rekursiven sind.\n",
    "\n",
    "Um Sachen so zu lösen, muss man manchmal ein bisschen umdenken. Probiere doch mal, manche Aufgaben nochmal rekursiv zu lösen."
   ]
  },
  {
   "cell_type": "markdown",
   "metadata": {},
   "source": [
    "---\n",
    "---\n",
    "## Module"
   ]
  }
 ],
 "metadata": {
  "interpreter": {
   "hash": "2e4490693bfb405fcb86983b0bf00700f02db273da556b2a4f05c8e5d3c68815"
  },
  "kernelspec": {
   "display_name": "Python 3.10.1 ('venv': venv)",
   "language": "python",
   "name": "python3"
  },
  "language_info": {
   "codemirror_mode": {
    "name": "ipython",
    "version": 3
   },
   "file_extension": ".py",
   "mimetype": "text/x-python",
   "name": "python",
   "nbconvert_exporter": "python",
   "pygments_lexer": "ipython3",
   "version": "3.10.1"
  },
  "orig_nbformat": 4
 },
 "nbformat": 4,
 "nbformat_minor": 2
}

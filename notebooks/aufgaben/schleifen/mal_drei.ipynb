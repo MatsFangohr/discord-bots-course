{
 "cells": [
  {
   "cell_type": "markdown",
   "metadata": {},
   "source": [
    "# Schleifen und `range`\n",
    "\n",
    "*Vorkenntnisse: Schleifen*\n",
    "\n",
    "Kannst du mit einer for-Schleife die folgende Tabelle ausdrucken?\n",
    "\n",
    "```\n",
    "0 * 3 = 0\n",
    "3 * 3 = 9\n",
    "7 * 3 = 21\n",
    "9 * 3 = 27\n",
    "12 * 3 = 36\n",
    "17 * 3 = 51\n",
    "431 * 3 = 1293\n",
    "```"
   ]
  },
  {
   "cell_type": "code",
   "execution_count": null,
   "metadata": {},
   "outputs": [],
   "source": [
    "# dein Code hier"
   ]
  },
  {
   "cell_type": "markdown",
   "metadata": {},
   "source": [
    "Mit einem `range`-Befehl in Zusammenhang mit der `for`-Schleife können wir die folgende Tabelle erheblich leichter ausdrucken:\n",
    "\n",
    "```\n",
    "0 * 3 = 0\n",
    "1 * 3 = 3\n",
    "2 * 3 = 6\n",
    "3 * 3 = 9\n",
    "4 * 3 = 12\n",
    "5 * 3 = 15\n",
    "6 * 3 = 18\n",
    "7 * 3 = 21\n",
    "8 * 3 = 24\n",
    "9 * 3 = 27\n",
    "```"
   ]
  },
  {
   "cell_type": "code",
   "execution_count": null,
   "metadata": {},
   "outputs": [],
   "source": [
    "# dein Code hier"
   ]
  },
  {
   "cell_type": "markdown",
   "metadata": {},
   "source": [
    "Kannst du das Programm so verändern, dass die erste Zeile (`0 * 3 = 0`) nicht mehr ausgedruckt wird?"
   ]
  },
  {
   "cell_type": "markdown",
   "metadata": {},
   "source": [
    "Zusatz: Kannst du die folgenden Listen mit nur einem `print`, `list` und `range` ausdrucken lassen?\n",
    "\n",
    "1: `[10, 11, 12, 13, 14, 15]`\n",
    "\n",
    "2: `[-5, -3, -1, 1, 2, 3, 5]`\n",
    "\n",
    "3: `[10, 9, 8, 7, 6, 5, 4, 3, 2, 1]`"
   ]
  },
  {
   "cell_type": "code",
   "execution_count": 1,
   "metadata": {},
   "outputs": [],
   "source": [
    "# dein Code hier"
   ]
  }
 ],
 "metadata": {
  "kernelspec": {
   "display_name": "Python 3.10.1 ('venv': venv)",
   "language": "python",
   "name": "python3"
  },
  "language_info": {
   "codemirror_mode": {
    "name": "ipython",
    "version": 3
   },
   "file_extension": ".py",
   "mimetype": "text/x-python",
   "name": "python",
   "nbconvert_exporter": "python",
   "pygments_lexer": "ipython3",
   "version": "3.10.1"
  },
  "orig_nbformat": 4,
  "vscode": {
   "interpreter": {
    "hash": "2e4490693bfb405fcb86983b0bf00700f02db273da556b2a4f05c8e5d3c68815"
   }
  }
 },
 "nbformat": 4,
 "nbformat_minor": 2
}

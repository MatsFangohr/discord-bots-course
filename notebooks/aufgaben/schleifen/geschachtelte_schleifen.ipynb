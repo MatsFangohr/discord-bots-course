{
 "cells": [
  {
   "cell_type": "markdown",
   "metadata": {},
   "source": [
    "# Geschachtelte Schleifen\n",
    "\n",
    "*Vorkenntnisse: Schleifen*\n",
    "\n",
    "Schreibe ein Programm, das die folgende Tabelle drucken kann:\n",
    "```\n",
    "----------------------------------------------------------------------\n",
    "  1 |    2 |    3 |    4 |    5 |    6 |    7 |    8 |    9 |   10 |  \n",
    "----------------------------------------------------------------------\n",
    "  2 |    4 |    6 |    8 |   10 |   12 |   14 |   16 |   18 |   20 |  \n",
    "----------------------------------------------------------------------\n",
    "  3 |    6 |    9 |   12 |   15 |   18 |   21 |   24 |   27 |   30 |  \n",
    "----------------------------------------------------------------------\n",
    "  4 |    8 |   12 |   16 |   20 |   24 |   28 |   32 |   36 |   40 |  \n",
    "----------------------------------------------------------------------\n",
    "  5 |   10 |   15 |   20 |   25 |   30 |   35 |   40 |   45 |   50 |  \n",
    "----------------------------------------------------------------------\n",
    "  6 |   12 |   18 |   24 |   30 |   36 |   42 |   48 |   54 |   60 |  \n",
    "----------------------------------------------------------------------\n",
    "  7 |   14 |   21 |   28 |   35 |   42 |   49 |   56 |   63 |   70 |  \n",
    "----------------------------------------------------------------------\n",
    "  8 |   16 |   24 |   32 |   40 |   48 |   56 |   64 |   72 |   80 |  \n",
    "----------------------------------------------------------------------\n",
    "  9 |   18 |   27 |   36 |   45 |   54 |   63 |   72 |   81 |   90 |  \n",
    "----------------------------------------------------------------------\n",
    " 10 |   20 |   30 |   40 |   50 |   60 |   70 |   80 |   90 |  100 |  \n",
    "----------------------------------------------------------------------\n",
    "```\n",
    "\n",
    "Dies ist keine ganz leichte Aufgabe und wir müssen uns ein Paar Sachen zuerst angucken, bevor wir das machen können.\n",
    "\n",
    "Zum einen können wir Strings auch multiplizieren:"
   ]
  },
  {
   "cell_type": "code",
   "execution_count": null,
   "metadata": {},
   "outputs": [],
   "source": [
    "print(25 * \"-\")"
   ]
  },
  {
   "cell_type": "markdown",
   "metadata": {},
   "source": [
    "Und zum anderen müssen wir wissen, wie man Zahlen so ausdruckt, dass sie eine bestimmte Breite haben. Der Code unten druckt die Zahl `x` so, dass sie auf 5 Stellen erweitert wird, wenn sie kürzer ist. Wenn `x` natürlich alleine schon 6 Stellen hat, kann Python nichts machen."
   ]
  },
  {
   "cell_type": "code",
   "execution_count": null,
   "metadata": {},
   "outputs": [],
   "source": [
    "x = 16\n",
    "print(f\"{x:5}\")\n",
    "\n",
    "y = 16000\n",
    "print(f\"{y:5}\")\n",
    "\n",
    "z = 160000\n",
    "print(f\"{z:5}\")"
   ]
  },
  {
   "cell_type": "markdown",
   "metadata": {},
   "source": [
    "Außerdem könnte es hilfreich sein, zu wissen, wie man Sachen ohne Zeilenumbruch ausdruckt. Im Moment erzuegen zwei `print`-Befehle zwei Zeilen:"
   ]
  },
  {
   "cell_type": "code",
   "execution_count": null,
   "metadata": {},
   "outputs": [],
   "source": [
    "print(\"Programmier\")\n",
    "print(\"sprache\")"
   ]
  },
  {
   "cell_type": "markdown",
   "metadata": {},
   "source": [
    "Um das beides in einer Zeile zu haben, muss man Python sagen, dass beim ersten `print`-Befehl kein Zeilenumbruch gewünscht ist. Das sieht dann so aus:"
   ]
  },
  {
   "cell_type": "code",
   "execution_count": null,
   "metadata": {},
   "outputs": [],
   "source": [
    "print(\"Programmier\", end=\"\")\n",
    "print(\"sprache\")"
   ]
  },
  {
   "cell_type": "markdown",
   "metadata": {},
   "source": [
    "Damit müssen wir aber jetzt alles wissen, was wir für diese Aufgabe brauchen. Einen möglichen Ansatz habe ich schon besorgt:"
   ]
  },
  {
   "cell_type": "code",
   "execution_count": null,
   "metadata": {},
   "outputs": [],
   "source": [
    "for zeile in range(1, 11):\n",
    "    for spalte in range(1, 11):\n",
    "        pass  # dein Code hier"
   ]
  }
 ],
 "metadata": {
  "kernelspec": {
   "display_name": "Python 3.10.1 ('venv': venv)",
   "language": "python",
   "name": "python3"
  },
  "language_info": {
   "codemirror_mode": {
    "name": "ipython",
    "version": 3
   },
   "file_extension": ".py",
   "mimetype": "text/x-python",
   "name": "python",
   "nbconvert_exporter": "python",
   "pygments_lexer": "ipython3",
   "version": "3.10.1"
  },
  "orig_nbformat": 4,
  "vscode": {
   "interpreter": {
    "hash": "2e4490693bfb405fcb86983b0bf00700f02db273da556b2a4f05c8e5d3c68815"
   }
  }
 },
 "nbformat": 4,
 "nbformat_minor": 2
}

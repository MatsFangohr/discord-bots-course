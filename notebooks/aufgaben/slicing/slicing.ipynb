{
 "cells": [
  {
   "cell_type": "markdown",
   "metadata": {},
   "source": [
    "# Slicing\n",
    "\n",
    "*Vorkenntnisse: Slicing*\n",
    "\n",
    "Benutze nur `print` und Slicing, um aus der Liste `zahlen` die folgenden Listen ausdrucken zu lassen:\n",
    "```python\n",
    "[2, 5, 8, 11, 14]\n",
    "[8, 13, 18]\n",
    "[10, 9, 8, 7, 6, 5]\n",
    "[19, 12, 5]\n",
    "[0, 20]\n",
    "```"
   ]
  },
  {
   "cell_type": "code",
   "execution_count": null,
   "metadata": {},
   "outputs": [],
   "source": [
    "zahlen = [0, 1, 2, 3, 4, 5, 6, 7, 8, 9, 10, 11, 12, 13, 14, 15, 16, 17, 18, 19, 20]\n",
    "\n",
    "print()  # dein Code ab hier"
   ]
  }
 ],
 "metadata": {
  "kernelspec": {
   "display_name": "Python 3.10.1 ('venv': venv)",
   "language": "python",
   "name": "python3"
  },
  "language_info": {
   "name": "python",
   "version": "3.10.1"
  },
  "orig_nbformat": 4,
  "vscode": {
   "interpreter": {
    "hash": "2e4490693bfb405fcb86983b0bf00700f02db273da556b2a4f05c8e5d3c68815"
   }
  }
 },
 "nbformat": 4,
 "nbformat_minor": 2
}

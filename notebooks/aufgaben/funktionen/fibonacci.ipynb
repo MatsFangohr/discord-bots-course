{
 "cells": [
  {
   "cell_type": "markdown",
   "metadata": {},
   "source": [
    "# Fibonacci-Zahlen\n",
    "\n",
    "*Vorkenntnisse: Listen, Schleifen, (rekursion)*\n",
    "\n",
    "Eine bekannte Zahlenreihe heißt fibonacci. Sie fängt so an:\n",
    "\n",
    "0, 1, 1, 2, 3, 5, 8, 13, 21, 34\n",
    "\n",
    "<details>\n",
    "<summary>Kannst du das Muster erkennen?</summary>\n",
    "Jede Zahl besteht aus der Summe der beiden vorherigen Zahlen.\n",
    "</details>\n",
    "\n",
    "Deine Aufgabe ist es, eine Funktion `fibo(zahl)` zu schreiben, die die `zahl`-te Fibonacci-Zahle ausrechnen und mit `return` zurückgeben kann. Du kannst annehmen, dass `zahl` immer größer gleich `0` ist. \n",
    "\n",
    "Diese Tabelle kann als Richtwert genommen werden:\n",
    "\n",
    "| `zahl` | `fibo(zahl)` |\n",
    "| --- | --- |\n",
    "| 0 | 0 |\n",
    "| 1 | 1 |\n",
    "| 2 | 1 |\n",
    "| 3 | 2 |\n",
    "| 4 | 3 |\n",
    "| 5 | 5 |\n",
    "| 6 | 8 |\n",
    "| 7 | 13 |\n",
    "| 8 | 21 |\n",
    "| 9 | 34 |\n",
    "| 10 | 55 |"
   ]
  },
  {
   "cell_type": "code",
   "execution_count": null,
   "metadata": {},
   "outputs": [],
   "source": [
    "def fibo(zahl):\n",
    "    pass # dein Code hier"
   ]
  },
  {
   "cell_type": "markdown",
   "metadata": {},
   "source": [
    "Diese Aufgabe kann man auch rekursiv lösen. Wenn du nicht weißt, was das bedeutet, überspringe diesen Teil einfach, das werden wir noch besprechen."
   ]
  },
  {
   "cell_type": "code",
   "execution_count": null,
   "metadata": {},
   "outputs": [],
   "source": [
    "def fibo_rekursiv(zahl):\n",
    "    pass # dein Code hier"
   ]
  }
 ],
 "metadata": {
  "language_info": {
   "name": "python"
  },
  "orig_nbformat": 4
 },
 "nbformat": 4,
 "nbformat_minor": 2
}

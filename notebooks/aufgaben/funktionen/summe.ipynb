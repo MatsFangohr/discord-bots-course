{
 "cells": [
  {
   "cell_type": "markdown",
   "metadata": {},
   "source": [
    "# Summe\n",
    "\n",
    "*Vorkenntnisse: Listen, Schleifen, (rekursion)*\n",
    "\n",
    "Schreibe eine Funktion `summiere(zahlen)`, die die Summe einer Liste `zahlen` ermitteln kann."
   ]
  },
  {
   "cell_type": "code",
   "execution_count": null,
   "metadata": {},
   "outputs": [],
   "source": [
    "beispiel_liste = [6, 4, 8, -3, 6, 1, -70, 36, 264, 12]  # richtig ist 264\n",
    "\n",
    "\n",
    "def summiere(zahlen):\n",
    "    pass  # dein Code hier"
   ]
  },
  {
   "cell_type": "markdown",
   "metadata": {},
   "source": [
    "Diese Aufgabe kann man auch rekursiv lösen. Wenn du nicht weißt, was das bedeutet, überspringe diesen Teil einfach, das werden wir noch besprechen.\n",
    "\n",
    "Die rekursive Lösung ist nicht unbedingt besser als die andere. Es lohnt sich trotzdem, sie einmal geschrieben zu haben."
   ]
  },
  {
   "cell_type": "code",
   "execution_count": 1,
   "metadata": {},
   "outputs": [],
   "source": [
    "beispiel_liste = [6, 4, 8, -3, 6, 1, -70, 36, 264, 12]  # richtig ist 264\n",
    "\n",
    "\n",
    "def summiere_rekursiv(zahlen):\n",
    "    pass  # dein Code hier"
   ]
  }
 ],
 "metadata": {
  "kernelspec": {
   "display_name": "Python 3.10.1 ('venv': venv)",
   "language": "python",
   "name": "python3"
  },
  "language_info": {
   "codemirror_mode": {
    "name": "ipython",
    "version": 3
   },
   "file_extension": ".py",
   "mimetype": "text/x-python",
   "name": "python",
   "nbconvert_exporter": "python",
   "pygments_lexer": "ipython3",
   "version": "3.10.1"
  },
  "orig_nbformat": 4,
  "vscode": {
   "interpreter": {
    "hash": "2e4490693bfb405fcb86983b0bf00700f02db273da556b2a4f05c8e5d3c68815"
   }
  }
 },
 "nbformat": 4,
 "nbformat_minor": 2
}

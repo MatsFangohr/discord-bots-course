{
 "cells": [
  {
   "cell_type": "code",
   "execution_count": null,
   "metadata": {},
   "outputs": [],
   "source": [
    "def fibo(zahl):\n",
    "    fibo_zahlen = [0]\n",
    "    for i in range(1, zahl + 1):\n",
    "        if i == 0:\n",
    "            fibo_zahlen.append(0)\n",
    "        elif i == 1:\n",
    "            fibo_zahlen.append(1)\n",
    "        else:\n",
    "            fibo_zahlen.append(fibo_zahlen[-1] + fibo_zahlen[-2])\n",
    "    return fibo_zahlen[-1]\n",
    "\n",
    "print(fibo(10))  # richtig ist 55"
   ]
  },
  {
   "cell_type": "code",
   "execution_count": null,
   "metadata": {},
   "outputs": [],
   "source": [
    "def fibo_rekursiv(zahl):\n",
    "    if zahl == 0:\n",
    "        return 0\n",
    "    elif zahl == 1:\n",
    "        return 1\n",
    "    else:\n",
    "        return fibo_rekursiv(zahl - 1) + fibo_rekursiv(zahl - 2)\n",
    "\n",
    "print(fibo_rekursiv(10))  # richtig ist 55"
   ]
  }
 ],
 "metadata": {
  "kernelspec": {
   "display_name": "Python 3.10.1 ('venv': venv)",
   "language": "python",
   "name": "python3"
  },
  "language_info": {
   "codemirror_mode": {
    "name": "ipython",
    "version": 3
   },
   "file_extension": ".py",
   "mimetype": "text/x-python",
   "name": "python",
   "nbconvert_exporter": "python",
   "pygments_lexer": "ipython3",
   "version": "3.10.1"
  },
  "orig_nbformat": 4,
  "vscode": {
   "interpreter": {
    "hash": "2e4490693bfb405fcb86983b0bf00700f02db273da556b2a4f05c8e5d3c68815"
   }
  }
 },
 "nbformat": 4,
 "nbformat_minor": 2
}

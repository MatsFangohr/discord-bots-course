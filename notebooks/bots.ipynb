{
 "cells": [
  {
   "cell_type": "markdown",
   "metadata": {},
   "source": [
    "# Discord-Bots in Python"
   ]
  },
  {
   "cell_type": "markdown",
   "metadata": {},
   "source": [
    "Inhalte:\n",
    " - Setup\n",
    "   - Discord Applications\n",
    "      - Application und Bot erstellen\n",
    "      - Bot konfigurieren\n",
    "      - Token erhalten\n",
    "      - Bot einladen\n",
    "   - replit als IDE\n",
    " - Programmierung\n",
    "   - discord.py\n",
    "      - Vorlage\n",
    "      - Slash Commands\n",
    "   - ratelimits\n",
    " - Hosting\n",
    "    - replit\n",
    "    - keep-alive\n",
    "    - UptimeRobot"
   ]
  }
 ],
 "metadata": {
  "language_info": {
   "name": "python"
  },
  "orig_nbformat": 4
 },
 "nbformat": 4,
 "nbformat_minor": 2
}

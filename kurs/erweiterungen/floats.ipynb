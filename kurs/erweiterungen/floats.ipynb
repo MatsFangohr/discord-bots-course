{
 "cells": [
  {
   "cell_type": "markdown",
   "metadata": {},
   "source": [
    "# floats\n",
    "\n",
    "Bis jetzt hatten wir hauptsächlich mit ganzen Zahlen (```int```s) zu tun. Diese sind für den Computer schön einfach. Komplizierter wird es, wenn wir Kommazahlen möchten. Wie wir wissen, werden diese mit Punkt statt mit Komma geschrieben - aber es wird verwirrender. \n",
    "\n",
    "Bevor du diesen Code ausführst, überlege, was passieren wird."
   ]
  },
  {
   "cell_type": "code",
   "execution_count": null,
   "metadata": {},
   "outputs": [],
   "source": [
    "a = 0.1\n",
    "b = 0.2\n",
    "\n",
    "if a + b == 0.3:\n",
    "    print(\"0.1 + 0.2 = 0.3\")\n",
    "else:\n",
    "    print(\"0.1 + 0.2 != 0.3\")"
   ]
  },
  {
   "cell_type": "markdown",
   "metadata": {},
   "source": [
    "Hm? Das hatten wir nicht so erwartet. Was ist denn 0.1 + 0.2, wenn nicht 0.3?"
   ]
  },
  {
   "cell_type": "code",
   "execution_count": null,
   "metadata": {},
   "outputs": [],
   "source": [
    "print(a + b)"
   ]
  },
  {
   "cell_type": "markdown",
   "metadata": {},
   "source": [
    "So wie wir das kennen stimmt das ja nicht ganz. \n",
    "\n",
    "Das liegt daran, dass Computer gar keine Zahlen speichern können, die nicht ganz sind. Dies führt manchmal zu solchen 'precision'-Fehlern.\n",
    "\n",
    "Diese sollten bei uns keine Probleme verursachen. Wenn das doch passiert, können wir den `round`-Befehl (engl. runden) benuzten. Dieser kann mehrere Argumente nehmen - das erste ist die Zahl, die gerundet werden soll, und das zweite die Zahl der Nachkommastellen, das standardmäßig den Wert 0 annimmt."
   ]
  },
  {
   "cell_type": "code",
   "execution_count": null,
   "metadata": {},
   "outputs": [],
   "source": [
    "print(round(0.3))\n",
    "print(round(0.9))\n",
    "print(round(37.254, 1))"
   ]
  },
  {
   "cell_type": "markdown",
   "metadata": {},
   "source": [
    "Damit können wir, wenn wir kurz umdenken, überprüfen ob 0.1 + 0.2 = 0.3 (ungefähr)."
   ]
  },
  {
   "cell_type": "code",
   "execution_count": null,
   "metadata": {},
   "outputs": [],
   "source": [
    "if round((a + b) * 10) == 3:\n",
    "    print(\"0.1 + 0.2 = 0.3\")\n",
    "else:\n",
    "    print(\"0.1 + 0.2 != 0.3\")"
   ]
  },
  {
   "cell_type": "markdown",
   "metadata": {},
   "source": [
    "Die beste Lösung ist meistens eine feinere Einheit (Meter statt Kilometer) zu wählen, damit man mit ganzen Zahlen auskommt."
   ]
  }
 ],
 "metadata": {
  "kernelspec": {
   "display_name": "Python 3.10.1 64-bit",
   "language": "python",
   "name": "python3"
  },
  "language_info": {
   "codemirror_mode": {
    "name": "ipython",
    "version": 3
   },
   "file_extension": ".py",
   "mimetype": "text/x-python",
   "name": "python",
   "nbconvert_exporter": "python",
   "pygments_lexer": "ipython3",
   "version": "3.10.1"
  },
  "orig_nbformat": 4,
  "vscode": {
   "interpreter": {
    "hash": "ecfebbd214a33fc245c6a1ac29b15d569a7b3cde7344e404ccbb41600958ed06"
   }
  }
 },
 "nbformat": 4,
 "nbformat_minor": 2
}

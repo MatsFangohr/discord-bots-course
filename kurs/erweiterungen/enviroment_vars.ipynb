{
 "cells": [
  {
   "cell_type": "markdown",
   "metadata": {},
   "source": [
    "# Environment Variables\n",
    "\n",
    "*Vorkenntnisse: replit, discordsetup*\n",
    "\n",
    "Wie du weißt, haben alle Bots einen Token, den man geheim halten sollte. Bei Replit ist aber unser gesamter Code öffentlich - wie behalten wir diesen da versteckt?\n",
    "\n",
    "Dazu gibt es die sogennanten Environment Variables. Diese kann man normalerweise mit einer Datei namens `.env` definieren, doch das müssen wir bei Replit nicht.\n",
    "\n",
    "Öffne [replit](https://replit.com/team/bots-2022) und wähle 'env-testing' aus.\n",
    "\n",
    "Falls du den Code verändert hast, kannst du diesen auskommentieren und mit dem hier ersetzen:\n",
    "```python\n",
    "import os\n",
    "\n",
    "print(os.getenv(\"TERM\"))\n",
    "```\n",
    "\n",
    "Wenn du diesen Code ausführst, siehst du, dass etwas in die Konsole geschrieben wird, dass gar nicht in unserem Programm vorhanden ist - das ist der Name von einem Programm.\n",
    "\n",
    "Das liegt an der funktion `os.getenv`. Das steht für 'get enviroment variable' und gibt uns die Enviroment Variable mit dem angegebenen Namen heraus.\n",
    "\n",
    "Doch wir müssen ja auch irgendwie die Environment Variables definieren können. Wähle dazu links in der Leiste das Schloss aus:\n",
    "\n",
    "![ausgewähltes schloss links in der leiste](../../images/replit/select-env-vars.png)\n",
    "\n",
    "Hier kannst du deine eigenen Environment Variables definieren. Erstellt doch mal eine, die TOKEN heißt. Du brauchst hier keine Anführungszeichen."
   ]
  }
 ],
 "metadata": {
  "kernelspec": {
   "display_name": "Python 3.10.1 ('venv': venv)",
   "language": "python",
   "name": "python3"
  },
  "language_info": {
   "name": "python",
   "version": "3.10.1"
  },
  "orig_nbformat": 4,
  "vscode": {
   "interpreter": {
    "hash": "2e4490693bfb405fcb86983b0bf00700f02db273da556b2a4f05c8e5d3c68815"
   }
  }
 },
 "nbformat": 4,
 "nbformat_minor": 2
}

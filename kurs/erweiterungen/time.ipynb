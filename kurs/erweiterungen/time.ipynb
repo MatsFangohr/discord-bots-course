{
 "cells": [
  {
   "cell_type": "markdown",
   "metadata": {},
   "source": [
    "# `time`\n",
    "\n",
    "*Vorkenntnisse: Module, Floats*\n",
    "\n",
    "`time` ist ein eingebautes Modul (=> aus der 'Standardbibliotek'), dass mit Zeit umgehen kann. Wir werden aber wahrscheinlich nur zwei Funktionen brauchen: `time.sleep` und `time.time`.\n",
    "\n",
    "## `time.sleep`\n",
    "\n",
    "Mit `time.sleep` können wir unserem Programm befehlen, eine bestimmte Zeit (in Sekunden) zu warten."
   ]
  },
  {
   "cell_type": "code",
   "execution_count": null,
   "metadata": {},
   "outputs": [],
   "source": [
    "import time\n",
    "\n",
    "print(\"Programm startet!\")\n",
    "time.sleep(2)\n",
    "print(\"Programm beendet.\")"
   ]
  },
  {
   "cell_type": "markdown",
   "metadata": {},
   "source": [
    "Es muss auch nicht unbedingt eine ganze Zahl an Sekunden warten:"
   ]
  },
  {
   "cell_type": "code",
   "execution_count": null,
   "metadata": {},
   "outputs": [],
   "source": [
    "print(\"Programm startet!\")\n",
    "time.sleep(3.1415)\n",
    "print(\"Programm beendet.\")"
   ]
  },
  {
   "cell_type": "markdown",
   "metadata": {},
   "source": [
    "## time.time\n",
    "\n",
    "Wenn wir eine Funktion hätten, die uns die Zeit seit einem bestimmen Zeitpunkt gibt, könnten wir damit die Laufzeit unseres Programmes bestimmen. \n",
    "\n",
    "Nehmen wir mal als Beispiel an, wir hätten unseren Code um 14:02:00 ausgeführt und um 14:03:00 wäre er fertig gewesen. Damit hätte er eine Laufzeit von einer Minute. Rechnerisch können wir das bestimmen, indem wir die Startzeit von der Stoppzeit abziehen: 14:03:00 - 14:02:00 = 00:01:00.\n",
    "\n",
    "\n",
    "`time.time` gibt uns die Zeit seit dem 1.1.1970, 00:00 (UTC) in Sekunden. Das erscheint zwar erstmal nicht ganz so nützlich - doch so merken sich Computer häufig die Zeit. Das liegt daran, dass man dann nur eine Zahl aufschreiben muss; als ich diesen Satz schreibe waren es 1659959555 Sekunden seit 00:00, 1.1.1970.\n",
    "\n",
    "Das gibt uns also eine Funktion, die uns die Zeit seit einem bestimmten Zeitpunkt als Zahl zurückgibt. \n",
    "\n",
    "Jetzt müssen wir nur noch bei unserem Programm die Startzeit von der Stoppzeit abziehen, um auf die Differenz (=> die Laufzeit) zu kommen:"
   ]
  },
  {
   "cell_type": "code",
   "execution_count": null,
   "metadata": {},
   "outputs": [],
   "source": [
    "import time\n",
    "\n",
    "start = time.time()\n",
    "time.sleep(5)\n",
    "stop = time.time()\n",
    "\n",
    "print(stop - start)"
   ]
  },
  {
   "cell_type": "markdown",
   "metadata": {},
   "source": [
    "Die Laufzeit von einem `sleep`-Befehl zu messen ist noch nicht besonders nützlich - es werden sich noch Orte zeigen, wo das doch nützlich sein könnte.\n",
    "\n",
    "Die, die die `datetime`-Erweiterung schon gemacht haben, haben vielleicht gemerkt, dass man das auch damit lösen könnte - aber diese Lösung ist generell einfacher uns akzeptierter.\n",
    "\n",
    "---\n",
    "## Aufgabe\n",
    "\n",
    "Schreibe ein Programm, das 10 Sekunden in Zehntelsekunden zählt. Die Ausgabe könnte so aussehen:\n",
    "\n",
    "0.1  \n",
    "0.2  \n",
    "0.3  \n",
    "0.4  \n",
    "0.5  \n",
    "0.6  \n",
    "...  \n",
    "9.8  \n",
    "9.9  \n",
    "10.0  \n",
    "\n",
    "Theoretisch sollte das genau 10 Sekunden dauern. Wenn dein Programm schon funktioniert, kannst du überprüfen, ob die Laufzeit wirklich genau 10 Sekunden beträgt."
   ]
  },
  {
   "cell_type": "code",
   "execution_count": null,
   "metadata": {},
   "outputs": [],
   "source": [
    "# dein Code hier"
   ]
  }
 ],
 "metadata": {
  "kernelspec": {
   "display_name": "Python 3.10.1 64-bit",
   "language": "python",
   "name": "python3"
  },
  "language_info": {
   "codemirror_mode": {
    "name": "ipython",
    "version": 3
   },
   "file_extension": ".py",
   "mimetype": "text/x-python",
   "name": "python",
   "nbconvert_exporter": "python",
   "pygments_lexer": "ipython3",
   "version": "3.10.1"
  },
  "orig_nbformat": 4,
  "vscode": {
   "interpreter": {
    "hash": "ecfebbd214a33fc245c6a1ac29b15d569a7b3cde7344e404ccbb41600958ed06"
   }
  }
 },
 "nbformat": 4,
 "nbformat_minor": 2
}

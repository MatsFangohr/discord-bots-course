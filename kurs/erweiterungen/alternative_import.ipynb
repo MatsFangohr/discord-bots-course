{
 "cells": [
  {
   "cell_type": "markdown",
   "metadata": {},
   "source": [
    "# Alternative Import-Syntax\n",
    "\n",
    "Bis jetzt haben immer nur `import xyz` benutzt.\n",
    "\n",
    "Doch wenn man etwas aus einem Modul häufiger mal braucht, oder der Modulname lang und nervig ist, kann man es auch anders importieren.\n",
    "\n",
    "Ich habe ein Beispielmodul geschrieben, dass einen `.wert` und eine `.berechnung()`-Funktion, die eine zufällige Zahl zurückgibt.\n",
    "\n",
    "Bis jetzt würden wir das so machen:"
   ]
  },
  {
   "cell_type": "code",
   "execution_count": null,
   "metadata": {},
   "outputs": [],
   "source": [
    "import modul_mit_einem_sehr_sehr_langem_namen\n",
    "\n",
    "print(modul_mit_einem_sehr_sehr_langem_namen.wert)\n",
    "\n",
    "print(modul_mit_einem_sehr_sehr_langem_namen.berechnung())"
   ]
  },
  {
   "cell_type": "markdown",
   "metadata": {},
   "source": [
    "Das sieht nicht gerade schön aus.\n",
    "\n",
    "Wenn wir nach unserem `import xyz` noch `as abc` hinzufügen, importiert Python `xyz` unter dem Namen `abc`.\n",
    "\n",
    "Beispiel:"
   ]
  },
  {
   "cell_type": "code",
   "execution_count": null,
   "metadata": {},
   "outputs": [],
   "source": [
    "import modul_mit_einem_sehr_sehr_langem_namen as modul\n",
    "\n",
    "print(modul.wert)\n",
    "\n",
    "print(modul.berechnung())"
   ]
  },
  {
   "cell_type": "markdown",
   "metadata": {},
   "source": [
    "Wir können auch nur bestimmte Funktionen oder Werte von einem Modul importieren.\n",
    "\n",
    "Dazu müssen wir `from modul import funktion, wert` benutzen. Wenn wir das tun, brauchen wir den `modul.`-Präfix nicht mehr:"
   ]
  },
  {
   "cell_type": "code",
   "execution_count": null,
   "metadata": {},
   "outputs": [],
   "source": [
    "from modul_mit_einem_sehr_sehr_langem_namen import wert, berechnung\n",
    "\n",
    "print(wert)\n",
    "\n",
    "print(berechnung())"
   ]
  }
 ],
 "metadata": {
  "kernelspec": {
   "display_name": "Python 3.10.1 ('venv': venv)",
   "language": "python",
   "name": "python3"
  },
  "language_info": {
   "codemirror_mode": {
    "name": "ipython",
    "version": 3
   },
   "file_extension": ".py",
   "mimetype": "text/x-python",
   "name": "python",
   "nbconvert_exporter": "python",
   "pygments_lexer": "ipython3",
   "version": "3.10.1"
  },
  "orig_nbformat": 4,
  "vscode": {
   "interpreter": {
    "hash": "2e4490693bfb405fcb86983b0bf00700f02db273da556b2a4f05c8e5d3c68815"
   }
  }
 },
 "nbformat": 4,
 "nbformat_minor": 2
}

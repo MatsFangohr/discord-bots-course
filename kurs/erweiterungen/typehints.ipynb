{
 "cells": [
  {
   "cell_type": "markdown",
   "metadata": {},
   "source": [
    "# type hints\n",
    "\n",
    "Wenn man eine Funktion schreibt, kann es mal passieren, dass man die Parameter nicht ganz so sinnvoll benennt..."
   ]
  },
  {
   "cell_type": "code",
   "execution_count": null,
   "metadata": {},
   "outputs": [],
   "source": [
    "def a(b, c, d, e):\n",
    "    return b**c / d + e"
   ]
  },
  {
   "cell_type": "markdown",
   "metadata": {},
   "source": [
    "Das ist nicht ganz ideal. Abgesehen von der Tatsache, dass man das generell vermeiden sollte, kann es manchmal unklar sein, was für Objekte in eine Funktion hereingegeben werden können. In vielen anderen Programmiersprachen muss man das ganz genau festlegen - alles falsche führt zu einem Fehler. Das geht in Python nicht, aber wir können sozusagen andeuten, was für ein `type` unsere Argumente haben sollen. Dazu setzen wir nach einem Doppelpunkt den type (`int`, `str`, `list`, usw.)."
   ]
  },
  {
   "cell_type": "code",
   "execution_count": null,
   "metadata": {},
   "outputs": [],
   "source": [
    "def fakultaet(zahl: int):\n",
    "    ergebnis = 1\n",
    "    for i in range(1, zahl + 1):\n",
    "        ergebnis = ergebnis * i\n",
    "    return ergebnis"
   ]
  },
  {
   "cell_type": "markdown",
   "metadata": {},
   "source": [
    "Wir können mit ` -> type` auch angeben, was für ein Objekt unsere Funktion zurückgibt:"
   ]
  },
  {
   "cell_type": "code",
   "execution_count": null,
   "metadata": {},
   "outputs": [],
   "source": [
    "def fakultaet(zahl: int) -> int:\n",
    "    ergebnis = 1\n",
    "    for i in range(1, zahl + 1):\n",
    "        ergebnis = ergebnis * i\n",
    "    return ergebnis"
   ]
  },
  {
   "cell_type": "markdown",
   "metadata": {},
   "source": [
    "Oder bei keinem `return`-Wert:"
   ]
  },
  {
   "cell_type": "code",
   "execution_count": null,
   "metadata": {},
   "outputs": [],
   "source": [
    "def fakultaet(zahl: int) -> None:\n",
    "    ergebnis = 1\n",
    "    for i in range(1, zahl + 1):\n",
    "        ergebnis = ergebnis * i\n",
    "    print(ergebnis)"
   ]
  },
  {
   "cell_type": "markdown",
   "metadata": {},
   "source": [
    "Wenn etwas mehrere types sein könnte, trennen wir die verschiedenen mit einem Pipe (|)."
   ]
  },
  {
   "cell_type": "code",
   "execution_count": null,
   "metadata": {},
   "outputs": [],
   "source": [
    "def geteilt(a: int | float, b: int | float) -> float:\n",
    "    return a / b"
   ]
  },
  {
   "cell_type": "markdown",
   "metadata": {},
   "source": [
    "Wir können das auch bei Standardwerten angeben:"
   ]
  },
  {
   "cell_type": "code",
   "execution_count": null,
   "metadata": {},
   "outputs": [],
   "source": [
    "def fakultaet(zahl: int = 5) -> None:\n",
    "    ergebnis = 1\n",
    "    for i in range(1, zahl + 1):\n",
    "        ergebnis = ergebnis * i\n",
    "    print(ergebnis)"
   ]
  },
  {
   "cell_type": "markdown",
   "metadata": {},
   "source": [
    "Bei Listen und Dictionaries sollte man auch angeben, woraus die Liste besteht. Dabei geben wir nicht die Länge, sondern den Datentyp an. Das machen wir mit `list[int]`, oder ähnlich."
   ]
  },
  {
   "cell_type": "code",
   "execution_count": null,
   "metadata": {},
   "outputs": [],
   "source": [
    "def liste_summe(l: list[int | float]) -> int | float:\n",
    "    summe = 0\n",
    "    for zahl in l:\n",
    "        summe += zahl\n",
    "    return summe"
   ]
  },
  {
   "cell_type": "code",
   "execution_count": null,
   "metadata": {},
   "outputs": [],
   "source": [
    "def ganz_besondere_funktion(daten: dict[str:list]) -> int:\n",
    "    pass  # ist egal, nur als Beispiel für Dictionaries"
   ]
  }
 ],
 "metadata": {
  "kernelspec": {
   "display_name": "Python 3.10.1 64-bit",
   "language": "python",
   "name": "python3"
  },
  "language_info": {
   "codemirror_mode": {
    "name": "ipython",
    "version": 3
   },
   "file_extension": ".py",
   "mimetype": "text/x-python",
   "name": "python",
   "nbconvert_exporter": "python",
   "pygments_lexer": "ipython3",
   "version": "3.10.1"
  },
  "orig_nbformat": 4,
  "vscode": {
   "interpreter": {
    "hash": "ecfebbd214a33fc245c6a1ac29b15d569a7b3cde7344e404ccbb41600958ed06"
   }
  }
 },
 "nbformat": 4,
 "nbformat_minor": 2
}

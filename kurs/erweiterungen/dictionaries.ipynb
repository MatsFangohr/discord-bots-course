{
 "cells": [
  {
   "cell_type": "markdown",
   "metadata": {},
   "source": [
    "# Dictionaries / Hashmaps / Hashtables\n",
    "\n",
    "*Vorkenntnisse: Listen, Slicing, Tuples, typehints*\n",
    "\n",
    "Eine Dictionary (type `dict`) ist wie eine Liste, nur dass wir die Indexes selber bestimmen können.\n",
    "\n",
    "---\n",
    "\n",
    "Eine Liste ist eine Sammlung aus index:wert Paaren.\n",
    "\n",
    "Jedem Wert wird ein Index zugeordnet, indem man von 0 an hochzählt."
   ]
  },
  {
   "cell_type": "code",
   "execution_count": null,
   "metadata": {},
   "outputs": [],
   "source": [
    "schueler = [\"Jannis\", \"9e\", 14]  # name, klasse, alter\n",
    "# indexes    0         1    2"
   ]
  },
  {
   "cell_type": "code",
   "execution_count": null,
   "metadata": {},
   "outputs": [],
   "source": [
    "schueler[0]"
   ]
  },
  {
   "cell_type": "code",
   "execution_count": null,
   "metadata": {},
   "outputs": [],
   "source": [
    "schueler[:-1]"
   ]
  },
  {
   "cell_type": "markdown",
   "metadata": {},
   "source": [
    "Dictionaries sind Sammlungen aus key:wert Paaren.\n",
    "\n",
    "Jetzt hat ein Wert keinen Index mehr, sondern einen Key. Dieser funktioniert wie ein Index, nur, dass man ihn selber bestimmen kann.\n",
    "\n",
    "Diese Keys müssen auch nicht unbedingt Integer sein - solange sie nicht doppelt vorkommen.\n",
    "\n",
    "Wir definieren eine Dictionary mit geschweifen Klammern `{}`, in denen wir `key: value` (mit Kommatrennung) schreiben."
   ]
  },
  {
   "cell_type": "code",
   "execution_count": null,
   "metadata": {},
   "outputs": [],
   "source": [
    "schueler = {\"name\": \"Jannis\", \"klasse\": \"9e\", \"alter\": 14}\n",
    "\n",
    "# oder auch so\n",
    "\n",
    "schueler = {\n",
    "    \"name\": \"Jannis\",\n",
    "    \"klasse\": \"9e\",\n",
    "    \"alter\": 14,\n",
    "}"
   ]
  },
  {
   "cell_type": "markdown",
   "metadata": {},
   "source": [
    "Wir können unsere Werte wie bei der Liste jetzt mit dem Key abrufen."
   ]
  },
  {
   "cell_type": "code",
   "execution_count": null,
   "metadata": {},
   "outputs": [],
   "source": [
    "schueler[\"name\"]"
   ]
  },
  {
   "cell_type": "code",
   "execution_count": null,
   "metadata": {},
   "outputs": [],
   "source": [
    "schueler[\"alter\"]"
   ]
  },
  {
   "cell_type": "markdown",
   "metadata": {},
   "source": [
    "Um einen Wert zu ändern oder hinzuzufügen, kannst du mit dem Key leicht auf den Wert zugreifen:"
   ]
  },
  {
   "cell_type": "code",
   "execution_count": null,
   "metadata": {},
   "outputs": [],
   "source": [
    "schueler[\"klasse\"] = \"10e\"\n",
    "schueler[\"alte_klasse\"] = \"9e\""
   ]
  },
  {
   "cell_type": "code",
   "execution_count": null,
   "metadata": {},
   "outputs": [],
   "source": [
    "schueler"
   ]
  },
  {
   "cell_type": "markdown",
   "metadata": {},
   "source": [
    "Bei Dictionaries ist kein Slicing oder Sortieren möglich, da es keine klare Reihenfolge gibt.\n",
    "\n",
    "---\n",
    "\n",
    "Man kann alle Datentypen (auch Listen und Dictionaries) als Werte benuzten:"
   ]
  },
  {
   "cell_type": "code",
   "execution_count": null,
   "metadata": {},
   "outputs": [],
   "source": [
    "schueler = {\n",
    "    \"name\": \"Jannis\",\n",
    "    \"klasse\": \"9e\",\n",
    "    \"alter\": 14,\n",
    "    \"wahlfächer\": [\"Latein\", \"Roberta\"],\n",
    "}\n",
    "\n",
    "schueler[\"wahlfächer\"]"
   ]
  },
  {
   "cell_type": "markdown",
   "metadata": {},
   "source": [
    "Jedoch kann man nicht alles als Key verwenden. Auf auffälligsten ist, dass Listen nicht funktionieren. Stattdessen muss man Tuples nehmen - dies liegt daran, dass Listen veränderbar sind.\n",
    "\n",
    "---\n",
    "\n",
    "## `keys` und `values`"
   ]
  },
  {
   "cell_type": "markdown",
   "metadata": {},
   "source": [
    "Manchmal kommt es vor, dass wir gerne eine Liste der Keys oder Werte hätte. Dazu müssen wir folgendes schreiben:"
   ]
  },
  {
   "cell_type": "code",
   "execution_count": null,
   "metadata": {},
   "outputs": [],
   "source": [
    "print(list(schueler.keys()))\n",
    "print(list(schueler.values()))"
   ]
  },
  {
   "cell_type": "markdown",
   "metadata": {},
   "source": [
    "---\n",
    "\n",
    "## Schleifen\n",
    "\n",
    "Wenn wir die Werte in einer Liste durchgehen möchten, können wir `for wert in liste` schreiben. Bei Dictionaries geht das auch, aber es ist etwas komplizierter.\n",
    "\n",
    "Entweder:"
   ]
  },
  {
   "cell_type": "code",
   "execution_count": null,
   "metadata": {},
   "outputs": [],
   "source": [
    "for key in schueler:\n",
    "    print(key, schueler[key])"
   ]
  },
  {
   "cell_type": "markdown",
   "metadata": {},
   "source": [
    "Oder, die elegantere Lösung:"
   ]
  },
  {
   "cell_type": "code",
   "execution_count": null,
   "metadata": {},
   "outputs": [],
   "source": [
    "for key, value in schueler.items():\n",
    "    print(key, value)"
   ]
  }
 ],
 "metadata": {
  "kernelspec": {
   "display_name": "Python 3.10.1 ('venv': venv)",
   "language": "python",
   "name": "python3"
  },
  "language_info": {
   "codemirror_mode": {
    "name": "ipython",
    "version": 3
   },
   "file_extension": ".py",
   "mimetype": "text/x-python",
   "name": "python",
   "nbconvert_exporter": "python",
   "pygments_lexer": "ipython3",
   "version": "3.10.1"
  },
  "orig_nbformat": 4,
  "vscode": {
   "interpreter": {
    "hash": "2e4490693bfb405fcb86983b0bf00700f02db273da556b2a4f05c8e5d3c68815"
   }
  }
 },
 "nbformat": 4,
 "nbformat_minor": 2
}

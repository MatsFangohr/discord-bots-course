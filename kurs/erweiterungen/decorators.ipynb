{
 "cells": [
  {
   "cell_type": "markdown",
   "metadata": {},
   "source": [
    "# Decoratoren und Funktionen als Argumente\n",
    "\n",
    "*Vorkenntnisse: time, typehints*"
   ]
  },
  {
   "cell_type": "code",
   "execution_count": null,
   "metadata": {},
   "outputs": [],
   "source": [
    "import time\n",
    "from typing import Callable\n",
    "\n",
    "\n",
    "def timeit(func):  # soll / muss nicht verstanden werden\n",
    "    def timed(*args, **kwargs):\n",
    "        start = time.time()\n",
    "        try:\n",
    "            return func(*args, **kwargs)\n",
    "        finally:\n",
    "            zeit = time.time() - start\n",
    "            print(f\"laufzeit: {zeit}s\")\n",
    "\n",
    "    return timed"
   ]
  },
  {
   "cell_type": "markdown",
   "metadata": {},
   "source": [
    "---\n",
    "\n",
    "## Wichtige Unterscheidung"
   ]
  },
  {
   "cell_type": "code",
   "execution_count": null,
   "metadata": {},
   "outputs": [],
   "source": [
    "def hallo():\n",
    "    print(\"Hallo!\")\n",
    "\n",
    "\n",
    "hallo()  # führt die Funktion aus"
   ]
  },
  {
   "cell_type": "code",
   "execution_count": null,
   "metadata": {},
   "outputs": [],
   "source": [
    "hallo  # führt die Funktion nicht aus, ist eine 'Referenz' zur hallo-Funktion"
   ]
  },
  {
   "cell_type": "code",
   "execution_count": null,
   "metadata": {},
   "outputs": [],
   "source": [
    "anderer_name = (\n",
    "    hallo  # erstellt eine Variable `anderer_name`, die das gleiche wie `hallo` ist\n",
    ")"
   ]
  },
  {
   "cell_type": "code",
   "execution_count": null,
   "metadata": {},
   "outputs": [],
   "source": [
    "anderer_name()  # führt `anderer_name`, also `hallo`, aus."
   ]
  },
  {
   "cell_type": "markdown",
   "metadata": {},
   "source": [
    "---\n",
    "\n",
    "## Funktionen als Argumente\n",
    "\n",
    "Du weißt schon, wie du Objekte als Argumente benutzen kannst. Doch Funktionen sind auch nur eine Art Objekt. Man kann sie auch als Argumente benutzen - als type hint benutzt man `typing.Callable`.\n",
    "\n",
    "Schauen wir uns einen Rechner als Beispiel an."
   ]
  },
  {
   "cell_type": "code",
   "execution_count": null,
   "metadata": {},
   "outputs": [],
   "source": [
    "def rechnen(func: Callable, a: int | float, b: int | float) -> int | float:\n",
    "    return func(a, b)\n",
    "\n",
    "\n",
    "def addieren(a, b):\n",
    "    return a + b\n",
    "\n",
    "\n",
    "def subtrahieren(a, b):\n",
    "    return a - b\n",
    "\n",
    "\n",
    "def mal(a, b):\n",
    "    return a * b\n",
    "\n",
    "\n",
    "def geteilt(a, b):\n",
    "    return a / b\n",
    "\n",
    "\n",
    "def hoch(a, b):\n",
    "    return a**b"
   ]
  },
  {
   "cell_type": "markdown",
   "metadata": {},
   "source": [
    "Hier haben wir eine Funktion `rechnen`, die eine Funktion `func` mit den Argumenten `a` und `b` ausführt.\n",
    "\n",
    "Um diese zu benutzen, müssen wir:"
   ]
  },
  {
   "cell_type": "code",
   "execution_count": null,
   "metadata": {},
   "outputs": [],
   "source": [
    "rechnen(addieren, 12, 3)"
   ]
  },
  {
   "cell_type": "markdown",
   "metadata": {},
   "source": [
    "`func` wird `addieren`, `a` wird `12` und `b` wird `3`. Man kann sich das so vorstellen, dass die jeweiligen Parameter (`func`, `a`, `b`) mit den jeweiligen Argumenten (`addieren`, `12`, `3`) ersetzt werden. Dann stände da theoretisch:\n",
    "\n",
    "```python\n",
    "return addieren(12, 3)\n",
    "```\n",
    "Also rechnet Python `addieren(12, 3)` aus, und gibt uns das Ergebnis zurück.\n",
    "\n",
    "Probiere, das Funktionsargument und die Zahlen zu verändern und gucke, was passiert."
   ]
  },
  {
   "cell_type": "markdown",
   "metadata": {},
   "source": [
    "---\n",
    "\n",
    "## Zeitmessung & Aufgabe\n",
    " \n",
    "In der time-Erweiterung hast du gelernt, die Laufzeit einer Funktion zu bestimmen. Es ist aber möglich, eine Funktion zu schreiben, die von jeder anderen Funktion die Laufzeit bestimmen kann - aber bei der Verwendung nur eine Zeile braucht.\n",
    "\n",
    "Dazu können wir eine Funktion `laufzeit(func)` nehmen, die die `func`-Funktion ausführt und von dieser die Laufzeit bestimmt.\n",
    "\n",
    "Versuche, eine solche Funktion zu schreiben. Unsere `test_func` darf noch keine Parameter haben."
   ]
  },
  {
   "cell_type": "code",
   "execution_count": null,
   "metadata": {},
   "outputs": [],
   "source": [
    "def laufzeit(func: Callable) -> float:\n",
    "    pass"
   ]
  },
  {
   "cell_type": "markdown",
   "metadata": {},
   "source": [
    "Test:"
   ]
  },
  {
   "cell_type": "code",
   "execution_count": null,
   "metadata": {},
   "outputs": [],
   "source": [
    "def test_func():\n",
    "    time.sleep(5)\n",
    "\n",
    "\n",
    "print(laufzeit(test_func))"
   ]
  },
  {
   "cell_type": "markdown",
   "metadata": {},
   "source": [
    "Du brauchst, um weiterzumachen, eine funktionierende `laufzeit`-Funktion. Wenn du es selber nicht hinbekommst, frage gerne nach Hilfe oder versuche, [die Lösung](./l%C3%B6sungen/decorators_l.py) zu verstehen."
   ]
  },
  {
   "cell_type": "markdown",
   "metadata": {},
   "source": [
    "---\n",
    "\n",
    "## Decoratoren\n",
    "\n",
    "Wenn wir eine Funktion haben, die nur eine andere Funktion als Parameter nimmt (mehr Parameter gehen auch, aber das ist komplizierter), können wir auch einen sogenannten Decorator benutzen. Decoratoren werden mit @ vor `def`-Statements geschrieben.\n",
    "\n",
    "Dazu müssten wir eine Funktion schreiben, die eine Funktion herausgibt. Das werden wir hier nicht machen - für uns reicht es zu wissen, wie man sie anwendet.\n",
    "\n",
    "Beim Setup habe ich eine Funktion `timeit` definiert, die man als Decorator benutzen kann. Dazu muss man `@timeit` vor die Funktionsdefinition schreiben - dann modifiziert Python die `test_func`-Funktion so, dass sie nach ihrer Ausführung ihre Laufzeit in die Kolsole druckt."
   ]
  },
  {
   "cell_type": "code",
   "execution_count": null,
   "metadata": {},
   "outputs": [],
   "source": [
    "@timeit\n",
    "def test_func(x):\n",
    "    zahlen = []\n",
    "    for i in range(x):\n",
    "        zahlen.append(i**2)\n",
    "\n",
    "\n",
    "test_func(100000)\n",
    "test_func(10000000)\n",
    "test_func(50000000)"
   ]
  }
 ],
 "metadata": {
  "kernelspec": {
   "display_name": "Python 3.10.1 64-bit",
   "language": "python",
   "name": "python3"
  },
  "language_info": {
   "codemirror_mode": {
    "name": "ipython",
    "version": 3
   },
   "file_extension": ".py",
   "mimetype": "text/x-python",
   "name": "python",
   "nbconvert_exporter": "python",
   "pygments_lexer": "ipython3",
   "version": "3.10.1"
  },
  "orig_nbformat": 4,
  "vscode": {
   "interpreter": {
    "hash": "ecfebbd214a33fc245c6a1ac29b15d569a7b3cde7344e404ccbb41600958ed06"
   }
  }
 },
 "nbformat": 4,
 "nbformat_minor": 2
}

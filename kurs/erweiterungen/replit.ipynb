{
 "cells": [
  {
   "cell_type": "markdown",
   "metadata": {},
   "source": [
    "# replit\n",
    "\n",
    "replit ist ein Webeditor für viele Programmiersprachen. Für uns hat es den Vorteil, dass wir nichts installieren müssen und wir die Bots da sogar kostenlos hosten können.\n",
    "\n",
    "Zuerst müssen wir einen Account erstellen. Das geht [hier](https://replit.com/signup).\n",
    "\n",
    "Ich würde empfehlen, einen Usernamen zu wählen, mit dem du nicht zu identifizieren bist, weil auf replit alles öffentlich ist.\n",
    "\n",
    "Den Rest erfährst du in [der discord.py-Einführung](../discordpy_einführung.ipynb)."
   ]
  }
 ],
 "metadata": {
  "kernelspec": {
   "display_name": "Python 3.10.1 64-bit",
   "language": "python",
   "name": "python3"
  },
  "language_info": {
   "name": "python",
   "version": "3.10.1"
  },
  "orig_nbformat": 4,
  "vscode": {
   "interpreter": {
    "hash": "ecfebbd214a33fc245c6a1ac29b15d569a7b3cde7344e404ccbb41600958ed06"
   }
  }
 },
 "nbformat": 4,
 "nbformat_minor": 2
}

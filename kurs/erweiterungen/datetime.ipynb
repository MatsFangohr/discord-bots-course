{
 "cells": [
  {
   "cell_type": "markdown",
   "metadata": {},
   "source": [
    "# `datetime`\n",
    "\n",
    "`datetime` ist ein Pythonmodul für die Manipulierung von Daten und Zeiten. Es kann sehr viel, aber wir begrenzen uns erstmal auf das nötige.\n",
    "\n",
    "`datetime` funktioniert mit dem Prinzip von datetime-Objekten. Diese kannst du dir als Datentyp vorstellen, wie `str`, `int` und `list`."
   ]
  },
  {
   "cell_type": "code",
   "execution_count": null,
   "metadata": {},
   "outputs": [],
   "source": [
    "import datetime"
   ]
  },
  {
   "cell_type": "code",
   "execution_count": null,
   "metadata": {},
   "outputs": [],
   "source": [
    "mein_datetime_objekt = datetime.datetime.now()  # kannst du erstmal ignorieren\n",
    "print(type(mein_datetime_objekt))"
   ]
  },
  {
   "cell_type": "markdown",
   "metadata": {},
   "source": [
    "Die Idee ist, dass jedes `datetime`-Objekt einen bestimmten Moment speichert - mit Jahr, Monat, Tag, Stunde, Minute, Sekunde und mehr. \n",
    "\n",
    "Man kann ein solches Objekt mit `datetime.datetime.now()` erstellen. Das gibt uns, logischerweise, das `datetime`-Objekt von der Zeit jetzt gerade wieder.\n",
    "\n",
    "Die einzelnen Werte eines `datetime`-Objektes kann man mit `.day`, `.hour`, usw. abrufen."
   ]
  },
  {
   "cell_type": "code",
   "execution_count": null,
   "metadata": {},
   "outputs": [],
   "source": [
    "jetzt = datetime.datetime.now()\n",
    "print(jetzt.hour, jetzt.minute, jetzt.second)"
   ]
  },
  {
   "cell_type": "markdown",
   "metadata": {},
   "source": [
    "---\n",
    "### `timedelta`\n",
    "Man kann auch Zeiten zusammenaddieren. Dazu brauchen wir `datetime.timedelta`."
   ]
  },
  {
   "cell_type": "code",
   "execution_count": null,
   "metadata": {},
   "outputs": [],
   "source": [
    "jetzt = datetime.datetime.now()\n",
    "bald = jetzt + datetime.timedelta(minutes=10)\n",
    "print(bald.hour, bald.minute, bald.second)"
   ]
  },
  {
   "cell_type": "markdown",
   "metadata": {},
   "source": [
    "Man ist auch nicht auf Minuten begrenzt; die meisten anderen Größen gehen auch.\n",
    "\n",
    "Aber merke: Jahre und Monate kann man nicht einstellen, da diese nicht immer gleich lang sind. Dazu musst du dann zu Jahren umrechnen - für unsere Zwecke können wir uns erstmal vorstellen, dass es keine Schaltjahre gibt."
   ]
  },
  {
   "cell_type": "markdown",
   "metadata": {},
   "source": [
    "---\n",
    "### `strftime`\n",
    "\n",
    "Wenn man ein `datetime`-Objekt darstellen möchte, kann man immer auf `jetzt.second` zugreifen, oder einfach `jetzt.strftime()` benutzen.\n",
    "\n",
    "`strftime` steht für 'string from time' und erstellt uns einen String.\n",
    "\n",
    "In den Klammern hinter `strftime` müssen wir angeben, in welchem Format wir unseren String haben wollen. Dabei gibt es verschiedene Symbolkombinationen mit `%`, die dann mit Werten ersetzt werden.\n",
    "\n",
    "Die, die man am häufigsten braucht, sind:\n",
    "- `%S`: Sekunde (0-padded)\n",
    "- `%M`: Minute (0-padded)\n",
    "- `%H`: Stunde (0-padded, 24h)\n",
    "- `%d`: Tag (0-padded)\n",
    "- `%m`: Monat (0-padded)\n",
    "- `%Y`: Jahr (0-padded)\n",
    "\n",
    "Auf [strfti.me](https://www.strfti.me/?f=%25Y-%25m-%25d) kann man alle Abkürzungen sehen und ausprobieren."
   ]
  },
  {
   "cell_type": "code",
   "execution_count": null,
   "metadata": {},
   "outputs": [],
   "source": [
    "jetzt = datetime.datetime.now()\n",
    "\n",
    "print(jetzt.strftime(\"%H %M %S\"))"
   ]
  },
  {
   "cell_type": "markdown",
   "metadata": {},
   "source": [
    "---\n",
    "## Aufgabe\n",
    "\n",
    "Schreibe ein Programm, dass die Zeit in 34 Minuten und 647 Sekunden vor 7 Jahren in dem Format 2022-08-01 23:59:59 ausgibt. (YYYY-MM-DD HH-MM-SS)"
   ]
  },
  {
   "cell_type": "code",
   "execution_count": null,
   "metadata": {},
   "outputs": [],
   "source": [
    "# dein Code hier"
   ]
  },
  {
   "cell_type": "markdown",
   "metadata": {},
   "source": [
    "---\n",
    "\n",
    "## Unix Timestamp\n",
    "\n",
    "Beim Programmieren ist es manchmal nützlich, einen Weg zu haben, unabhängig von der Sprache die Zeit auszudrücken. Dazu hat jemand mal den Unix Timestamp erfunden.\n",
    "\n",
    "Er gibt die Anzahl der Sekunden seit 1.1.1970 00:00:00 an. Jetzt gerade, wo ich das hier schreibe, ist er 1661067972.\n",
    "\n",
    "Wenn du ein `datetime.datetime`-Objekt hast, wie von `datetime.strptime`, kannst du mit `.timestamp()` den Unix Timestamp bekommen."
   ]
  },
  {
   "cell_type": "code",
   "execution_count": null,
   "metadata": {},
   "outputs": [],
   "source": [
    "datetime.datetime.now().timestamp()"
   ]
  },
  {
   "cell_type": "markdown",
   "metadata": {},
   "source": [
    "Das ist für uns interessant, weil man diese Timestamps auch bei Discord verwenden kann. Copy-Paste gleich den folgenden Text und schicke ihn irgendwo auf Discord, um zu sehen, wann ich diesen Satz geschrieben habe: \n",
    "\n",
    "`<t:1661068224:R>`\n",
    "\n",
    "Du kannst da sogar mit der Maus drauf, um die genaue Zeit zu sehen.\n",
    "\n",
    "Diese Discord-Timestamps aktualisieren sich sogar mit der Zeit! Schicke diesen hier mal:"
   ]
  },
  {
   "cell_type": "code",
   "execution_count": null,
   "metadata": {},
   "outputs": [],
   "source": [
    "print(f\"<t:{round(datetime.datetime.now().timestamp())}:R>\")"
   ]
  },
  {
   "cell_type": "markdown",
   "metadata": {},
   "source": [
    "Diese Nachrichten kannst du auch selber erstellen: <t:unix_timestamp:format>  \n",
    "Um einen bestimmten Timestamp zu finden, kannst du [unixtimestamp.com](https://www.unixtimestamp.com/) verwenden.  \n",
    "Die verschiedenen Formate werden [hier](https://discord.com/developers/docs/reference#message-formatting-timestamp-styles) aufgezählt.\n",
    "\n",
    "---\n",
    "\n",
    "### Aufgabe 2\n",
    "\n",
    "Schreibe eine Discord-Nachricht, die dein Geburtsdatum im Format 'vor x Jahren' und '01/01/1970' anzeigt."
   ]
  }
 ],
 "metadata": {
  "kernelspec": {
   "display_name": "Python 3.10.1 64-bit",
   "language": "python",
   "name": "python3"
  },
  "language_info": {
   "codemirror_mode": {
    "name": "ipython",
    "version": 3
   },
   "file_extension": ".py",
   "mimetype": "text/x-python",
   "name": "python",
   "nbconvert_exporter": "python",
   "pygments_lexer": "ipython3",
   "version": "3.10.1"
  },
  "orig_nbformat": 4,
  "vscode": {
   "interpreter": {
    "hash": "ecfebbd214a33fc245c6a1ac29b15d569a7b3cde7344e404ccbb41600958ed06"
   }
  }
 },
 "nbformat": 4,
 "nbformat_minor": 2
}

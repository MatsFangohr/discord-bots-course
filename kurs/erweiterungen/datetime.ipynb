{
 "cells": [
  {
   "cell_type": "markdown",
   "metadata": {},
   "source": [
    "# `datetime`\n",
    "\n",
    "`datetime` ist ein Pythonmodul für die Manipulierung von Daten und Zeiten. Es kann sehr viel, aber wir begrenzen uns erstmal auf das nötige.\n",
    "\n",
    "`datetime` funktioniert mit dem Prinzip von datetime-Objekten. Diese kannst du dir als Datentyp vorstellen, wie `str`, `int` und `list`."
   ]
  },
  {
   "cell_type": "code",
   "execution_count": null,
   "metadata": {},
   "outputs": [],
   "source": [
    "import datetime"
   ]
  },
  {
   "cell_type": "code",
   "execution_count": null,
   "metadata": {},
   "outputs": [],
   "source": [
    "mein_datetime_objekt = datetime.datetime.now()  # kannst du erstmal ignorieren\n",
    "print(type(mein_datetime_objekt))"
   ]
  },
  {
   "cell_type": "markdown",
   "metadata": {},
   "source": [
    "Die Idee ist, dass jedes `datetime`-Objekt einen bestimmten Moment speichert - mit Jahr, Monat, Tag, Stunde, Minute, Sekunde und mehr. \n",
    "\n",
    "Man kann ein solches Objekt mit `datetime.datetime.now()` erstellen. Das gibt uns, logischerweise, das `datetime`-Objekt von der Zeit jetzt gerade wieder.\n",
    "\n",
    "Die einzelnen Werte eines `datetime`-Objektes kann man mit `.day`, `.hour`, usw. abrufen."
   ]
  },
  {
   "cell_type": "code",
   "execution_count": null,
   "metadata": {},
   "outputs": [],
   "source": [
    "jetzt = datetime.datetime.now()\n",
    "print(jetzt.hour, jetzt.minute, jetzt.second)"
   ]
  },
  {
   "cell_type": "markdown",
   "metadata": {},
   "source": [
    "---\n",
    "### `timedelta`\n",
    "Man kann auch Zeiten zusammenaddieren. Dazu brauchen wir `datetime.timedelta`."
   ]
  },
  {
   "cell_type": "code",
   "execution_count": null,
   "metadata": {},
   "outputs": [],
   "source": [
    "jetzt = datetime.datetime.now()\n",
    "bald = jetzt + datetime.timedelta(minutes=10)\n",
    "print(bald.hour, bald.minute, bald.second)"
   ]
  },
  {
   "cell_type": "markdown",
   "metadata": {},
   "source": [
    "Man ist auch nicht auf Minuten begrenzt; alles von unzähligen Jahren bis zur Mikrosekunde geht."
   ]
  },
  {
   "cell_type": "markdown",
   "metadata": {},
   "source": [
    "---\n",
    "### `strftime`\n",
    "\n",
    "Wenn man ein `datetime`-Objekt darstellen möchte, kann man immer auf `jetzt.second` zugreifen, oder einfach `jetzt.strftime()` benutzen.\n",
    "\n",
    "`strftime` steht für 'string from time' und erstellt uns einen String.\n",
    "\n",
    "In den Klammern hinter `strftime` müssen wir angeben, in welchem Format wir unseren String haben wollen. Dabei gibt es verschiedene Symbolkombinationen mit `%`, die dann mit Werten ersetzt werden.\n",
    "\n",
    "Die, die man am häufigsten braucht, sind:\n",
    "- `%S`: Sekunde (0-padded)\n",
    "- `%M`: Minute (0-padded)\n",
    "- `%H`: Stunde (0-padded, 24h)\n",
    "- `%d`: Tag (0-padded)\n",
    "- `%m`: Monat (0-padded)\n",
    "- `%Y`: Jahr (0-padded)\n",
    "\n",
    "Auf [strfti.me](https://www.strfti.me/?f=%25Y-%25m-%25d) kann man alle Abkürzungen sehen und ausprobieren."
   ]
  },
  {
   "cell_type": "code",
   "execution_count": null,
   "metadata": {},
   "outputs": [],
   "source": [
    "jetzt = datetime.datetime.now()\n",
    "\n",
    "print(jetzt.strftime(\"%H %M %S\"))"
   ]
  },
  {
   "cell_type": "markdown",
   "metadata": {},
   "source": [
    "---\n",
    "### Aufgabe\n",
    "\n",
    "Schreibe ein Programm, dass die Zeit in 34 Minuten und 647 Sekunden vor 7 Jahren in dem Format 2022-08-01 23:59:59 ausgibt. (YYYY-MM-DD HH-MM-SS)"
   ]
  }
 ],
 "metadata": {
  "kernelspec": {
   "display_name": "Python 3.10.1 64-bit",
   "language": "python",
   "name": "python3"
  },
  "language_info": {
   "codemirror_mode": {
    "name": "ipython",
    "version": 3
   },
   "file_extension": ".py",
   "mimetype": "text/x-python",
   "name": "python",
   "nbconvert_exporter": "python",
   "pygments_lexer": "ipython3",
   "version": "3.10.1"
  },
  "orig_nbformat": 4,
  "vscode": {
   "interpreter": {
    "hash": "ecfebbd214a33fc245c6a1ac29b15d569a7b3cde7344e404ccbb41600958ed06"
   }
  }
 },
 "nbformat": 4,
 "nbformat_minor": 2
}

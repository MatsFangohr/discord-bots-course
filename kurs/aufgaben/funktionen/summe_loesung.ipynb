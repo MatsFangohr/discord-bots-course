{
 "cells": [
  {
   "cell_type": "code",
   "execution_count": null,
   "metadata": {},
   "outputs": [],
   "source": [
    "beispiel_liste = [6, 4, 8, -3, 6, 1, -70, 36, 264, 12]  # richtig ist 264\n",
    "\n",
    "\n",
    "def summiere(zahlen):\n",
    "    summe = 0\n",
    "    for zahl in zahlen:\n",
    "        summe = summe + zahl\n",
    "    return summe\n",
    "\n",
    "\n",
    "print(summiere(beispiel_liste))"
   ]
  },
  {
   "cell_type": "code",
   "execution_count": null,
   "metadata": {},
   "outputs": [],
   "source": [
    "beispiel_liste = [6, 4, 8, -3, 6, 1, -70, 36, 264, 12]  # richtig ist 264\n",
    "\n",
    "\n",
    "def summiere_rekursiv(zahlen):\n",
    "    if len(zahlen) == 0:\n",
    "        return 0\n",
    "    elif len(zahlen) == 1:\n",
    "        return zahlen[0]\n",
    "    else:\n",
    "        return zahlen[0] + summiere_rekursiv(zahlen[1:])\n",
    "\n",
    "\n",
    "print(summiere_rekursiv(beispiel_liste))"
   ]
  }
 ],
 "metadata": {
  "kernelspec": {
   "display_name": "Python 3.10.1 ('venv': venv)",
   "language": "python",
   "name": "python3"
  },
  "language_info": {
   "codemirror_mode": {
    "name": "ipython",
    "version": 3
   },
   "file_extension": ".py",
   "mimetype": "text/x-python",
   "name": "python",
   "nbconvert_exporter": "python",
   "pygments_lexer": "ipython3",
   "version": "3.10.1"
  },
  "orig_nbformat": 4,
  "vscode": {
   "interpreter": {
    "hash": "2e4490693bfb405fcb86983b0bf00700f02db273da556b2a4f05c8e5d3c68815"
   }
  }
 },
 "nbformat": 4,
 "nbformat_minor": 2
}

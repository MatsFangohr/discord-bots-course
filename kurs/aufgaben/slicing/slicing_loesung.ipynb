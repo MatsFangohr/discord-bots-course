{
 "cells": [
  {
   "cell_type": "code",
   "execution_count": null,
   "metadata": {},
   "outputs": [],
   "source": [
    "zahlen = [0, 1, 2, 3, 4, 5, 6, 7, 8, 9, 10, 11, 12, 13, 14, 15, 16, 17, 18, 19, 20]\n",
    "\n",
    "print(zahlen[2:15:3])\n",
    "print(zahlen[8:19:5])\n",
    "print(zahlen[10:4:-1])\n",
    "print(zahlen[19:4:-7])\n",
    "print(zahlen[::20])"
   ]
  }
 ],
 "metadata": {
  "kernelspec": {
   "display_name": "Python 3.10.1 ('venv': venv)",
   "language": "python",
   "name": "python3"
  },
  "language_info": {
   "codemirror_mode": {
    "name": "ipython",
    "version": 3
   },
   "file_extension": ".py",
   "mimetype": "text/x-python",
   "name": "python",
   "nbconvert_exporter": "python",
   "pygments_lexer": "ipython3",
   "version": "3.10.1"
  },
  "orig_nbformat": 4,
  "vscode": {
   "interpreter": {
    "hash": "2e4490693bfb405fcb86983b0bf00700f02db273da556b2a4f05c8e5d3c68815"
   }
  }
 },
 "nbformat": 4,
 "nbformat_minor": 2
}

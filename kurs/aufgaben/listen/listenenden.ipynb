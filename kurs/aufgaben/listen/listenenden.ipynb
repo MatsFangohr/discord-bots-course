{
 "cells": [
  {
   "cell_type": "markdown",
   "metadata": {},
   "source": [
    "## `liste_endswith`\n",
    "\n",
    "*Vorkenntnisse: Listen*\n",
    "\n",
    "Schreibe eine Funktion `liste_endswith`, die für eine Liste `liste` und ein Objekt `suffix` überprüft, ob `suffix` das letzte Objekt in der Liste ist."
   ]
  },
  {
   "cell_type": "code",
   "execution_count": null,
   "metadata": {},
   "outputs": [],
   "source": [
    "# dein Code hier"
   ]
  },
  {
   "cell_type": "markdown",
   "metadata": {},
   "source": [
    "---\n",
    "\n",
    "## Listenenden\n",
    "\n",
    "*Vorkenntnisse: Listen*\n",
    "\n",
    "Schreibe eine Funktion, die überprüft, ob das erste Element in der Liste das gleiche wie das Letzte ist."
   ]
  },
  {
   "cell_type": "code",
   "execution_count": null,
   "metadata": {},
   "outputs": [],
   "source": [
    "# dein Code hier"
   ]
  }
 ],
 "metadata": {
  "kernelspec": {
   "display_name": "Python 3.10.1 ('venv': venv)",
   "language": "python",
   "name": "python3"
  },
  "language_info": {
   "name": "python",
   "version": "3.10.1"
  },
  "orig_nbformat": 4,
  "vscode": {
   "interpreter": {
    "hash": "2e4490693bfb405fcb86983b0bf00700f02db273da556b2a4f05c8e5d3c68815"
   }
  }
 },
 "nbformat": 4,
 "nbformat_minor": 2
}

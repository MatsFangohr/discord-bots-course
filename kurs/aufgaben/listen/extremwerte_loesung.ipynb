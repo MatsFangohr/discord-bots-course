{
 "cells": [
  {
   "cell_type": "code",
   "execution_count": null,
   "metadata": {},
   "outputs": [],
   "source": [
    "def hoechstwert(zahlen):\n",
    "    if len(zahlen) == 0:\n",
    "        return None  # eigentlich 'raise ValueError' - aber wenn dir das nichts sagt, kannst du es ignorieren.\n",
    "\n",
    "    max_wert = zahlen[0]\n",
    "    for zahl in zahlen:\n",
    "        if zahl > max_wert:\n",
    "            max_wert = zahl\n",
    "\n",
    "    return max_wert\n",
    "\n",
    "\n",
    "def kleinsterwert(zahlen):\n",
    "    if len(zahlen) == 0:\n",
    "        return None  # eigentlich 'raise ValueError' - aber wenn dir das nichts sagt, kannst du es ignorieren.\n",
    "\n",
    "    min_wert = zahlen[0]\n",
    "    for zahl in zahlen:\n",
    "        if zahl < min_wert:\n",
    "            max_wert = zahl\n",
    "\n",
    "    return min_wert"
   ]
  },
  {
   "cell_type": "code",
   "execution_count": null,
   "metadata": {},
   "outputs": [],
   "source": [
    "def mittelwert(zahlen):\n",
    "    if len(zahlen) == 0:  # verhindert Teilung durch 0\n",
    "        return None  # eigentlich 'raise ValueError' - aber wenn dir das nichts sagt, kannst du es ignorieren.\n",
    "\n",
    "    summe = 0\n",
    "    for zahl in zahlen:\n",
    "        summe += zahl\n",
    "\n",
    "    return summe / len(zahlen)"
   ]
  }
 ],
 "metadata": {
  "kernelspec": {
   "display_name": "Python 3.10.1 ('venv': venv)",
   "language": "python",
   "name": "python3"
  },
  "language_info": {
   "name": "python",
   "version": "3.10.1"
  },
  "orig_nbformat": 4,
  "vscode": {
   "interpreter": {
    "hash": "2e4490693bfb405fcb86983b0bf00700f02db273da556b2a4f05c8e5d3c68815"
   }
  }
 },
 "nbformat": 4,
 "nbformat_minor": 2
}

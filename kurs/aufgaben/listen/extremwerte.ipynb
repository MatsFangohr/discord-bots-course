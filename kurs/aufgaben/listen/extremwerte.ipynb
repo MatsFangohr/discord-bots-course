{
 "cells": [
  {
   "cell_type": "markdown",
   "metadata": {},
   "source": [
    "# Listenextremwerte\n",
    "\n",
    "*Vorkenntnisse: Funktionen, Listen, Schleifen, type hints*\n",
    "\n",
    "Schreibe zwei Funktionen, von denen die eine den höchsten, und die anderen den niedrigsten Wert in einer Liste bestimmt. Du kannst annehmen, dass die Liste nur aus Zahlen besteht.\n",
    "\n",
    "Hinweis: Hier könnte man sehr leicht die eingebauten Funktionen `max()` und `min()` benutzen - aber das macht doch keinen Spaß."
   ]
  },
  {
   "cell_type": "code",
   "execution_count": null,
   "metadata": {},
   "outputs": [],
   "source": [
    "# dein Code hier"
   ]
  },
  {
   "cell_type": "markdown",
   "metadata": {},
   "source": [
    "## Mittelwerte\n",
    "\n",
    "Schreibe eine Funktion, die den Mittelwert der Zahlen in einer Liste `zahlen` bestimmt."
   ]
  },
  {
   "cell_type": "code",
   "execution_count": null,
   "metadata": {},
   "outputs": [],
   "source": [
    "def mittelwert(zahlen):\n",
    "    pass  # dein Code hier"
   ]
  }
 ],
 "metadata": {
  "kernelspec": {
   "display_name": "Python 3.10.1 ('venv': venv)",
   "language": "python",
   "name": "python3"
  },
  "language_info": {
   "name": "python",
   "version": "3.10.1"
  },
  "orig_nbformat": 4,
  "vscode": {
   "interpreter": {
    "hash": "2e4490693bfb405fcb86983b0bf00700f02db273da556b2a4f05c8e5d3c68815"
   }
  }
 },
 "nbformat": 4,
 "nbformat_minor": 2
}

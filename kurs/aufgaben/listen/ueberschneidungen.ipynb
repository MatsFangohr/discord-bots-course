{
 "cells": [
  {
   "cell_type": "markdown",
   "metadata": {},
   "source": [
    "# Überschneidungen\n",
    "\n",
    "*Vorkenntnisse: Listen, Schleifen*\n",
    "\n",
    "Schreibe ein Programm, dass zwei Listen nimmt und Werte, die in beiden Listen sind, ausdruckt. Dabei ist die Reihenfolge egal."
   ]
  },
  {
   "cell_type": "code",
   "execution_count": null,
   "metadata": {},
   "outputs": [],
   "source": [
    "a = [2, 3, 4, 7, 10, 11, 12, 15, 16, 17, 19, 23, 24]\n",
    "b = [0, 2, 7, 8, 11, 12, 13, 14, 15, 16, 19, 21, 22]\n",
    "\n",
    "# dein Code hier"
   ]
  },
  {
   "cell_type": "markdown",
   "metadata": {},
   "source": [
    "Erwartete Ausgabe:\n",
    "\n",
    "```\n",
    "2\n",
    "7\n",
    "11\n",
    "12\n",
    "15\n",
    "16\n",
    "19\n",
    "```\n",
    "\n",
    "---\n",
    "\n",
    "## Dopplungen\n",
    "\n",
    "Schreibe ein Programm, dass alle Werte aus einer Liste, die mehrfach vorkommen, als Liste ausdruckt. Dabei ist die Reihenfolge egal."
   ]
  },
  {
   "cell_type": "code",
   "execution_count": null,
   "metadata": {},
   "outputs": [],
   "source": [
    "zahlen = [8, 1, 2, 2, 6, 2, 8, 8, 5, 8, 0, 8, 4, 6, 6]\n",
    "\n",
    "# dein Code hier"
   ]
  },
  {
   "cell_type": "markdown",
   "metadata": {},
   "source": [
    "Erwartete Ausgabe:\n",
    "```\n",
    "[2, 8, 6]\n",
    "```"
   ]
  }
 ],
 "metadata": {
  "kernelspec": {
   "display_name": "Python 3.10.1 ('venv': venv)",
   "language": "python",
   "name": "python3"
  },
  "language_info": {
   "name": "python",
   "version": "3.10.1"
  },
  "orig_nbformat": 4,
  "vscode": {
   "interpreter": {
    "hash": "2e4490693bfb405fcb86983b0bf00700f02db273da556b2a4f05c8e5d3c68815"
   }
  }
 },
 "nbformat": 4,
 "nbformat_minor": 2
}

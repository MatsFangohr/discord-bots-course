{
 "cells": [
  {
   "cell_type": "code",
   "execution_count": null,
   "metadata": {},
   "outputs": [],
   "source": [
    "a = [2, 3, 4, 7, 10, 11, 12, 15, 16, 17, 19, 23, 24]\n",
    "b = [0, 2, 7, 8, 11, 12, 13, 14, 15, 16, 19, 21, 22]\n",
    "\n",
    "for wert_a in a:\n",
    "    if wert_a in b:\n",
    "        print(wert_a)"
   ]
  },
  {
   "cell_type": "code",
   "execution_count": null,
   "metadata": {},
   "outputs": [],
   "source": [
    "zahlen = [8, 1, 2, 2, 6, 2, 8, 8, 5, 8, 0, 8, 4, 6, 6]\n",
    "\n",
    "# dein Code hier\n",
    "\n",
    "# einfache Lösung\n",
    "doppelungen = []\n",
    "schon_gesehen = []\n",
    "for zahl in zahlen:\n",
    "    if zahl in schon_gesehen:\n",
    "        # zahl kommt doppelt vor\n",
    "        doppelungen.append(zahl)\n",
    "    else:\n",
    "        # zahl kommt nicht doppelt vor\n",
    "        schon_gesehen.append(zahl)\n",
    "\n",
    "print(doppelungen)"
   ]
  },
  {
   "cell_type": "code",
   "execution_count": null,
   "metadata": {},
   "outputs": [],
   "source": [
    "# doch die einfache Lösung druckt Ergebnisse mehrmals aus, wenn sie >2 mal vorkommen. von daher:\n",
    "\n",
    "zahlen = [8, 1, 2, 2, 6, 2, 8, 8, 5, 8, 0, 8, 4, 6, 6]\n",
    "\n",
    "doppelungen = []\n",
    "schon_gesehen = []\n",
    "for zahl in zahlen:\n",
    "    if zahl in schon_gesehen:  # zahl kommt doppelt vor\n",
    "        if zahl not in doppelungen:  # zahl ist noch nicht in der doppelungen liste\n",
    "            doppelungen.append(zahl)\n",
    "    else:  # zahl kommt nicht doppelt vor\n",
    "        schon_gesehen.append(zahl)\n",
    "\n",
    "print(doppelungen)"
   ]
  }
 ],
 "metadata": {
  "kernelspec": {
   "display_name": "Python 3.10.1 ('venv': venv)",
   "language": "python",
   "name": "python3"
  },
  "language_info": {
   "codemirror_mode": {
    "name": "ipython",
    "version": 3
   },
   "file_extension": ".py",
   "mimetype": "text/x-python",
   "name": "python",
   "nbconvert_exporter": "python",
   "pygments_lexer": "ipython3",
   "version": "3.10.1"
  },
  "orig_nbformat": 4,
  "vscode": {
   "interpreter": {
    "hash": "2e4490693bfb405fcb86983b0bf00700f02db273da556b2a4f05c8e5d3c68815"
   }
  }
 },
 "nbformat": 4,
 "nbformat_minor": 2
}

{
 "cells": [
  {
   "cell_type": "markdown",
   "metadata": {},
   "source": [
    "# Primzahlen - Schwierige Aufgabe\n",
    "\n",
    "*Vorkenntnisse: Schleifen, Listen, Funktionen, Rekursion, floats, type hints*\n",
    "\n",
    "Diese Aufgabe - vorallem Teil 3 - ist ein bisschen schwieriger und stellt den mathematischen Höhepunkt dieses Kurses dar. Ich habe aus diesem Grund Tipps bereitgestellt, falls ihr nicht auf die Lösung kommt. Wenn ihr es ohne Tipps auch lösen könnt, ist das noch besser!\n",
    "\n",
    "## Was ist das?\n",
    "\n",
    "Eine Primzahl ist eine Zahl, die nur durch sich selbst und durch 1 Teilbar ist. 1 selber ist keine, aber 2 ist die Erste und die einzig Gerade.\n",
    "\n",
    "Die ersten paar Primzahlen sind 2, 3, 5, 7 und 11.\n",
    "\n",
    "## Teil 1 - Ansatz\n",
    "\n",
    "Um zu überprüfen, ob eine beliebige Zahl eine Primzahl ist, können wir sie durch jede Zahl kleiner als diese (und nicht eins) teilen. Wenn dabei irgendwo ein gerades Ergebnis herauskommt (also wenn der Rest 0 ist), ist unsere Zahl keine Primzahl.\n",
    "\n",
    "**Beispiel**: Ist 35 eine Primzahl?\n",
    "\n",
    "35 / 2 = 17.5  \n",
    "35 / 3 = 11.666 ...  \n",
    "35 / 4 = 8.75  \n",
    "35 / 5 = 7  # runde Zahl!  \n",
    "\n",
    "Wie könnte man das in Python machen?\n",
    "\n",
    "<details>\n",
    "<summary>Tipp:</summary>\n",
    "\n",
    "Um zu überprüfen, ob wir eine Zahl glatt teilen können, können wir gucken, ob es bei der Operation einen Rest gäbe. \n",
    "\n",
    "Das Beispiel von oben nochmal:\n",
    "\n",
    "35 % 2 != 0  \n",
    "35 % 3 != 0  \n",
    "35 % 4 != 0  \n",
    "35 % 5 = 0 # teilbar, 35 keine Primzahl  \n",
    "\n",
    "</details>"
   ]
  },
  {
   "cell_type": "code",
   "execution_count": null,
   "metadata": {},
   "outputs": [],
   "source": [
    "def ist_primzahl(a: int) -> bool:\n",
    "    pass  # dein Code hier"
   ]
  },
  {
   "cell_type": "markdown",
   "metadata": {},
   "source": [
    "## Teil 2 - Liste\n",
    "\n",
    "Jetzt versuchen wir, eine Liste von Primzahlen bis zur Zahl `n` zu erstellen. Das geht mithilfe unserer `ist_primzahl`-Funktion ziemlich leicht.\n",
    "\n",
    "<details>\n",
    "<summary>Tipp:</summary>\n",
    "\n",
    "Man könnte einen `for`-loop starten, und für jede Zahl gucken, ob diese eine Primzahl ist. Wenn ja, fügen wir sie einer Liste hinzu.\n",
    "\n",
    "</details>"
   ]
  },
  {
   "cell_type": "code",
   "execution_count": null,
   "metadata": {},
   "outputs": [],
   "source": [
    "def primeslist(n: int) -> list:\n",
    "    pass"
   ]
  },
  {
   "cell_type": "markdown",
   "metadata": {},
   "source": [
    "### Teil 2b\n",
    "\n",
    "Kannst du deine Funktion so umschreiben, dass sie statt Primzahlen bis `n` genau `n` Primzahlen zurückgibt?\n",
    "\n",
    "<details>\n",
    "<summary>Tipp:</summary>\n",
    "\n",
    "Könnte uns ein `while`-loop hier helfen?\n",
    "\n",
    "</details>"
   ]
  },
  {
   "cell_type": "markdown",
   "metadata": {},
   "source": [
    "## Teil 3 - Schnelligkeit\n",
    "\n",
    "Unsere Funktion funktioniert jetzt - das ist schonmal schön. Doch wenn man nach `primeslist(100000)` fragt, muss Python erstaunlich lange denken.\n",
    "\n",
    "Hast du irgendwelche Ideen, wie man diese Funktion verbessern könnte?\n",
    "\n",
    "<details>\n",
    "<summary>Tipp:</summary>\n",
    "\n",
    "Müssen wir denn wirklich durch jede Zahl teilen?\n",
    "\n",
    "Hinweis: Die sog 'Primfaktorzerlegung' spielt in diesem Teil eine Rolle. Wenn dir dieser Begriff nichts sagt, kann es sein, dass du selbst nicht auf die Lösung kommst.\n",
    "\n",
    "</details>\n",
    "<details>  \n",
    "<summary>Lösung:</summary>\n",
    "\n",
    "Jede nicht-Primzahl lässt sich durch ein Produkt aus Primzahlen darstellen (Primfaktorzerlegung).\n",
    "\n",
    "12 = 2 * 2 * 3  \n",
    "14 = 2 * 7  \n",
    "18 = 2 * 3 * 3  \n",
    "24 = 2 * 2 * 2 * 3  \n",
    "8540 = 2 * 2 * 7 * 61  \n",
    "\n",
    "Das geht mit Primzahlen laut Definiton nicht. \n",
    "\n",
    "Das bedeutet, dass wenn wir zeigen können, dass man eine Zahl durch keine Primzahl teilbar ist, sie prim sein muss.\n",
    "</details>\n",
    "<details>  \n",
    "<summary>Implementierung:</summary>\n",
    "\n",
    "In Python müssen wir dazu eine neue Funktion `ist_primzahl_schnell(a: int, primzahlen: list[int]) -> bool` schreiben, die überprüft, ob man `a` durch eine Zahl aus `primzahlen` teilen kann.\n",
    "\n",
    "Außerdem brauchen wir noch eine Funktion `primeslist_schnell(n: int) -> list[int]`, die diese Liste verwaltet.\n",
    "</details>\n"
   ]
  },
  {
   "cell_type": "code",
   "execution_count": null,
   "metadata": {},
   "outputs": [],
   "source": [
    "# dein Code hier"
   ]
  }
 ],
 "metadata": {
  "kernelspec": {
   "display_name": "Python 3.10.1 ('venv': venv)",
   "language": "python",
   "name": "python3"
  },
  "language_info": {
   "name": "python",
   "version": "3.10.1"
  },
  "orig_nbformat": 4,
  "vscode": {
   "interpreter": {
    "hash": "2e4490693bfb405fcb86983b0bf00700f02db273da556b2a4f05c8e5d3c68815"
   }
  }
 },
 "nbformat": 4,
 "nbformat_minor": 2
}

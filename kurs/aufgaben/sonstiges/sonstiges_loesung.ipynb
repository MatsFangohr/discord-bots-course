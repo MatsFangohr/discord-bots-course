{
 "cells": [
  {
   "cell_type": "code",
   "execution_count": null,
   "metadata": {},
   "outputs": [],
   "source": [
    "def liste_endswith(liste, suffix):\n",
    "    if liste[-1] == suffix:\n",
    "        return True\n",
    "    else:\n",
    "        return False\n",
    "\n",
    "\n",
    "def liste_endswith_2(liste, suffix):  # alternative Lösung\n",
    "    return liste[-1] == suffix"
   ]
  },
  {
   "cell_type": "code",
   "execution_count": null,
   "metadata": {},
   "outputs": [],
   "source": [
    "def listen_enden_gleich(meine_liste):\n",
    "    if meine_liste[0] == meine_liste[-1]:\n",
    "        return True\n",
    "    else:\n",
    "        return False\n",
    "\n",
    "\n",
    "def listen_enden_gleich_2(meine_liste):\n",
    "    return meine_liste[0] == meine_liste[-1]"
   ]
  },
  {
   "cell_type": "code",
   "execution_count": null,
   "metadata": {},
   "outputs": [],
   "source": [
    "def fuenf_teilbar(zahlen):\n",
    "    for zahl in zahlen:\n",
    "        if zahl % 5 == 0:\n",
    "            print(zahl)\n",
    "\n",
    "\n",
    "def teilbar(zahlen, n):\n",
    "    for zahl in zahlen:\n",
    "        if zahl % n == 0:\n",
    "            print(zahl)"
   ]
  },
  {
   "cell_type": "code",
   "execution_count": 2,
   "metadata": {},
   "outputs": [],
   "source": [
    "import math\n",
    "\n",
    "\n",
    "def kreis_flaeche(r):\n",
    "    return math.pi * r**2\n",
    "\n",
    "\n",
    "def kugel_werte(r):\n",
    "    return [4 / 3 * math.pi * r**3, 4 * math.pi * r**2]"
   ]
  }
 ],
 "metadata": {
  "kernelspec": {
   "display_name": "Python 3.10.1 ('venv': venv)",
   "language": "python",
   "name": "python3"
  },
  "language_info": {
   "codemirror_mode": {
    "name": "ipython",
    "version": 3
   },
   "file_extension": ".py",
   "mimetype": "text/x-python",
   "name": "python",
   "nbconvert_exporter": "python",
   "pygments_lexer": "ipython3",
   "version": "3.10.1"
  },
  "orig_nbformat": 4,
  "vscode": {
   "interpreter": {
    "hash": "2e4490693bfb405fcb86983b0bf00700f02db273da556b2a4f05c8e5d3c68815"
   }
  }
 },
 "nbformat": 4,
 "nbformat_minor": 2
}

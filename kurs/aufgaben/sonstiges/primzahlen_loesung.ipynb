{
 "cells": [
  {
   "cell_type": "code",
   "execution_count": 20,
   "metadata": {},
   "outputs": [],
   "source": [
    "# Teil 1\n",
    "\n",
    "\n",
    "def ist_primzahl(a: int) -> bool:\n",
    "    if a <= 1:\n",
    "        return False\n",
    "\n",
    "    for zahl in range(2, a):\n",
    "        if a % zahl == 0:\n",
    "            return False\n",
    "\n",
    "    return True"
   ]
  },
  {
   "cell_type": "code",
   "execution_count": 21,
   "metadata": {},
   "outputs": [],
   "source": [
    "# Teil 2\n",
    "def primeslist(n: int) -> list:\n",
    "    primzahlen = []\n",
    "    for zahl in range(n):\n",
    "        if ist_primzahl(zahl):\n",
    "            primzahlen.append(zahl)\n",
    "\n",
    "    return primzahlen"
   ]
  },
  {
   "cell_type": "code",
   "execution_count": 22,
   "metadata": {},
   "outputs": [],
   "source": [
    "# Teil 3\n",
    "def is_prime_schnell(a: int, primzahlen: list[int]) -> bool:\n",
    "    if a <= 1:\n",
    "        return False\n",
    "\n",
    "    for prim in primzahlen:\n",
    "        if a % prim == 0:\n",
    "            return False\n",
    "    return True\n",
    "\n",
    "\n",
    "def primeslist_schnell(n: int) -> list[int]:\n",
    "    primzahlen = []\n",
    "    for zahl in range(2, n):\n",
    "        if is_prime_schnell(zahl, primzahlen):\n",
    "            primzahlen.append(zahl)\n",
    "\n",
    "    return primzahlen"
   ]
  }
 ],
 "metadata": {
  "kernelspec": {
   "display_name": "Python 3.10.1 ('venv': venv)",
   "language": "python",
   "name": "python3"
  },
  "language_info": {
   "codemirror_mode": {
    "name": "ipython",
    "version": 3
   },
   "file_extension": ".py",
   "mimetype": "text/x-python",
   "name": "python",
   "nbconvert_exporter": "python",
   "pygments_lexer": "ipython3",
   "version": "3.10.1"
  },
  "orig_nbformat": 4,
  "vscode": {
   "interpreter": {
    "hash": "2e4490693bfb405fcb86983b0bf00700f02db273da556b2a4f05c8e5d3c68815"
   }
  }
 },
 "nbformat": 4,
 "nbformat_minor": 2
}

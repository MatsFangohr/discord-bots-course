{
 "cells": [
  {
   "cell_type": "markdown",
   "metadata": {},
   "source": [
    "# Kreisfläche\n",
    "\n",
    "*Vorkenntnisse: Funktionen, floats, Listen*\n",
    "\n",
    "Schreibe eine Funktion `kreis_flaeche(r)`, die einen Radius `r` annimmt und die Fläche von einem solchen Kreis als `float` zurückgibt.\n",
    "\n",
    "<details>\n",
    "<summary>Hinweis für pi:</summary>\n",
    "\n",
    "```python\n",
    "import math\n",
    "print(math.pi)\n",
    "```\n",
    "\n",
    "</details>"
   ]
  },
  {
   "cell_type": "code",
   "execution_count": null,
   "metadata": {},
   "outputs": [],
   "source": [
    "def kreis_flaeche(r):\n",
    "    pass  # dein Code hier"
   ]
  },
  {
   "cell_type": "markdown",
   "metadata": {},
   "source": [
    "**Erweitert**: Schreibe eine ähnliche Funktion, die den Radius einer Kugel nimmt und eine Liste `[oberfläche, volumen]` zurückgibt."
   ]
  },
  {
   "cell_type": "code",
   "execution_count": null,
   "metadata": {},
   "outputs": [],
   "source": [
    "def kugel_werte(r):\n",
    "    pass"
   ]
  }
 ],
 "metadata": {
  "kernelspec": {
   "display_name": "Python 3.10.1 ('venv': venv)",
   "language": "python",
   "name": "python3"
  },
  "language_info": {
   "name": "python",
   "version": "3.10.1"
  },
  "orig_nbformat": 4,
  "vscode": {
   "interpreter": {
    "hash": "2e4490693bfb405fcb86983b0bf00700f02db273da556b2a4f05c8e5d3c68815"
   }
  }
 },
 "nbformat": 4,
 "nbformat_minor": 2
}

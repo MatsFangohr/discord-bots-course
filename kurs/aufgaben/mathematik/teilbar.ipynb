{
 "cells": [
  {
   "cell_type": "markdown",
   "metadata": {},
   "source": [
    "# Durch `n` teilbar\n",
    "\n",
    "*Vorkenntnisse: Operatoren, Listen, Schleifen*\n",
    "\n",
    "Schreibe eine Funktion `fuenf_teilbar`, die alle Zahlen aus einer Liste `zahlen` ausdruckt, die sich ohne Rest durch 5 teilen lassen."
   ]
  },
  {
   "cell_type": "code",
   "execution_count": 1,
   "metadata": {},
   "outputs": [],
   "source": [
    "# dein Code hier"
   ]
  },
  {
   "cell_type": "markdown",
   "metadata": {},
   "source": [
    "**Erweitert**: Du kannst auch versuchen eine Funktion zu schreiben, die das gleiche macht, nur dass man die 5 auch als Parameter `n` in die Funktion eingeben kann (und natürlich verändern)."
   ]
  },
  {
   "cell_type": "code",
   "execution_count": null,
   "metadata": {},
   "outputs": [],
   "source": [
    "def teilbar(zahlen, n):\n",
    "    pass  # dein Code hier"
   ]
  },
  {
   "cell_type": "markdown",
   "metadata": {},
   "source": [
    "Erwartete Ergebnisse:\n",
    "```python\n",
    "teilbar([4, 25, 8, 24, 5, 2], 5)\n",
    "```\n",
    "```\n",
    "> 25\n",
    "> 24\n",
    "```\n",
    "```python\n",
    "teilbar([4, 25, 8, 24, 5, 2], 2)\n",
    "```\n",
    "```\n",
    "> 4\n",
    "> 8\n",
    "> 24\n",
    "> 2\n",
    "```\n",
    "```python\n",
    "teilbar([4, 25, 8, 24, 5, 2], 8)\n",
    "```\n",
    "```\n",
    "> 8\n",
    "> 24\n",
    "```"
   ]
  }
 ],
 "metadata": {
  "kernelspec": {
   "display_name": "Python 3.10.1 ('venv': venv)",
   "language": "python",
   "name": "python3"
  },
  "language_info": {
   "codemirror_mode": {
    "name": "ipython",
    "version": 3
   },
   "file_extension": ".py",
   "mimetype": "text/x-python",
   "name": "python",
   "nbconvert_exporter": "python",
   "pygments_lexer": "ipython3",
   "version": "3.10.1"
  },
  "orig_nbformat": 4,
  "vscode": {
   "interpreter": {
    "hash": "2e4490693bfb405fcb86983b0bf00700f02db273da556b2a4f05c8e5d3c68815"
   }
  }
 },
 "nbformat": 4,
 "nbformat_minor": 2
}

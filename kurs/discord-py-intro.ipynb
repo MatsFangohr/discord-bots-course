{
 "cells": [
  {
   "cell_type": "markdown",
   "metadata": {},
   "source": [
    "# Discord-Bots mit Python - Bots"
   ]
  },
  {
   "cell_type": "markdown",
   "metadata": {},
   "source": [
    "*Vorkenntnisse: Python-Grundkenntnisse, datetime, dictionaries, floats, replit, environment_vars, alternative_import*\n",
    "\n",
    "replit-Inhalte befinden sich an passenden stellen zwischen anderen Inhalten."
   ]
  },
  {
   "cell_type": "markdown",
   "metadata": {},
   "source": [
    "---\n",
    "\n",
    "## Begriffe\n",
    "\n",
    "Hier sind ein paar Discord-Begrifflichekiten aufgezählt, die dir vielleicht begegnen werden:\n",
    "\n",
    "- `channel` - Ein Kanal.\n",
    "- `context_menu` - Ein slash-command, der mit Rechtsclick auf einen Benuzter / eine Nachricht benutzt werden kann. Im Beispielserver gibt es bei Benutzern `info`.\n",
    "- `guild` - Ein Server.\n",
    "- `id` - Jedes Objekt hat bei Discord eine `id`. Du kannst sie mit Rechtsclick -> 'ID kopieren' kopieren. Ist in discord.py immer ein Integer.\n",
    "- `intents` - Erlauben Zugriff auf 'Sonderrechte'. Müssen im [Discord Developer Portal](https://discord.com/developers/applications) unter 'Privileged Gateway Intents' aktiviert werden.\n",
    "- `mention` - Ein Ping, wie @discordusername.\n",
    "- `message` - Eine Nachricht.\n",
    "- `slash-command` - Ein Befehl, der mit / anfängt. Lässt sich ziemlich frei konfigurieren.\n",
    "- `user` / `member` - Ein Discord-Benutzer oder Bot."
   ]
  },
  {
   "cell_type": "markdown",
   "metadata": {},
   "source": [
    "---\n",
    "\n",
    "## Setup"
   ]
  },
  {
   "cell_type": "code",
   "execution_count": null,
   "metadata": {},
   "outputs": [],
   "source": [
    "import discord\n",
    "\n",
    "import bleib_an\n",
    "\n",
    "# repariert Bots in Notebooks\n",
    "import nest_asyncio\n",
    "\n",
    "nest_asyncio.apply()\n",
    "\n",
    "# discord.py-Version\n",
    "if discord.__version__ >= \"2.0.0\":\n",
    "    print(\"Kompatible discord.py-Version erkannt!\")\n",
    "    from discord import app_commands\n",
    "else:\n",
    "    print(\n",
    "        f\"Die discord.py-Version {discord.__version__} wird leider nicht unterstützt. Bitte installiere discord.py >= 2.0.0.\"\n",
    "    )"
   ]
  },
  {
   "cell_type": "markdown",
   "metadata": {},
   "source": [
    "Die discord.py-Bibliotek ist vielseitig und kompliziert - der Hinweis vom Anfang, dass man sich nicht alles merken muss, gilt hier besonders. Wenn Fragen aufkommen, hast du einige Möglichkeiten:\n",
    "\n",
    "1. Mich fragen - Ich weiß aber auch nicht alles und werde selber einiges nachschauen.\n",
    "2. In der [Dokumentation](https://discordpy.readthedocs.io/en/latest/) gucken. Mit der Suchleiste oben rechts kann man nach fast allem aus der Bibliotek suchen - aber nicht nach ausformulierten fragen wie bei Google.\n",
    "3. Diese Datei durchsuchen.\n",
    "4. Suchmaschine deiner Wahl - aber bedenke, dass diese Version (2.0) der Bibliotek noch relativ neu ist. Heute, während ich das hier schreibe, ist sie noch in der Beta. Dementsprechend gibt es relativ wenige gute Quellen.\n",
    "5. Wenn alle anderen Möglichkeiten nicht geholfen haben, gibt es den [offiziellen Discord-Server](https://discord.gg/dpy).\n",
    "\n",
    "---\n",
    "\n",
    "## `async`\n",
    "\n",
    "Bis jetzt liefen unsere Programme immer linear ab. Wenn wir `time.sleep(60)` schreiben, passiert gar nichts.\n",
    "\n",
    "Bei Discord-Bots, die manchmal auf zwei Befehle gleichzeitig antworten sollen, ist das nicht gerade ideal. Deshalb gibt es ein System Namens `async`, dass uns erlaubt, mehrere Sachen fast gleichzeitig auszuführen. Wir können z.B. während eine Funktion wartet eine andere ausführen.\n",
    "\n",
    "Erstmal musst du nur wissen, dass wir jetzt zwischen `sync`-Funktionen und `async`-Funktionen unterscheiden müssen. \n",
    "\n",
    "`sync`-Funktionen sind die, die wir kennen. Sie werden mit `def name(parameter):` definiert und mit `name()` aufgerufen. \n",
    "\n",
    "`async`-Funktionen sind neu. Sie werden mit `async def name(parameter):` definiert und mit `await name()` aufgerufen. Sie können nur von innerhalb anderen `async`-Funktionen aufgerufen werden.\n",
    "\n",
    "Man kann sich eine Schleife vorstellen, die 'Event Loop` heißt. In dieser Schleife trägt unser Programm alles nötige ein, was passieren muss. \n",
    "\n",
    "### `sleep`\n",
    "\n",
    "Bei manche Funktionen (wie `time.sleep`, komplizierte Rechnungen oder Webanfragen) braucht Python lange, um sie zu auszuführen. Diese Befehle sind 'blocking' - das heißt, sie blockieren Python, bis sie fertig sind. Um diese Limitierung kommt `async` nicht herum. Wenn du `time.sleep(60)` ausführst, macht Python so lange **nichts**. Auch andere, neue Befehle können in dieser Zeit nicht ausgeführt werden.\n",
    "\n",
    "Deshalb sollte man lieber das Modul `asyncio` importieren und `await asyncio.sleep(60)` benuzten - dann kann Python beim Warten Anderes ausführen.\n"
   ]
  },
  {
   "cell_type": "markdown",
   "metadata": {},
   "source": [
    "---\n",
    "\n",
    "## Vorlage\n",
    "\n",
    "Wir sollten unsere Bots in diesem Notebook testen können. Das ist nicht ganz ideal, aber müsste funktionieren. Um ihn zu beenden, wenn du ihn vielleicht verändern möchtest, kannst du oben in der Leiste auf das Stopp-Symbol clicken:\n",
    "\n",
    "![Stopp-Knopf oben in der Leiste](../images/discordpy/stop-program.png)\n",
    "\n",
    "Dies wird unsere Bot-Vorlage sein, auf der wir unsere Bots aufbauen können - führe Sie noch nicht aus:"
   ]
  },
  {
   "cell_type": "code",
   "execution_count": null,
   "metadata": {},
   "outputs": [],
   "source": [
    "bleib_an.start()\n",
    "\n",
    "intents = discord.Intents.default()\n",
    "client = discord.Client(intents=intents)\n",
    "client.tree = app_commands.CommandTree(client)\n",
    "\n",
    "\n",
    "@client.event\n",
    "async def on_ready():\n",
    "    print(f\"Eingeloggt als {client.user}.\")\n",
    "\n",
    "\n",
    "@client.event\n",
    "async def setup_hook():\n",
    "    await client.tree.sync()\n",
    "\n",
    "\n",
    "client.run(TOKEN)"
   ]
  },
  {
   "cell_type": "markdown",
   "metadata": {},
   "source": [
    "Das kann auf den ersten Blick ziemlich kompliziert aussehen - gehen wir doch mal Zeile für Zeile durch.\n",
    "\n",
    "```python\n",
    "bleib_an.start()\n",
    "```\n",
    "Was genau das hier macht, kann uns relativ egal sein. Wir brauchen es aber, damit unser Bot auf replit.com nicht ausgeht. Dazu später in dieser Datei mehr.\n",
    "```python\n",
    "intents = discord.Intents.default()\n",
    "```\n",
    "Intents erlauben Zugriff auf bestimmte 'Sonderrechte' - z.B. den Inhalt von Nachrichten lesen zu können. Hier erzeugen wir eine Variable `intents`, die die default Intents speichert, weil wir diese gleich brauchen.\n",
    "\n",
    "```python\n",
    "client = discord.Client(intents=intents)\n",
    "```\n",
    "Hier erstellen wir mithilfe von unseren `intents` unseren `client`. Ein `client` ist ein Objekt, dass die Verbindung zwischen unserem Programm und Discord verwaltet und in unserem Programm den Bot darstellt.\n",
    "\n",
    "```python\n",
    "client.tree = app_commands.CommandTree(client)\n",
    "```\n",
    "Hier erstellen wir einen `CommandTree`. Dieser kommt aus dem `app_commands` (denke Slash Commands) Modul und stellt in unserem Programm unsere Sammlung aus Slash Commands und Context Menus dar.\n",
    "```python\n",
    "@client.event\n",
    "```\n",
    "Dies ist ein sog. Decorator. Wenn du die Decorator-Erweiterung nicht gemacht hast, ist das kein Problem.\n",
    "\n",
    "Erstmal müssen wir nur wissen, dass wenn Discord unseren Bot über etwas informiert (=> einen Event auslöst), discord.py zuerst guckt, ob wir eine Funktion definiert haben, die mit diesem Event umgehen kann. Um das zu tun, müssen wir eine Coroutine aus [dieser Liste](https://discordpy.readthedocs.io/en/latest/api.html?highlight=client%20event#discord-api-events) definieren und davor `@client.event` schreiben. `@client.event` sagt discord.py dabei, dass diese Funktion mit einer Art von Event umgehen soll.\n",
    "```python\n",
    "async def on_ready():\n",
    "    print(f\"Eingeloggt als {client.user}.\")\n",
    "```\n",
    "Durch `@client.event` weiß discord.py, dann `on_ready` aufgerufen werden soll, sobald der Bot bereit ist, Befehle anzunehmen. Wenn dies der Fall ist, drucken wir eine Nachricht in die Konsole, die den Namen von unserem Bot nennt.\n",
    "```python\n",
    "@client.event\n",
    "async def setup_hook():\n",
    "```\n",
    "Jetzt definieren wir mit `@client.event` wieder eine Funktion, die zu einem bestimmten Zeitpunkt aufgerufen werden soll. Wann genau dieser Zeitpunkt ist, ist für uns nicht so wichtig - solange die nächste Zeile dann ausgeführt wird.\n",
    "```python\n",
    "await client.tree.sync()\n",
    "```\n",
    "Dies ist unser Sychronissationsbefehl. Er sagt unserem Programm, dass er Discord alles über unsere slash-commands sagen soll. \n",
    "```python\n",
    "client.run(TOKEN)\n",
    "```\n",
    "Jetzt müssen wir nur noch unseren Bot so starten. Diese Zeile muss immer die letzte in unserem Programm sein und ist 'blocking' - das heißt, dass Code nach ihr nicht mehr ausgeführt wird. Sie startet unseren Event Loop.\n",
    "\n",
    "---\n",
    "\n",
    "## Datentypen\n",
    "\n",
    "Es gibt in der discord.py-Bibliotek verschiedene Datentypen, die wir kennen sollten.\n",
    "\n",
    "Ich habe in den Codeblocken dargestellt, wie man ein solches Objekt erzeugen kann - aber mehr Informationen zur Benutzung findest du in der Dokumentation."
   ]
  },
  {
   "cell_type": "markdown",
   "metadata": {},
   "source": [
    "### [`discord.Guild`](https://discordpy.readthedocs.io/en/latest/api.html?highlight=guild#discord.Guild)\n",
    "\n",
    "Ein `Guild` kennen wir als Server."
   ]
  },
  {
   "cell_type": "code",
   "execution_count": null,
   "metadata": {},
   "outputs": [],
   "source": [
    "async def guild_from_id(guild_id: int) -> discord.Guild:\n",
    "    return await client.fetch_guild(guild_id)"
   ]
  },
  {
   "cell_type": "markdown",
   "metadata": {},
   "source": [
    "### [`discord.TextChannel`](https://discordpy.readthedocs.io/en/latest/api.html?highlight=discord%20channel#discord.TextChannel) / [`discord.VoiceChannel`](https://discordpy.readthedocs.io/en/latest/api.html?highlight=discord%20channel#discord.VoiceChannel)\n",
    "\n",
    "Ein `Channel` ist ein Kanal - sowohl innerhalb eines `Guild`s als auch eine Privatnachricht. Wir müssen zwischen Textkanälen (`TextChannel`) und Sprachkanälen (`VoiceChannel`) unterscheiden."
   ]
  },
  {
   "cell_type": "code",
   "execution_count": null,
   "metadata": {},
   "outputs": [],
   "source": [
    "async def channel_from_id(\n",
    "    channel_id: int,\n",
    ") -> discord.TextChannel | discord.VoiceChannel:\n",
    "    return await client.fetch_channel(channel_id)"
   ]
  },
  {
   "cell_type": "markdown",
   "metadata": {},
   "source": [
    "### [`discord.Member`](https://discordpy.readthedocs.io/en/latest/api.html?highlight=member#discord.Member) / [`discord.User`](https://discordpy.readthedocs.io/en/latest/api.html?highlight=user#discord.User)\n",
    "\n",
    "Stellt einen Discord-Benutzer dar. Jeder Benutzer ist ein `User`, und `Member`s sind `User` in einem `Guild`."
   ]
  },
  {
   "cell_type": "code",
   "execution_count": null,
   "metadata": {},
   "outputs": [],
   "source": [
    "async def user_from_id(user_id: int) -> discord.User:\n",
    "    return await client.fetch_user(user_id)\n",
    "\n",
    "\n",
    "async def member_from_id(guild: discord.Guild, member_id: int) -> discord.Member:\n",
    "    return await guild.get_member(member_id)"
   ]
  },
  {
   "cell_type": "markdown",
   "metadata": {},
   "source": [
    "### [`discord.Message`](https://discordpy.readthedocs.io/en/latest/api.html?highlight=message#discord.Message)\n",
    "\n",
    "Eine `Message` ist eine Nachricht. "
   ]
  },
  {
   "cell_type": "code",
   "execution_count": null,
   "metadata": {},
   "outputs": [],
   "source": [
    "async def message_from_id(channel: discord.TextChannel, message_id: int):\n",
    "    return await channel.fetch_message(message_id)"
   ]
  },
  {
   "cell_type": "markdown",
   "metadata": {},
   "source": [
    "### [`discord.Intents`](https://discordpy.readthedocs.io/en/latest/api.html?highlight=intents#discord.Intents)\n",
    "\n",
    "Wie jetzt schon mehrmals beschrieben, geben Intents deinem Bot besondere Rechte. Hier ein Beispiel mit allen:"
   ]
  },
  {
   "cell_type": "code",
   "execution_count": null,
   "metadata": {},
   "outputs": [],
   "source": [
    "intents = discord.Intents.default()\n",
    "intents.message_content = True  # der Bot darf den Inhalt von allen Nachrichten lese\n",
    "intents.presences = True  # der Bot erhält status-updates -> \"xyz spielt / hört abc\"\n",
    "intents.members = (\n",
    "    True  # der Bot bekommt mit, wenn jemand den Server beitritt / verlässt\n",
    ")"
   ]
  },
  {
   "cell_type": "markdown",
   "metadata": {},
   "source": [
    "### [`discord.Client`](https://discordpy.readthedocs.io/en/latest/api.html?highlight=client#discord.Client)\n",
    "\n",
    "Ein `Client` stellt die Verbindung zwischen Python und Discord dar. Du musst ihn am Anfang (mit Intents) erstellen und am Ende `client.run()` ausführen."
   ]
  },
  {
   "cell_type": "code",
   "execution_count": null,
   "metadata": {},
   "outputs": [],
   "source": [
    "client = discord.Client(intents=intents)"
   ]
  },
  {
   "cell_type": "markdown",
   "metadata": {},
   "source": [
    "---\n",
    "\n",
    "## Slash Commands\n",
    "\n",
    "Discord bevorzugt sog. Slash Commands - also Commands, die man mit einem Schrägstrich (`/`, nicht `\\`) ausführen kann.\n",
    "\n",
    "Davon sind im Beispielserver einige definiert - das einfachste Beispiel geht so:"
   ]
  },
  {
   "cell_type": "code",
   "execution_count": null,
   "metadata": {},
   "outputs": [],
   "source": [
    "@client.tree.command(name=\"hallo\")\n",
    "async def hallo(interaction: discord.Interaction):\n",
    "    \"\"\"Sagt Hallo!\"\"\"\n",
    "    await interaction.response.send_message(\"Hallo!\")"
   ]
  },
  {
   "cell_type": "markdown",
   "metadata": {},
   "source": [
    "Das können wir ja mal Zeile für Zeile durchgehen, obwohl es nicht besonders lang ist:\n",
    "\n",
    "```python\n",
    "@client.tree.command(name=\"hallo\")\n",
    "```\n",
    "Zuerst brauchen wir diesen Decorator, damit discord.py weiß, dass das ein Slash Command sein soll. Du kannst hier auch den Namen vom Befehl eingeben.\n",
    "\n",
    "Generell ist es gut, wenn die Funktion und der Befehl gleich heißen, obwohl es nicht nötig ist.\n",
    "```python\n",
    "async def hallo(interaction: discord.Interaction):\n",
    "```\n",
    "Hier definieren wir eine `async`-Funktion `hallo`, die einen einzigen Parameter hat. Der erste Parameter soll immer `interaction` heißen und den type hint `discord.Interaction` haben.\n",
    "```python\n",
    "    \"\"\"Sagt Hallo!\"\"\"\n",
    "```\n",
    "Indem wir einen String mit drei doppelten Anführungszeichen direkt in der Zeile nach unserem `def`-Statement benutzen, können wir eine Beschreibung für unseren Slash-Command eingeben.\n",
    "\n",
    "![Slash-Command-Beschreibung](../images/discordpy/slash-command-desc.png)\n",
    "\n",
    "```python\n",
    "    await interaction.response.send_message(\"Hi!\")\n",
    "```\n",
    "Gleich mehr zu Interaction, erstmal müssen wir nur wissen, dass man so antworten kann."
   ]
  },
  {
   "cell_type": "markdown",
   "metadata": {},
   "source": [
    "### [`discord.Interaction`](https://discordpy.readthedocs.io/en/latest/interactions/api.html?highlight=interaction#discord.Interaction)\n",
    "\n",
    "Wenn wir einen Slash Command ausführen, erstellt Discord eine Interaction. Mit dieser können wir antworten - deshalb wird sie bei Slash Commands immer als erstes Argument angegeben.\n",
    "\n",
    "Hilfreiche Funktionen (Codeblocks funktionieren nicht):"
   ]
  },
  {
   "cell_type": "code",
   "execution_count": null,
   "metadata": {},
   "outputs": [],
   "source": [
    "interaction: discord.Interaction = None\n",
    "\n",
    "await interaction.response.send_message(\n",
    "    \"nachricht\"\n",
    ")  # antwortet auf einen slash-command"
   ]
  },
  {
   "cell_type": "markdown",
   "metadata": {},
   "source": [
    "![Antwort auf /hallo](../images/discordpy/normal-reply.png)"
   ]
  },
  {
   "cell_type": "code",
   "execution_count": null,
   "metadata": {},
   "outputs": [],
   "source": [
    "await interaction.response.send_message(\n",
    "    \"nachricht\", ephemeral=True\n",
    ")  # antwortet leise auf einen slash-command"
   ]
  },
  {
   "cell_type": "markdown",
   "metadata": {},
   "source": [
    "![Antwort auf /hello, nur für Benutzer sichtbar](../images/discordpy/ephemeral-reply.png)\n",
    "\n",
    "\n",
    "\n",
    "Interactions sind meistens nur ein paar Sekunden lang gültig. Wenn man sie länger benuzten möchten / mehr Zeit zum denken braucht, muss man das so angeben:"
   ]
  },
  {
   "cell_type": "code",
   "execution_count": null,
   "metadata": {},
   "outputs": [],
   "source": [
    "await interaction.response.defer()  # unterstützt auch ephemeral"
   ]
  },
  {
   "cell_type": "markdown",
   "metadata": {},
   "source": [
    "![deferred command](../images/discordpy/defer.png)\n",
    "\n",
    "Wenn wir das gemacht haben, müssen wir unsere Nachricht am Ende anders abschicken:"
   ]
  },
  {
   "cell_type": "code",
   "execution_count": null,
   "metadata": {},
   "outputs": [],
   "source": [
    "await interaction.edit_original_response(\n",
    "    content=\"Hallo!\"\n",
    ")  # nach .defer() eine Antwort schicken"
   ]
  },
  {
   "cell_type": "markdown",
   "metadata": {},
   "source": [
    "Beachte das `content=` vor dem Text - ohne das funktioniert es nicht.\n",
    "\n",
    "### Slash-Command-Argumente\n",
    "\n",
    "Manchmal kommt es vor, das wir bei unseren Slash Coammnds noch mehr Argumente wollen - vielleicht wollen wir einem Benutzer hallo sagen.\n",
    "\n",
    "Dazu müssen wir einfach einen weiteren Parameter in unsere Definition hinzufügen - **aber mit type hint**.\n",
    "\n",
    "Natürlich funktionieren hier die Standard Pythontypen wie `int` und `str`, aber welche wie `discord.Member` funktionieren auch."
   ]
  },
  {
   "cell_type": "code",
   "execution_count": null,
   "metadata": {},
   "outputs": [],
   "source": [
    "@client.tree.command(name=\"hallo\")\n",
    "async def hallo(interaction: discord.Interaction, benutzer: discord.Member):\n",
    "    \"\"\"Sagt Hallo!\"\"\"\n",
    "    await interaction.response.send_message(f\"Hallo {benutzer.mention}!\")"
   ]
  },
  {
   "cell_type": "markdown",
   "metadata": {},
   "source": [
    "Vielleicht wollen wir auch eine Zahl in einem bestimmten Bereich:"
   ]
  },
  {
   "cell_type": "code",
   "execution_count": null,
   "metadata": {},
   "outputs": [],
   "source": [
    "@client.tree.command(name=\"wert\")\n",
    "async def hallo(\n",
    "    interaction: discord.Interaction, wert: app_commands.Range[int, 0, 100]\n",
    "):\n",
    "    \"\"\"Sagt dir einen Wert.\"\"\"\n",
    "    await interaction.response.send_message(f\"Dein Wert ist {wert}!\")"
   ]
  },
  {
   "cell_type": "markdown",
   "metadata": {},
   "source": [
    "Bemerke dass nach `app_commands.Range` eckige Klammern statt runde Klammern benutzt werden müssen. `app_commands.Range[int, 0, 100]` gibt uns einen Integer 0 <= x <= 100.\n",
    "\n",
    "Wenn man nur bestimmte Möglichkeiten anbeiten möchte, müssen wir noch etwas importieren:"
   ]
  },
  {
   "cell_type": "code",
   "execution_count": null,
   "metadata": {},
   "outputs": [],
   "source": [
    "from typing import Literal\n",
    "\n",
    "\n",
    "@client.tree.command(name=\"obst\")\n",
    "async def obst(\n",
    "    interaction: discord.Interaction, fruit: Literal[\"Äpfel\", \"Bananen\", \"Erdbeeren\"]\n",
    "):\n",
    "    await interaction.response.send_message(f\"Dein Lieblingsobst: {fruit}!\")"
   ]
  },
  {
   "cell_type": "markdown",
   "metadata": {},
   "source": [
    "---\n",
    "\n",
    "## Context Menus"
   ]
  },
  {
   "cell_type": "markdown",
   "metadata": {},
   "source": [
    "Neulich hat Discord sogenannte Context-Menus für Bots hinzugefügt. Im Beispielserver habe ich einen definiert, der eine kurze Infonachricht erstellet, wenn man einen Benutzer auswählt:\n",
    "\n",
    "![context-menu auf user beispiel](../images/discordpy/context-menu-example.png)\n",
    "\n",
    "Man kann sie aber auch für Nachrichten schreiben:\n",
    "\n",
    "![context-menu auf nachricht beispiel](../images/discordpy/context-menu-message-example.png)\n",
    "\n",
    "Diese zu schreiben, geht relativ leicht. Wir müssen nur statt `@client.tree.command` dann `@client.tree.context_menu` benutzen und als Parameter eine Interaction und entweder eine Nachricht (`discord.Message`) oder einen Benutzer (`discord.Member`)."
   ]
  },
  {
   "cell_type": "code",
   "execution_count": null,
   "metadata": {},
   "outputs": [],
   "source": [
    "async def get_user_info_embed(member: discord.Member) -> discord.Embed:\n",
    "    pass  # länger und komplizierter\n",
    "\n",
    "\n",
    "@client.tree.context_menu(name=\"Info\")\n",
    "async def info(interaction: discord.Interaction, member: discord.Member):\n",
    "    embed = await get_user_info_embed(member)\n",
    "    await interaction.response.send_message(\"\", embed=embed)"
   ]
  },
  {
   "cell_type": "code",
   "execution_count": null,
   "metadata": {},
   "outputs": [],
   "source": [
    "@client.tree.context_menu(name=\"Absendezeit\")\n",
    "async def absendezeit(interaction: discord.Interaction, message: discord.Message):\n",
    "    await interaction.response.send_message(\n",
    "        f\"<t:{round(message.created_at.timestamp())}:F>, <t:{round(message.created_at.timestamp())}:R>\"\n",
    "    )"
   ]
  },
  {
   "cell_type": "markdown",
   "metadata": {},
   "source": [
    "---\n",
    "\n",
    "## Rechte\n",
    "\n",
    "Bei Slash-Commands und Context-Menus kann es mal passieren, dass du diese so einstellen willst, dass nur manche Benutzer sie benuzten können. \n",
    "\n",
    "Dazu gibt es einige Möglichkeiten, die alle verschieden sind.\n",
    "\n",
    "### Möglichkeit 1: Empfohlene Rechte im Programm definieren\n",
    "\n",
    "Indem du vor deiner Definition `@app_commands.default_permissions()` hinzufügst, kannst du Discord (auf Englisch) sagen, welche Rechte man haben muss, um den Command ausführen zu können.\n",
    "\n",
    "Eine Liste der möglichen Rechte lässt sich [hier](https://discordpy.readthedocs.io/en/stable/api.html#discord.Permissions) finden."
   ]
  },
  {
   "cell_type": "code",
   "execution_count": null,
   "metadata": {},
   "outputs": [],
   "source": [
    "@client.tree.command(name=\"ban\")\n",
    "@app_commands.default_permissions(manage_messages=True)\n",
    "async def ban(interaction: discord.Interaction, member: discord.Member):\n",
    "    await member.ban()\n",
    "    await interaction.response.send_message(f\"{member.name} gebannt.\")"
   ]
  },
  {
   "cell_type": "markdown",
   "metadata": {},
   "source": [
    "Leider hat dieser Ansatz auch Nachteile, die bei der zweiten Möglichkeit deutlich werden:\n",
    "\n",
    "### Möglichkeit 2: Bei Discord direkt einstellen\n",
    "\n",
    "Wenn man in der Servereinstellungen geht, kann man dort Bots unter Integrationen verwalten:\n",
    "\n",
    "![Servereinstellungen -> Integrationen -> BeispielBot -> Verwalten](../images/discordpy/manage-bot-integration.png)\n",
    "\n",
    "Dort kann man dann für jeden Befehl einzel Rechte festlegen - **und die aus Möglichkeit 1 sogar überschreiben**. Deshalb ist Möglichkeit 1 immer nur eine Empfehlung an Discord - nicht verpflichtend.\n",
    "\n",
    "Ein Nachteil dieser Möglichkeit, ist dass man dann mit einem solchen hässlichen 'Nicht synchronisiert' leben muss:\n",
    "\n",
    "![Nicht synchronisiert warnung](../images//discordpy/not-synced-warning.png)\n",
    "\n",
    "### Möglichkeit 3: Verpflichtend im Code festlegen\n",
    "\n",
    "Wir können die Rechte auch im Code selber verpflichtend festlegen. Das machen wir wie bei Möglichkeit 1, nur mit einem etwas anderem Decorator:"
   ]
  },
  {
   "cell_type": "code",
   "execution_count": null,
   "metadata": {},
   "outputs": [],
   "source": [
    "@client.tree.command(name=\"ban\")\n",
    "@app_commands.checks.has_permissions(manage_messages=True)\n",
    "async def ban(interaction: discord.Interaction, member: discord.Member):\n",
    "    await member.ban()\n",
    "    await interaction.response.send_message(f\"{member.name} gebannt.\")"
   ]
  },
  {
   "cell_type": "markdown",
   "metadata": {},
   "source": [
    "So können zwar Leute, die die Rechte nicht haben, trotzdem den Command sehen und abschicken, aber er gibt eine Fehlermeldung zurück:\n",
    "\n",
    "![Anwendung reagiert nicht Fehlermeldung](../images/discordpy/integration-didnt-respond-error.png)\n",
    "\n",
    "Diese können wir selber ändern, indem wir eine Funktion mit einem Decorator `@command_name.error` definieren (einen sogenannten 'Error Handler'):"
   ]
  },
  {
   "cell_type": "code",
   "execution_count": null,
   "metadata": {},
   "outputs": [],
   "source": [
    "@ban.error\n",
    "async def ban_error(\n",
    "    interaction: discord.Interaction, error: app_commands.AppCommandError\n",
    "):\n",
    "    if isinstance(\n",
    "        error, app_commands.MissingPermissions\n",
    "    ):  # überprüft ob error von app_commands.MissingPermissions kommt\n",
    "        await interaction.response.send_message(\n",
    "            \"Dazu fehlen dir die Rechte!\", ephemeral=True\n",
    "        )"
   ]
  },
  {
   "cell_type": "markdown",
   "metadata": {},
   "source": [
    "Oder gleich für alle Slash-Commands, dann mit `@client.tree.error`:"
   ]
  },
  {
   "cell_type": "code",
   "execution_count": null,
   "metadata": {},
   "outputs": [],
   "source": [
    "@client.tree.error\n",
    "async def error(interaction: discord.Interaction, error: app_commands.AppCommandError):\n",
    "    if isinstance(error, app_commands.MissingPermissions):\n",
    "        await interaction.response.send_message(\n",
    "            \"Dazu fehlen dir die Rechte!\", ephemeral=True\n",
    "        )"
   ]
  },
  {
   "cell_type": "markdown",
   "metadata": {},
   "source": [
    "![Farbe schöne fehlermeldung](../images/discordpy/farbe-error-message.png)\n",
    "\n",
    "---\n",
    "\n",
    "## Voice\n",
    "\n",
    "Es könnte auch passieren, dass wir wollen, dass unser Bot Ton abspielt. \n",
    "\n",
    "Das ist eigentlich ein bisschen komplizierter - man müsste ein paar Sachen installieren ([ffmpeg](https://ffmpeg.org/download.html), und auf Linux auch `libffi`, `libnacl` und `python3-dev`; alle mit `apt` verfügbar). Bei Binder und unserem gemeinsamen Repl habe ich alles schon installiert, sonst muss man es selbst installieren.\n",
    "\n",
    "Um Ton abschicken zu können, brauchen wir einen [`discord.VoiceClient`](https://discordpy.readthedocs.io/en/stable/api.html#voiceclient). Diesen bekommen wir, indem wir [`discord.VoiceChannel.join()`](https://discordpy.readthedocs.io/en/stable/api.html#discord.VoiceChannel.connect) aufrufen.\n",
    "\n",
    "Dann müssen wir zuerst ein [`discord.VoiceChannel`](https://discordpy.readthedocs.io/en/stable/api.html#discord.VoiceChannel)-Objekt erhalten. \n",
    "\n",
    "### [`VoiceChannel`](https://discordpy.readthedocs.io/en/stable/api.html#discord.VoiceChannel)\n",
    "\n",
    "Dazu kannst du entweder `discord.Member.voice.channel` abfragen, wenn du ein `Member`-Objekt hast (!= `User`), oder mit `voice_channel: discord.VoiceChannel` bei einem Slash-Command das als Argument erfordern.  \n",
    "Natürlich kannst du auch mit der ID eines Kanals diesen im Code festlegen (`discord.Client.fetch_channel(id)`).\n",
    "\n",
    "### [`VoiceClient`](https://discordpy.readthedocs.io/en/stable/api.html#voiceclient)\n",
    "\n",
    "Wenn wir unsere `VoiceChannel` jetzt haben, müssen wir noch beitreten. Dazu rufen wir `VoiceChannel.connect` auf, und erhalten ein `VoiceClient`-Objekt zurück.\n",
    "\n",
    "Am einfachten ist es, gleich in der selben Funktion mit diesem Objekt weiterzuarbeiten, aber wenn du es doch mal in einer anderen Funktion brauchst, kannst du es mit [`discord.Client.voice_clients`](https://discordpy.readthedocs.io/en/stable/api.html#discord.Client.voice_clients)`[0]` abrufen - `client.voice_clients` gibt uns eine Liste, von der wir das erste Element nehmen.\n",
    "\n",
    "Doch `client.voice_clients[0]` funktioniert nur, wenn wir nur in einem Sprachkanal sind - sobald wir in zwei Servern sind und theoretisch in zwei Sprachkanäle gleichzeitig sein könnten, brauchen wir eine andere Lösung.\n",
    "\n",
    "Dazu sollte man für jedes `VoiceClient` in `voice_clients` überprüfen, ob `VoiceClient.guild == interaction.guild` gilt. Das könnte man in einem `for`-loop machen, oder die folgende Kurzschreibweise benuzten:\n",
    "```python\n",
    "[vc for vc in client.voice_clients if vc.guild == interaction.guild][0]  # holt den VoiceClient für den jeweiligen Server\n",
    "```\n",
    "\n",
    "Dies ist eine Schreibweise, die wir im Kurs nicht behandeln, da man sie auch anders schreiben könnte.\n",
    "\n",
    "### [`FFmpegPCMAudio`](https://discordpy.readthedocs.io/en/stable/api.html?highlight=ffm#discord.FFmpegPCMAudio)\n",
    "\n",
    "Wenn wir unseren VoiceClient haben, ist unser Bot schon in einem Sprachkanal. Jetzt müsen wir nur noch Ton abspielen.\n",
    "\n",
    "Dazu brauchst du deine Tondateien im `.mp3`-Format.\n",
    "\n",
    "Wenn du das gemacht hast und alles nötige installiert hast (s. [##Voice](#voice)), musst du nur noch `VoiceClient.play(discord.FFmpegPCMAudio(\"pfad_zu_ton/ton.mp3\"))` ausführen. Dann läuft dein Ton **im Hintergrund** weiter. Dein Programm läuft trotzdem weiter.\n",
    "\n",
    "### Abschluss\n",
    "\n",
    "Wenn du etwas machen willst, nachdem dein Ton zuende abgespielt wurde, kannst warten, bis `VoiceClient.is_playing()` nicht mehr stimmt. Da wir `time.sleep` vermeiden sollten, weil der Bot in dieser Zeit nichts anderes machen kann, könnte man das so schreiben:\n",
    "```python\n",
    "while VoiceClient.is_playing():\n",
    "    await asyncio.sleep(0.1)\n",
    "\n",
    "```\n",
    "\n",
    "Wenn du fertig bist, solltest du `VoiceClient.disconnect()` aufrufen, um den Sprachkanal wieder zu verlassen."
   ]
  },
  {
   "cell_type": "markdown",
   "metadata": {},
   "source": [
    "---\n",
    "\n",
    "## Ratelimits\n",
    "\n",
    "Discord stellt die Bot-API kostenlos für alle zur Verfügung - macht aber kein Geld damit. Aus diesem Grund hat sie ein paar Eingrenzungen, an die wir uns halten müssen.\n",
    "\n",
    "Ein Ratelimit gibt an, wie häufig wir etwas machen können. Das sollte bei unseren Bots kein Problem sein - discord.py soll das eigentlich selber im Blick halten. \n",
    "\n",
    "Es kann jedoch mal passieren, dass beim Starten vom Bot eine solche Nachricht erscheint:\n",
    "```\n",
    "discord.http We are being rate limited. PUT https://discord.com/api/v10/applications/956597462905278605/guilds/956666111989010533/commands responded with 429. Retrying in 48.27 seconds.\n",
    "```\n",
    "\n",
    "> responded with 429\n",
    "\n",
    "429 ist der HTTP-Status für Ratelimts. \n",
    "\n",
    "> Retrying in 48.27 seconds.\n",
    "\n",
    "Der Bot weiß, wann er sich einloggen kann, und versucht es dann nochmal.\n",
    "\n",
    "---\n",
    "\n",
    "Bei replit.com kann es auch mal passieren, dass replit selbst von Discord ein Ratelimit erhält - dies sieht man in Form einer längeren roten Fehlermeldung in der Konsole. Wenn ich daran denke, füge ich hier noch ein beispiel ein:\n",
    "\n",
    "Nicht daran gedacht, wird schon klar.\n",
    "\n",
    "Um dies zu lösen, musst du nur über der Konsole 'Shell' auswählen:\n",
    "\n",
    "![replit shell knopf über der konsole](../images/discordpy/replit-select-shell.png)\n",
    "\n",
    "Dort musst du nur `kill 1` eingeben, dann kannst du zurück zur Konsole."
   ]
  },
  {
   "cell_type": "markdown",
   "metadata": {},
   "source": [
    "---\n",
    "\n",
    "## Abschluss\n",
    "\n",
    "Damit weißt du schon alles, was du wissen musst, um einen vernünftigen Bot zu schreiben. Viel Spaß!"
   ]
  }
 ],
 "metadata": {
  "kernelspec": {
   "display_name": "Python 3 (ipykernel)",
   "language": "python",
   "name": "python3"
  },
  "language_info": {
   "codemirror_mode": {
    "name": "ipython",
    "version": 3
   },
   "file_extension": ".py",
   "mimetype": "text/x-python",
   "name": "python",
   "nbconvert_exporter": "python",
   "pygments_lexer": "ipython3",
   "version": "3.10.1"
  },
  "vscode": {
   "interpreter": {
    "hash": "2e4490693bfb405fcb86983b0bf00700f02db273da556b2a4f05c8e5d3c68815"
   }
  }
 },
 "nbformat": 4,
 "nbformat_minor": 2
}

{
 "cells": [
  {
   "cell_type": "markdown",
   "metadata": {},
   "source": [
    "# Discord-Bots mit Python - Bots"
   ]
  },
  {
   "cell_type": "markdown",
   "metadata": {},
   "source": [
    "*Vorkenntnisse: Python-Grundkenntnisse, datetime, dictionaries, floats, replit, environment_vars, alternative_import*\n",
    "\n",
    "replit-Inhalte befinden sich an passenden stellen zwischen anderen Inhalten."
   ]
  },
  {
   "cell_type": "markdown",
   "metadata": {},
   "source": [
    "---\n",
    "\n",
    "## Begriffe\n",
    "\n",
    "Hier sind ein paar Discord-Begrifflichekiten aufgezählt, die dir vielleicht begegnen werden:\n",
    "\n",
    "- `channel` - Ein Kanal.\n",
    "- `context_menu` - Ein slash-command, der mit Rechtsclick auf einen Benuzter / eine Nachricht benutzt werden kann. Im Beispielserver gibt es bei Benutzern `info`.\n",
    "- `guild` - Ein Server.\n",
    "- `id` - Jedes Objekt hat bei Discord eine `id`. Du kannst sie mit Rechtsclick -> 'ID kopieren' kopieren. Ist in discord.py immer ein Integer.\n",
    "- `intents` - Erlauben Zugriff auf 'Sonderrechte'. Müssen im [Discord Developer Portal](https://discord.com/developers/applications) unter 'Privileged Gateway Intents' aktiviert werden.\n",
    "- `mention` - Ein Ping, wie @discordusername.\n",
    "- `message` - Eine Nachricht.\n",
    "- `slash-command` - Ein Befehl, der mit / anfängt. Lässt sich ziemlich frei konfigurieren.\n",
    "- `user` / `member` - Ein Discord-Benutzer oder Bot."
   ]
  },
  {
   "cell_type": "markdown",
   "metadata": {},
   "source": [
    "---\n",
    "\n",
    "## Setup\n",
    "\n",
    "Bei `TOKEN = \"<hier>\"` kannst du deinen Token eingeben."
   ]
  },
  {
   "cell_type": "code",
   "execution_count": null,
   "metadata": {},
   "outputs": [],
   "source": [
    "import discord\n",
    "\n",
    "# repariert Bots in Notebooks\n",
    "import nest_asyncio\n",
    "\n",
    "import bleib_an\n",
    "\n",
    "nest_asyncio.apply()\n",
    "\n",
    "# discord.py-Version\n",
    "if discord.__version__ >= \"2.0.0\":\n",
    "    print(\"Kompatible discord.py-Version erkannt!\")\n",
    "    from discord import app_commands\n",
    "else:\n",
    "    print(\n",
    "        f\"Die discord.py-Version {discord.__version__} wird leider nicht unterstützt. Bitte installiere discord.py >= 2.0.0.\"\n",
    "    )\n",
    "\n",
    "\n",
    "TOKEN = \"<hier>\""
   ]
  },
  {
   "cell_type": "markdown",
   "metadata": {},
   "source": [
    "Die discord.py-Bibliotek ist vielseitig und kompliziert - der Hinweis vom Anfang, dass man sich nicht alles merken muss, gilt hier besonders. Wenn Fragen aufkommen, hast du einige Möglichkeiten:\n",
    "\n",
    "1. Mich fragen - Ich weiß aber auch nicht alles und werde selber einiges nachschauen.\n",
    "2. In der [Dokumentation](https://discordpy.readthedocs.io/en/latest/) gucken. Mit der Suchleiste oben rechts kann man nach fast allem aus der Bibliotek suchen - aber nicht nach ausformulierten fragen wie bei Google.\n",
    "3. Diese Datei durchsuchen.\n",
    "4. Suchmaschine deiner Wahl - aber bedenke, dass diese Version (2.0) der Bibliotek noch relativ neu ist. Heute, während ich das hier schreibe, ist sie noch in der Beta. Dementsprechend gibt es relativ wenige gute Quellen.\n",
    "5. Wenn alle anderen Möglichkeiten nicht geholfen haben, gibt es den [offiziellen Discord-Server](https://discord.gg/dpy).\n",
    "\n",
    "---\n",
    "\n",
    "# `async`\n",
    "\n",
    "Bis jetzt liefen unsere Programme immer linear ab. Wenn wir `time.sleep(60)` schreiben, passiert gar nichts.\n",
    "\n",
    "Bei Discord-Bots, die manchmal auf zwei Befehle gleichzeitig antworten sollen, ist das nicht gerade ideal. Deshalb gibt es ein System Namens `async`, dass uns erlaubt, mehrere Sachen fast gleichzeitig auszuführen. Wir können z.B. während eine Funktion wartet eine andere ausführen.\n",
    "\n",
    "Erstmal musst du nur wissen, dass wir jetzt zwischen `sync`-Funktionen und `async`-Funktionen unterscheiden müssen. \n",
    "\n",
    "`sync`-Funktionen sind die, die wir kennen. Sie werden mit `def name(parameter):` definiert und mit `name()` aufgerufen. \n",
    "\n",
    "`async`-Funktionen sind neu. Sie werden mit `async def name(parameter):` definiert und mit `await name()` aufgerufen. Sie können nur von innerhalb anderen `async`-Funktionen aufgerufen werden.\n",
    "\n",
    "Man kann sich eine Schleife vorstellen, die 'Event Loop` heißt. In dieser Schleife trägt unser Programm alles nötige ein, was passieren muss. "
   ]
  },
  {
   "cell_type": "markdown",
   "metadata": {},
   "source": [
    "---\n",
    "\n",
    "## Vorlage\n",
    "\n",
    "Wir sollten unsere Bots in diesem Notebook testen können. Das ist nicht ganz ideal, aber müsste funktionieren. Um ihn zu beenden, wenn du ihn vielleicht verändern möchtest, kannst du oben in der Leiste auf das Stopp-Symbol clicken:\n",
    "\n",
    "![Stopp-Knopf oben in der Leiste](../images/discordpy/stop-program.png)\n",
    "\n",
    "Dies wird unsere Bot-Vorlage sein, auf der wir unsere Bots aufbauen können - führe Sie noch nicht aus:"
   ]
  },
  {
   "cell_type": "code",
   "execution_count": null,
   "metadata": {},
   "outputs": [],
   "source": [
    "bleib_an.start()\n",
    "\n",
    "intents = discord.Intents.default()\n",
    "client = discord.Client(intents=intents)\n",
    "client.tree = app_commands.CommandTree(client)\n",
    "\n",
    "\n",
    "@client.event\n",
    "async def on_ready():\n",
    "    print(f\"Eingeloggt als {client.user}.\")\n",
    "\n",
    "\n",
    "@client.event\n",
    "async def setup_hook():\n",
    "    await client.tree.sync()\n",
    "\n",
    "\n",
    "client.run(TOKEN)"
   ]
  },
  {
   "cell_type": "markdown",
   "metadata": {},
   "source": [
    "Das kann auf den ersten Blick ziemlich kompliziert aussehen - gehen wir doch mal Zeile für Zeile durch.\n",
    "\n",
    "```python\n",
    "bleib_an.start()\n",
    "```\n",
    "Was genau das hier macht, kann uns relativ egal sein. Wir brauchen es aber, damit unser Bot auf replit.com nicht ausgeht. Dazu später in dieser Datei mehr.\n",
    "```python\n",
    "intents = discord.Intents.default()\n",
    "```\n",
    "Intents erlauben Zugriff auf bestimmte 'Sonderrechte' - z.B. den Inhalt von Nachrichten lesen zu können. Hier erzeugen wir eine Variable `intents`, die die default Intents speichert, weil wir diese gleich brauchen.\n",
    "\n",
    "```python\n",
    "client = discord.Client(intents=intents)\n",
    "```\n",
    "Hier erstellen wir mithilfe von unseren `intents` unseren `client`. Ein `client` ist ein Objekt, dass die Verbindung zwischen unserem Programm und Discord verwaltet und in unserem Programm den Bot darstellt.\n",
    "\n",
    "```python\n",
    "client.tree = app_commands.CommandTree(client)\n",
    "```\n",
    "Hier erstellen wir einen `CommandTree`. Dieser kommt aus dem `app_commands` (denke Slash Commands) Modul und stellt in unserem Programm unsere Sammlung aus Slash Commands und Context Menus dar.\n",
    "```python\n",
    "@client.event\n",
    "```\n",
    "Dies ist ein sog. Decorator. Wenn du die Decorator-Erweiterung nicht gemacht hast, ist das kein Problem.\n",
    "\n",
    "Erstmal müssen wir nur wissen, dass wenn Discord unseren Bot über etwas informiert (=> einen Event auslöst), discord.py zuerst guckt, ob wir eine Funktion definiert haben, die mit diesem Event umgehen kann. Um das zu tun, müssen wir eine Coroutine aus [dieser Liste](https://discordpy.readthedocs.io/en/latest/api.html?highlight=client%20event#discord-api-events) definieren und davor `@client.event` schreiben. `@client.event` sagt discord.py dabei, dass diese Funktion mit einer Art von Event umgehen soll.\n",
    "```python\n",
    "async def on_ready():\n",
    "    print(f\"Eingeloggt als {client.user}.\")\n",
    "```\n",
    "Durch `@client.event` weiß discord.py, dann `on_ready` aufgerufen werden soll, sobald der Bot bereit ist, Befehle anzunehmen. Wenn dies der Fall ist, drucken wir eine Nachricht in die Konsole, die den Namen von unserem Bot nennt.\n",
    "```python\n",
    "@client.event\n",
    "async def setup_hook():\n",
    "```\n",
    "Jetzt definieren wir mit `@client.event` wieder eine Funktion, die zu einem bestimmten Zeitpunkt aufgerufen werden soll. Wann genau dieser Zeitpunkt ist, ist für uns nicht so wichtig - solange die nächste Zeile dann ausgeführt wird.\n",
    "```python\n",
    "await client.tree.sync()\n",
    "```\n",
    "Dies ist unser Sychronissationsbefehl. Er sagt unserem Programm, dass er Discord alles über unsere slash-commands sagen soll. \n",
    "```python\n",
    "client.run(TOKEN)\n",
    "```\n",
    "Jetzt müssen wir nur noch unseren Bot so starten. Diese Zeile muss immer die letzte in unserem Programm sein und ist 'blocking' - das heißt, dass Code nach ihr nicht mehr ausgeführt wird. Sie startet unseren Event Loop.\n",
    "\n",
    "---\n",
    "\n",
    "## Datentypen\n",
    "\n",
    "Es gibt in der discord.py-Bibliotek verschiedene Datentypen, die wir kennen sollten.\n",
    "\n",
    "Ich habe in den Codeblocken dargestellt, wie man ein solches Objekt erzeugen kann - aber mehr Informationen zur Benutzung findest du in der Dokumentation."
   ]
  },
  {
   "cell_type": "markdown",
   "metadata": {},
   "source": [
    "### [`discord.Guild`](https://discordpy.readthedocs.io/en/latest/api.html?highlight=guild#discord.Guild)\n",
    "\n",
    "Ein `Guild` kennen wir als Server."
   ]
  },
  {
   "cell_type": "code",
   "execution_count": null,
   "metadata": {},
   "outputs": [],
   "source": [
    "async def guild_from_id(guild_id: int) -> discord.Guild:\n",
    "    return await client.fetch_guild(guild_id)"
   ]
  },
  {
   "cell_type": "markdown",
   "metadata": {},
   "source": [
    "### [`discord.TextChannel`](https://discordpy.readthedocs.io/en/latest/api.html?highlight=discord%20channel#discord.TextChannel) / [`discord.VoiceChannel`](https://discordpy.readthedocs.io/en/latest/api.html?highlight=discord%20channel#discord.VoiceChannel)\n",
    "\n",
    "Ein `Channel` ist ein Kanal - sowohl innerhalb eines `Guild`s als auch eine Privatnachricht. Wir müssen zwischen Textkanälen (`TextChannel`) und Sprachkanälen (`VoiceChannel`) unterscheiden."
   ]
  },
  {
   "cell_type": "code",
   "execution_count": null,
   "metadata": {},
   "outputs": [],
   "source": [
    "async def channel_from_id(\n",
    "    channel_id: int,\n",
    ") -> discord.TextChannel | discord.VoiceChannel:\n",
    "    return await client.fetch_channel(channel_id)"
   ]
  },
  {
   "cell_type": "markdown",
   "metadata": {},
   "source": [
    "### [`discord.Member`](https://discordpy.readthedocs.io/en/latest/api.html?highlight=member#discord.Member) / [`discord.User`](https://discordpy.readthedocs.io/en/latest/api.html?highlight=user#discord.User)\n",
    "\n",
    "Stellt einen Discord-Benutzer dar. Jeder Benutzer ist ein `User`, und `Member`s sind `User` in einem `Guild`."
   ]
  },
  {
   "cell_type": "code",
   "execution_count": null,
   "metadata": {},
   "outputs": [],
   "source": [
    "async def user_from_id(user_id: int) -> discord.User:\n",
    "    return await client.fetch_user(user_id)\n",
    "\n",
    "\n",
    "async def member_from_id(guild: discord.Guild, member_id: int) -> discord.Member:\n",
    "    return await guild.get_member(member_id)"
   ]
  },
  {
   "cell_type": "markdown",
   "metadata": {},
   "source": [
    "### [`discord.Message`](https://discordpy.readthedocs.io/en/latest/api.html?highlight=message#discord.Message)\n",
    "\n",
    "Eine `Message` ist eine Nachricht. "
   ]
  },
  {
   "cell_type": "code",
   "execution_count": null,
   "metadata": {},
   "outputs": [],
   "source": [
    "async def message_from_id(channel: discord.TextChannel, message_id: int):\n",
    "    return await channel.fetch_message(message_id)"
   ]
  },
  {
   "cell_type": "markdown",
   "metadata": {},
   "source": [
    "### [`discord.Intents`](https://discordpy.readthedocs.io/en/latest/api.html?highlight=intents#discord.Intents)\n",
    "\n",
    "Wie jetzt schon mehrmals beschrieben, geben Intents deinem Bot besondere Rechte. Hier ein Beispiel mit allen:"
   ]
  },
  {
   "cell_type": "code",
   "execution_count": null,
   "metadata": {},
   "outputs": [],
   "source": [
    "intents = discord.Intents.default()\n",
    "intents.message_content = True  # der Bot darf den Inhalt von allen Nachrichten lese\n",
    "intents.presences = True  # der Bot erhält status-updates -> \"xyz spielt / hört abc\"\n",
    "intents.members = (\n",
    "    True  # der Bot bekommt mit, wenn jemand den Server beitritt / verlässt\n",
    ")"
   ]
  },
  {
   "cell_type": "markdown",
   "metadata": {},
   "source": [
    "### [`discord.Client`](https://discordpy.readthedocs.io/en/latest/api.html?highlight=client#discord.Client)\n",
    "\n",
    "Ein `Client` stellt die Verbindung zwischen Python und Discord dar. Du musst ihn am Anfang (mit Intents) erstellen und am Ende `client.run()` ausführen."
   ]
  },
  {
   "cell_type": "code",
   "execution_count": null,
   "metadata": {},
   "outputs": [],
   "source": [
    "client = discord.Client(intents=intents)"
   ]
  },
  {
   "cell_type": "markdown",
   "metadata": {},
   "source": [
    "## Slash Commands"
   ]
  },
  {
   "cell_type": "markdown",
   "metadata": {},
   "source": [
    "### [`discord.Interaction`](https://discordpy.readthedocs.io/en/latest/interactions/api.html?highlight=interaction#discord.Interaction)"
   ]
  },
  {
   "cell_type": "code",
   "execution_count": null,
   "metadata": {},
   "outputs": [],
   "source": []
  }
 ],
 "metadata": {
  "kernelspec": {
   "display_name": "Python 3.10.1 ('venv': venv)",
   "language": "python",
   "name": "python3"
  },
  "language_info": {
   "codemirror_mode": {
    "name": "ipython",
    "version": 3
   },
   "file_extension": ".py",
   "mimetype": "text/x-python",
   "name": "python",
   "nbconvert_exporter": "python",
   "pygments_lexer": "ipython3",
   "version": "3.10.1"
  },
  "orig_nbformat": 4,
  "vscode": {
   "interpreter": {
    "hash": "2e4490693bfb405fcb86983b0bf00700f02db273da556b2a4f05c8e5d3c68815"
   }
  }
 },
 "nbformat": 4,
 "nbformat_minor": 2
}

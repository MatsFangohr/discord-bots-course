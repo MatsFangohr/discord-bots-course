{
 "cells": [
  {
   "cell_type": "markdown",
   "metadata": {},
   "source": [
    "# Discord-Bots mit Python - Bots"
   ]
  },
  {
   "cell_type": "markdown",
   "metadata": {},
   "source": [
    "*Vorkenntnisse: Python-Grundkenntnisse, datetime, dictionaries, floats, replit, environment_vars*\n",
    "\n",
    "\n",
    "Inhalte:\n",
    " - Programmierung\n",
    "   - discord.py\n",
    "      - Vorlage\n",
    "      - Slash Commands\n",
    "   - ratelimits\n",
    " - Hosting (wahrscheinlich in einer anderen datei)\n",
    "    - replit\n",
    "    - keep-alive\n",
    "    - UptimeRobot"
   ]
  }
 ],
 "metadata": {
  "language_info": {
   "name": "python"
  },
  "orig_nbformat": 4
 },
 "nbformat": 4,
 "nbformat_minor": 2
}

{
 "cells": [
  {
   "cell_type": "markdown",
   "metadata": {},
   "source": [
    "# Hosting (möglichst kostenlos)\n",
    "\n",
    "*Hinweis: Stand August 2022 funktioniert diese Lösung noch. Ob das weiterhin so bleibt, kann ich nicht wissen.*\n",
    "\n",
    "Hosting von Discord-Bots ist nicht schwer, aber es selber zu machen, ist doch eine Menge arbeit. Entweder zuhause auf seinem eigenen PC - obwohl dieser häufig recht viel Strom verbraucht - oder vielleicht auf einem gekaufeten [Raspberry Pi](https://www.raspberrypi.com) - doch dann muss man mit Linux hantieren.\n",
    "\n",
    "Am einfachsten ist es, das Hosting in der Cloud bei Replit zu machen. Das ist für Replit nicht kostenlos, und Discord-Bots auf Replit erhalten auch eingeschränkte Bandbreite - aber diese reicht für unsere Zwecke völlig aus.\n",
    "\n",
    "Es gibt zwei Schritte:\n",
    " 1. `bleib_an.py`\n",
    " 2. UptimeRobot\n",
    "\n",
    "## `bleib_an.py`\n",
    "\n",
    "\n",
    "Öffne zunächst dein Repl. Erstelle dort im selber Ordner wie deine `main.py`-Datei eine `bleib_an.py`-Datei. Da kannst du den folgenden Code hinkopieren:\n",
    "\n",
    "```python\n",
    "from flask import Flask\n",
    "from threading import Thread\n",
    "import logging\n",
    "\n",
    "log = logging.getLogger('werkzeug')\n",
    "log.setLevel(logging.ERROR)\n",
    "\n",
    "app = Flask('bleib_an')\n",
    "\n",
    "@app.route('/')\n",
    "def home():\n",
    "    return \"Webserver läuft.\"\n",
    "\n",
    "def run():\n",
    "  app.run(host='0.0.0.0',port=8080)\n",
    "\n",
    "def start():\n",
    "    t = Thread(target=run)\n",
    "    t.start()\n",
    "```\n",
    "\n",
    "Was genau der Code macht, ist für uns nicht so wichtig - es reicht zu wissen, dass er eine Webseite hostet, die man mit `https://replname.benutzername.repl.co` abrufen kann. \n",
    "\n",
    "Um das zu können, musst du in der `main.py`-Datei aber noch `bleib_an` importieren und `bleib_an.start()` ausführen. Wenn du deinen Bot jetzt neu startest, müsstest du etwas neues erkennen können.\n",
    "\n",
    "## UptimeRobot\n",
    "\n",
    "Damit Replit unser Repl anlässt, müssen wir unsere neu erstellte Webseite regelmäßig (alle 5 Minuten oder so) besuchen. Das wird auf dauer ziemlich nervig, also lassen wir einen Roboter es tun.\n",
    "\n",
    "[Hier](https://uptimerobot.com/signUp) kannst du einen Account erstellen. Dort muss man zwar eine Mail-Addresse angeben - da schicken die nur gelegentlich ein paar Nachrichten hin, von denen man sich dann leicht abmelden kann.\n",
    "\n",
    "Wenn man angemeldet ist, sollte man einen neuen Monitor erstellen:\n",
    "\n",
    "![Add New Monitor, uptimerobot.com](../images/hosting/uptimerobot-new-monitor.png)\n",
    "\n",
    "Diesen solltest du so konfigurieren:\n",
    "\n",
    "![HTTP(S) / MonitorName / https://replname.benutzername.repl.co / alle 5 Minuten / 30s](../images/hosting/uptimerobot-monitor-setup.png)\n",
    "\n",
    "Dann musst du diesen nur noch aktivieren und schon besucht ein Roboter jede 5 Minuten deine Webseit unter https://replname.benutzername.repl.co.\n",
    "\n",
    "Wenn du jetzt deinen Bot anschaltest, das Repl schließt und eine kurze Pause machst, müsstest du danach feststellen können, dass dein Bot noch läuft."
   ]
  }
 ],
 "metadata": {
  "kernelspec": {
   "display_name": "Python 3.10.1 ('venv': venv)",
   "language": "python",
   "name": "python3"
  },
  "language_info": {
   "name": "python",
   "version": "3.10.1"
  },
  "orig_nbformat": 4,
  "vscode": {
   "interpreter": {
    "hash": "2e4490693bfb405fcb86983b0bf00700f02db273da556b2a4f05c8e5d3c68815"
   }
  }
 },
 "nbformat": 4,
 "nbformat_minor": 2
}
